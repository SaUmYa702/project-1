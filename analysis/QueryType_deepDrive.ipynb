{
 "cells": [
  {
   "cell_type": "code",
   "execution_count": 2,
   "id": "7611c922",
   "metadata": {},
   "outputs": [],
   "source": [
    "import pandas as pd\n",
    "import numpy as np\n",
    "import matplotlib.pyplot as plt\n",
    "import seaborn as sns\n",
    "import plotly.express as px"
   ]
  },
  {
   "cell_type": "code",
   "execution_count": 3,
   "id": "99468e9d",
   "metadata": {},
   "outputs": [
    {
     "data": {
      "text/html": [
       "<div>\n",
       "<style scoped>\n",
       "    .dataframe tbody tr th:only-of-type {\n",
       "        vertical-align: middle;\n",
       "    }\n",
       "\n",
       "    .dataframe tbody tr th {\n",
       "        vertical-align: top;\n",
       "    }\n",
       "\n",
       "    .dataframe thead th {\n",
       "        text-align: right;\n",
       "    }\n",
       "</style>\n",
       "<table border=\"1\" class=\"dataframe\">\n",
       "  <thead>\n",
       "    <tr style=\"text-align: right;\">\n",
       "      <th></th>\n",
       "      <th>Source.Name</th>\n",
       "      <th>StateName</th>\n",
       "      <th>DistrictName</th>\n",
       "      <th>BlockName</th>\n",
       "      <th>Sector</th>\n",
       "      <th>Category</th>\n",
       "      <th>Crop</th>\n",
       "      <th>QueryType</th>\n",
       "      <th>QueryText</th>\n",
       "      <th>KccAns</th>\n",
       "      <th>CreatedOn</th>\n",
       "      <th>year</th>\n",
       "      <th>month</th>\n",
       "    </tr>\n",
       "  </thead>\n",
       "  <tbody>\n",
       "    <tr>\n",
       "      <th>0</th>\n",
       "      <td>apr.csv</td>\n",
       "      <td>UTTAR PRADESH</td>\n",
       "      <td>JYOTIBA PHULE NAGAR</td>\n",
       "      <td>JOYA</td>\n",
       "      <td>AGRICULTURE</td>\n",
       "      <td>Sugar and Starch Crops</td>\n",
       "      <td>Sugarcane (Noble Cane)</td>\n",
       "      <td>\\tWater Management\\t</td>\n",
       "      <td>Provide information for irrigation in sugarcan...</td>\n",
       "      <td>à¤¶à¥à¤°à¥à¤®à¤¾à¤¨ à¤à¥ à¤à¤¨à¥à¤¨à¥ à...</td>\n",
       "      <td>04-02-2024 09:14</td>\n",
       "      <td>2024</td>\n",
       "      <td>4</td>\n",
       "    </tr>\n",
       "    <tr>\n",
       "      <th>1</th>\n",
       "      <td>apr.csv</td>\n",
       "      <td>UTTAR PRADESH</td>\n",
       "      <td>JYOTIBA PHULE NAGAR</td>\n",
       "      <td>DHANAURA</td>\n",
       "      <td>HORTICULTURE</td>\n",
       "      <td>Fruits</td>\n",
       "      <td>Papaya</td>\n",
       "      <td>Fertilizer Use and Availability</td>\n",
       "      <td>Information about fertilizer management in pap...</td>\n",
       "      <td>à¤¶à¥à¤°à¥à¤®à¤¾à¤¨ à¤à¥,à¤¸à¥à¤à¥à¤·à¥...</td>\n",
       "      <td>04-02-2024 11:59</td>\n",
       "      <td>2024</td>\n",
       "      <td>4</td>\n",
       "    </tr>\n",
       "    <tr>\n",
       "      <th>2</th>\n",
       "      <td>apr.csv</td>\n",
       "      <td>UTTAR PRADESH</td>\n",
       "      <td>JYOTIBA PHULE NAGAR</td>\n",
       "      <td>AMROHA</td>\n",
       "      <td>HORTICULTURE</td>\n",
       "      <td>Fruits</td>\n",
       "      <td>Mango</td>\n",
       "      <td>\\tPlant Protection\\t</td>\n",
       "      <td>Information about Powdery mildew disease in ma...</td>\n",
       "      <td>à¤¶à¥à¤°à¥à¤®à¤¾à¤¨ à¤à¥ à¤à¤® à¤à¥ à¤ª...</td>\n",
       "      <td>04-02-2024 19:25</td>\n",
       "      <td>2024</td>\n",
       "      <td>4</td>\n",
       "    </tr>\n",
       "    <tr>\n",
       "      <th>3</th>\n",
       "      <td>apr.csv</td>\n",
       "      <td>UTTAR PRADESH</td>\n",
       "      <td>JYOTIBA PHULE NAGAR</td>\n",
       "      <td>JOYA</td>\n",
       "      <td>HORTICULTURE</td>\n",
       "      <td>Fruits</td>\n",
       "      <td>Mango</td>\n",
       "      <td>\\tPlant Protection\\t</td>\n",
       "      <td>Information about fruit setting in mango trees...</td>\n",
       "      <td>à¤¸à¤° à¤à¤ª Naphthalene Acetic Acid 4.5%SL -...</td>\n",
       "      <td>04-03-2024 15:20</td>\n",
       "      <td>2024</td>\n",
       "      <td>4</td>\n",
       "    </tr>\n",
       "    <tr>\n",
       "      <th>4</th>\n",
       "      <td>apr.csv</td>\n",
       "      <td>UTTAR PRADESH</td>\n",
       "      <td>JYOTIBA PHULE NAGAR</td>\n",
       "      <td>AMROHA</td>\n",
       "      <td>AGRICULTURE</td>\n",
       "      <td>Cereals</td>\n",
       "      <td>Wheat</td>\n",
       "      <td>Weather</td>\n",
       "      <td>Farmer asked query on Weather</td>\n",
       "      <td>à¤®à¤¹à¥à¤¦à¤¯ à¤à¥ à¤à¤ª à¤à¥ à¤à¥à¤·...</td>\n",
       "      <td>04-04-2024 19:08</td>\n",
       "      <td>2024</td>\n",
       "      <td>4</td>\n",
       "    </tr>\n",
       "    <tr>\n",
       "      <th>...</th>\n",
       "      <td>...</td>\n",
       "      <td>...</td>\n",
       "      <td>...</td>\n",
       "      <td>...</td>\n",
       "      <td>...</td>\n",
       "      <td>...</td>\n",
       "      <td>...</td>\n",
       "      <td>...</td>\n",
       "      <td>...</td>\n",
       "      <td>...</td>\n",
       "      <td>...</td>\n",
       "      <td>...</td>\n",
       "      <td>...</td>\n",
       "    </tr>\n",
       "    <tr>\n",
       "      <th>45622</th>\n",
       "      <td>sep.csv</td>\n",
       "      <td>UTTAR PRADESH</td>\n",
       "      <td>AMROHA</td>\n",
       "      <td>0</td>\n",
       "      <td>AGRICULTURE</td>\n",
       "      <td>Others</td>\n",
       "      <td>Others</td>\n",
       "      <td>Government Schemes</td>\n",
       "      <td>Information related to loan on Kisan Credit Card?</td>\n",
       "      <td>à¤®à¤¹à¥à¤¦à¤¯ à¤¯à¤¦à¤¿ à¤²à¤¾à¤­à¤¾à¤°à¥à¤...</td>\n",
       "      <td>09-11-2024 12:23</td>\n",
       "      <td>2024</td>\n",
       "      <td>9</td>\n",
       "    </tr>\n",
       "    <tr>\n",
       "      <th>45623</th>\n",
       "      <td>sep.csv</td>\n",
       "      <td>UTTAR PRADESH</td>\n",
       "      <td>AMROHA</td>\n",
       "      <td>0</td>\n",
       "      <td>HORTICULTURE</td>\n",
       "      <td>Fruits</td>\n",
       "      <td>Mango</td>\n",
       "      <td>Vegetative Propagation and Tissue Culture</td>\n",
       "      <td>TELL  ME CONTACT NUMBER OF IARI PUSA DELHI ?</td>\n",
       "      <td>à¤ªà¥à¤¸à¤¾ à¤¦à¤¿à¤²à¥à¤²à¥ à¤à¥ à¤¸à¤à...</td>\n",
       "      <td>09-11-2024 16:32</td>\n",
       "      <td>2024</td>\n",
       "      <td>9</td>\n",
       "    </tr>\n",
       "    <tr>\n",
       "      <th>45624</th>\n",
       "      <td>sep.csv</td>\n",
       "      <td>UTTAR PRADESH</td>\n",
       "      <td>AMROHA</td>\n",
       "      <td>0</td>\n",
       "      <td>HORTICULTURE</td>\n",
       "      <td>Fruits</td>\n",
       "      <td>Mango</td>\n",
       "      <td>Vegetative Propagation and Tissue Culture</td>\n",
       "      <td>Farmer asked about Saharanpur Nursery Contact ...</td>\n",
       "      <td>Saharanpur Nursery of Uttar Pradesh  Contact U...</td>\n",
       "      <td>09-11-2024 16:34</td>\n",
       "      <td>2024</td>\n",
       "      <td>9</td>\n",
       "    </tr>\n",
       "    <tr>\n",
       "      <th>45625</th>\n",
       "      <td>sep.csv</td>\n",
       "      <td>UTTAR PRADESH</td>\n",
       "      <td>AMROHA</td>\n",
       "      <td>0</td>\n",
       "      <td>AGRICULTURE</td>\n",
       "      <td>Cereals</td>\n",
       "      <td>Paddy (Dhan)</td>\n",
       "      <td>Cultural Practices</td>\n",
       "      <td>Farmer asked query on Weather</td>\n",
       "      <td>à¤¶à¥à¤°à¥à¤®à¤¾à¤¨ à¤à¥ à¤®à¥à¤¸à¤® à¤à...</td>\n",
       "      <td>9/15/2024 7:00</td>\n",
       "      <td>2024</td>\n",
       "      <td>9</td>\n",
       "    </tr>\n",
       "    <tr>\n",
       "      <th>45626</th>\n",
       "      <td>sep.csv</td>\n",
       "      <td>UTTAR PRADESH</td>\n",
       "      <td>AMROHA</td>\n",
       "      <td>0</td>\n",
       "      <td>AGRICULTURE</td>\n",
       "      <td>Cereals</td>\n",
       "      <td>Paddy (Dhan)</td>\n",
       "      <td>\\tPlant Protection\\t</td>\n",
       "      <td>About Grain  discolouration in Paddy crops</td>\n",
       "      <td>--à¤®à¤¹à¥à¤¦à¤¯ ,à¤¯à¤¦à¤¿ à¤§à¤¾à¤¨ à¤à¥ ...</td>\n",
       "      <td>9/15/2024 17:22</td>\n",
       "      <td>2024</td>\n",
       "      <td>9</td>\n",
       "    </tr>\n",
       "  </tbody>\n",
       "</table>\n",
       "<p>45627 rows × 13 columns</p>\n",
       "</div>"
      ],
      "text/plain": [
       "      Source.Name      StateName         DistrictName BlockName        Sector  \\\n",
       "0         apr.csv  UTTAR PRADESH  JYOTIBA PHULE NAGAR      JOYA   AGRICULTURE   \n",
       "1         apr.csv  UTTAR PRADESH  JYOTIBA PHULE NAGAR  DHANAURA  HORTICULTURE   \n",
       "2         apr.csv  UTTAR PRADESH  JYOTIBA PHULE NAGAR    AMROHA  HORTICULTURE   \n",
       "3         apr.csv  UTTAR PRADESH  JYOTIBA PHULE NAGAR      JOYA  HORTICULTURE   \n",
       "4         apr.csv  UTTAR PRADESH  JYOTIBA PHULE NAGAR    AMROHA   AGRICULTURE   \n",
       "...           ...            ...                  ...       ...           ...   \n",
       "45622     sep.csv  UTTAR PRADESH               AMROHA         0   AGRICULTURE   \n",
       "45623     sep.csv  UTTAR PRADESH               AMROHA         0  HORTICULTURE   \n",
       "45624     sep.csv  UTTAR PRADESH               AMROHA         0  HORTICULTURE   \n",
       "45625     sep.csv  UTTAR PRADESH               AMROHA         0   AGRICULTURE   \n",
       "45626     sep.csv  UTTAR PRADESH               AMROHA         0   AGRICULTURE   \n",
       "\n",
       "                     Category                    Crop  \\\n",
       "0      Sugar and Starch Crops  Sugarcane (Noble Cane)   \n",
       "1                      Fruits                  Papaya   \n",
       "2                      Fruits                   Mango   \n",
       "3                      Fruits                   Mango   \n",
       "4                     Cereals                   Wheat   \n",
       "...                       ...                     ...   \n",
       "45622                  Others                  Others   \n",
       "45623                  Fruits                   Mango   \n",
       "45624                  Fruits                   Mango   \n",
       "45625                 Cereals            Paddy (Dhan)   \n",
       "45626                 Cereals            Paddy (Dhan)   \n",
       "\n",
       "                                       QueryType  \\\n",
       "0                           \\tWater Management\\t   \n",
       "1                Fertilizer Use and Availability   \n",
       "2                           \\tPlant Protection\\t   \n",
       "3                           \\tPlant Protection\\t   \n",
       "4                                        Weather   \n",
       "...                                          ...   \n",
       "45622                         Government Schemes   \n",
       "45623  Vegetative Propagation and Tissue Culture   \n",
       "45624  Vegetative Propagation and Tissue Culture   \n",
       "45625                         Cultural Practices   \n",
       "45626                       \\tPlant Protection\\t   \n",
       "\n",
       "                                               QueryText  \\\n",
       "0      Provide information for irrigation in sugarcan...   \n",
       "1      Information about fertilizer management in pap...   \n",
       "2      Information about Powdery mildew disease in ma...   \n",
       "3      Information about fruit setting in mango trees...   \n",
       "4                          Farmer asked query on Weather   \n",
       "...                                                  ...   \n",
       "45622  Information related to loan on Kisan Credit Card?   \n",
       "45623      TELL  ME CONTACT NUMBER OF IARI PUSA DELHI ?    \n",
       "45624  Farmer asked about Saharanpur Nursery Contact ...   \n",
       "45625                      Farmer asked query on Weather   \n",
       "45626         About Grain  discolouration in Paddy crops   \n",
       "\n",
       "                                                  KccAns         CreatedOn  \\\n",
       "0      à¤¶à¥à¤°à¥à¤®à¤¾à¤¨ à¤à¥ à¤à¤¨à¥à¤¨à¥ à...  04-02-2024 09:14   \n",
       "1      à¤¶à¥à¤°à¥à¤®à¤¾à¤¨ à¤à¥,à¤¸à¥à¤à¥à¤·à¥...  04-02-2024 11:59   \n",
       "2      à¤¶à¥à¤°à¥à¤®à¤¾à¤¨ à¤à¥ à¤à¤® à¤à¥ à¤ª...  04-02-2024 19:25   \n",
       "3      à¤¸à¤° à¤à¤ª Naphthalene Acetic Acid 4.5%SL -...  04-03-2024 15:20   \n",
       "4      à¤®à¤¹à¥à¤¦à¤¯ à¤à¥ à¤à¤ª à¤à¥ à¤à¥à¤·...  04-04-2024 19:08   \n",
       "...                                                  ...               ...   \n",
       "45622  à¤®à¤¹à¥à¤¦à¤¯ à¤¯à¤¦à¤¿ à¤²à¤¾à¤­à¤¾à¤°à¥à¤...  09-11-2024 12:23   \n",
       "45623  à¤ªà¥à¤¸à¤¾ à¤¦à¤¿à¤²à¥à¤²à¥ à¤à¥ à¤¸à¤à...  09-11-2024 16:32   \n",
       "45624  Saharanpur Nursery of Uttar Pradesh  Contact U...  09-11-2024 16:34   \n",
       "45625  à¤¶à¥à¤°à¥à¤®à¤¾à¤¨ à¤à¥ à¤®à¥à¤¸à¤® à¤à...    9/15/2024 7:00   \n",
       "45626  --à¤®à¤¹à¥à¤¦à¤¯ ,à¤¯à¤¦à¤¿ à¤§à¤¾à¤¨ à¤à¥ ...   9/15/2024 17:22   \n",
       "\n",
       "       year  month  \n",
       "0      2024      4  \n",
       "1      2024      4  \n",
       "2      2024      4  \n",
       "3      2024      4  \n",
       "4      2024      4  \n",
       "...     ...    ...  \n",
       "45622  2024      9  \n",
       "45623  2024      9  \n",
       "45624  2024      9  \n",
       "45625  2024      9  \n",
       "45626  2024      9  \n",
       "\n",
       "[45627 rows x 13 columns]"
      ]
     },
     "execution_count": 3,
     "metadata": {},
     "output_type": "execute_result"
    }
   ],
   "source": [
    "df=pd.read_csv(\"kccdatasets.csv\",encoding='latin-1')\n",
    "df"
   ]
  },
  {
   "cell_type": "code",
   "execution_count": 4,
   "id": "e20cea3b",
   "metadata": {},
   "outputs": [
    {
     "name": "stdout",
     "output_type": "stream",
     "text": [
      "<class 'pandas.core.frame.DataFrame'>\n",
      "RangeIndex: 45627 entries, 0 to 45626\n",
      "Data columns (total 13 columns):\n",
      " #   Column        Non-Null Count  Dtype \n",
      "---  ------        --------------  ----- \n",
      " 0   Source.Name   45627 non-null  object\n",
      " 1   StateName     45627 non-null  object\n",
      " 2   DistrictName  45627 non-null  object\n",
      " 3   BlockName     45627 non-null  object\n",
      " 4   Sector        45627 non-null  object\n",
      " 5   Category      45627 non-null  object\n",
      " 6   Crop          45627 non-null  object\n",
      " 7   QueryType     45627 non-null  object\n",
      " 8   QueryText     45627 non-null  object\n",
      " 9   KccAns        45625 non-null  object\n",
      " 10  CreatedOn     45627 non-null  object\n",
      " 11  year          45627 non-null  int64 \n",
      " 12  month         45627 non-null  int64 \n",
      "dtypes: int64(2), object(11)\n",
      "memory usage: 4.5+ MB\n"
     ]
    }
   ],
   "source": [
    "df.info()"
   ]
  },
  {
   "cell_type": "code",
   "execution_count": 5,
   "id": "4717806d",
   "metadata": {},
   "outputs": [
    {
     "data": {
      "text/plain": [
       "Source.Name     0\n",
       "StateName       0\n",
       "DistrictName    0\n",
       "BlockName       0\n",
       "Sector          0\n",
       "Category        0\n",
       "Crop            0\n",
       "QueryType       0\n",
       "QueryText       0\n",
       "KccAns          2\n",
       "CreatedOn       0\n",
       "year            0\n",
       "month           0\n",
       "dtype: int64"
      ]
     },
     "execution_count": 5,
     "metadata": {},
     "output_type": "execute_result"
    }
   ],
   "source": [
    "df.isnull().sum()"
   ]
  },
  {
   "cell_type": "code",
   "execution_count": 6,
   "id": "2dd2c4fb",
   "metadata": {},
   "outputs": [
    {
     "data": {
      "application/vnd.plotly.v1+json": {
       "config": {
        "plotlyServerURL": "https://plot.ly"
       },
       "data": [
        {
         "hovertemplate": "QueryType=%{x}<br>Count=%{text}<extra></extra>",
         "legendgroup": "Government Schemes",
         "marker": {
          "color": "#636efa",
          "pattern": {
           "shape": ""
          }
         },
         "name": "Government Schemes",
         "orientation": "v",
         "showlegend": true,
         "text": {
          "bdata": "AAAAAACIx0A=",
          "dtype": "f8"
         },
         "textposition": "auto",
         "type": "bar",
         "x": [
          "Government Schemes"
         ],
         "xaxis": "x",
         "y": {
          "bdata": "EC8=",
          "dtype": "i2"
         },
         "yaxis": "y"
        },
        {
         "hovertemplate": "QueryType=%{x}<br>Count=%{text}<extra></extra>",
         "legendgroup": "Weather",
         "marker": {
          "color": "#EF553B",
          "pattern": {
           "shape": ""
          }
         },
         "name": "Weather",
         "orientation": "v",
         "showlegend": true,
         "text": {
          "bdata": "AAAAAIBKxkA=",
          "dtype": "f8"
         },
         "textposition": "auto",
         "type": "bar",
         "x": [
          "Weather"
         ],
         "xaxis": "x",
         "y": {
          "bdata": "lSw=",
          "dtype": "i2"
         },
         "yaxis": "y"
        },
        {
         "hovertemplate": "QueryType=%{x}<br>Count=%{text}<extra></extra>",
         "legendgroup": "\tPlant Protection\t",
         "marker": {
          "color": "#00cc96",
          "pattern": {
           "shape": ""
          }
         },
         "name": "\tPlant Protection\t",
         "orientation": "v",
         "showlegend": true,
         "text": {
          "bdata": "AAAAAADNuEA=",
          "dtype": "f8"
         },
         "textposition": "auto",
         "type": "bar",
         "x": [
          "\tPlant Protection\t"
         ],
         "xaxis": "x",
         "y": {
          "bdata": "zRg=",
          "dtype": "i2"
         },
         "yaxis": "y"
        },
        {
         "hovertemplate": "QueryType=%{x}<br>Count=%{text}<extra></extra>",
         "legendgroup": "\tWater Management\t",
         "marker": {
          "color": "#ab63fa",
          "pattern": {
           "shape": ""
          }
         },
         "name": "\tWater Management\t",
         "orientation": "v",
         "showlegend": true,
         "text": {
          "bdata": "AAAAAAC8qkA=",
          "dtype": "f8"
         },
         "textposition": "auto",
         "type": "bar",
         "x": [
          "\tWater Management\t"
         ],
         "xaxis": "x",
         "y": {
          "bdata": "Xg0=",
          "dtype": "i2"
         },
         "yaxis": "y"
        },
        {
         "hovertemplate": "QueryType=%{x}<br>Count=%{text}<extra></extra>",
         "legendgroup": "Cultural Practices",
         "marker": {
          "color": "#FFA15A",
          "pattern": {
           "shape": ""
          }
         },
         "name": "Cultural Practices",
         "orientation": "v",
         "showlegend": true,
         "text": {
          "bdata": "AAAAAADuokA=",
          "dtype": "f8"
         },
         "textposition": "auto",
         "type": "bar",
         "x": [
          "Cultural Practices"
         ],
         "xaxis": "x",
         "y": {
          "bdata": "dwk=",
          "dtype": "i2"
         },
         "yaxis": "y"
        },
        {
         "hovertemplate": "QueryType=%{x}<br>Count=%{text}<extra></extra>",
         "legendgroup": "Fertilizer Use and Availability",
         "marker": {
          "color": "#19d3f3",
          "pattern": {
           "shape": ""
          }
         },
         "name": "Fertilizer Use and Availability",
         "orientation": "v",
         "showlegend": true,
         "text": {
          "bdata": "AAAAAADGoEA=",
          "dtype": "f8"
         },
         "textposition": "auto",
         "type": "bar",
         "x": [
          "Fertilizer Use and Availability"
         ],
         "xaxis": "x",
         "y": {
          "bdata": "Ywg=",
          "dtype": "i2"
         },
         "yaxis": "y"
        },
        {
         "hovertemplate": "QueryType=%{x}<br>Count=%{text}<extra></extra>",
         "legendgroup": "Nutrient Management",
         "marker": {
          "color": "#FF6692",
          "pattern": {
           "shape": ""
          }
         },
         "name": "Nutrient Management",
         "orientation": "v",
         "showlegend": true,
         "text": {
          "bdata": "AAAAAABcnEA=",
          "dtype": "f8"
         },
         "textposition": "auto",
         "type": "bar",
         "x": [
          "Nutrient Management"
         ],
         "xaxis": "x",
         "y": {
          "bdata": "Fwc=",
          "dtype": "i2"
         },
         "yaxis": "y"
        },
        {
         "hovertemplate": "QueryType=%{x}<br>Count=%{text}<extra></extra>",
         "legendgroup": "Weed Management",
         "marker": {
          "color": "#B6E880",
          "pattern": {
           "shape": ""
          }
         },
         "name": "Weed Management",
         "orientation": "v",
         "showlegend": true,
         "text": {
          "bdata": "AAAAAAAgl0A=",
          "dtype": "f8"
         },
         "textposition": "auto",
         "type": "bar",
         "x": [
          "Weed Management"
         ],
         "xaxis": "x",
         "y": {
          "bdata": "yAU=",
          "dtype": "i2"
         },
         "yaxis": "y"
        },
        {
         "hovertemplate": "QueryType=%{x}<br>Count=%{text}<extra></extra>",
         "legendgroup": "Varieties",
         "marker": {
          "color": "#FF97FF",
          "pattern": {
           "shape": ""
          }
         },
         "name": "Varieties",
         "orientation": "v",
         "showlegend": true,
         "text": {
          "bdata": "AAAAAABckUA=",
          "dtype": "f8"
         },
         "textposition": "auto",
         "type": "bar",
         "x": [
          "Varieties"
         ],
         "xaxis": "x",
         "y": {
          "bdata": "VwQ=",
          "dtype": "i2"
         },
         "yaxis": "y"
        },
        {
         "hovertemplate": "QueryType=%{x}<br>Count=%{text}<extra></extra>",
         "legendgroup": "Sowing Time and Weather",
         "marker": {
          "color": "#FECB52",
          "pattern": {
           "shape": ""
          }
         },
         "name": "Sowing Time and Weather",
         "orientation": "v",
         "showlegend": true,
         "text": {
          "bdata": "AAAAAABgjEA=",
          "dtype": "f8"
         },
         "textposition": "auto",
         "type": "bar",
         "x": [
          "Sowing Time and Weather"
         ],
         "xaxis": "x",
         "y": {
          "bdata": "jAM=",
          "dtype": "i2"
         },
         "yaxis": "y"
        },
        {
         "hovertemplate": "QueryType=%{x}<br>Count=%{text}<extra></extra>",
         "legendgroup": "Seeds and Planting Material",
         "marker": {
          "color": "#636efa",
          "pattern": {
           "shape": ""
          }
         },
         "name": "Seeds and Planting Material",
         "orientation": "v",
         "showlegend": true,
         "text": {
          "bdata": "AAAAAAAgc0A=",
          "dtype": "f8"
         },
         "textposition": "auto",
         "type": "bar",
         "x": [
          "Seeds and Planting Material"
         ],
         "xaxis": "x",
         "y": {
          "bdata": "MgE=",
          "dtype": "i2"
         },
         "yaxis": "y"
        },
        {
         "hovertemplate": "QueryType=%{x}<br>Count=%{text}<extra></extra>",
         "legendgroup": "Post Harvest Preservation",
         "marker": {
          "color": "#EF553B",
          "pattern": {
           "shape": ""
          }
         },
         "name": "Post Harvest Preservation",
         "orientation": "v",
         "showlegend": true,
         "text": {
          "bdata": "AAAAAABgckA=",
          "dtype": "f8"
         },
         "textposition": "auto",
         "type": "bar",
         "x": [
          "Post Harvest Preservation"
         ],
         "xaxis": "x",
         "y": {
          "bdata": "JgE=",
          "dtype": "i2"
         },
         "yaxis": "y"
        },
        {
         "hovertemplate": "QueryType=%{x}<br>Count=%{text}<extra></extra>",
         "legendgroup": "Seeds",
         "marker": {
          "color": "#00cc96",
          "pattern": {
           "shape": ""
          }
         },
         "name": "Seeds",
         "orientation": "v",
         "showlegend": true,
         "text": {
          "bdata": "AAAAAABwcUA=",
          "dtype": "f8"
         },
         "textposition": "auto",
         "type": "bar",
         "x": [
          "Seeds"
         ],
         "xaxis": "x",
         "y": {
          "bdata": "FwE=",
          "dtype": "i2"
         },
         "yaxis": "y"
        },
        {
         "hovertemplate": "QueryType=%{x}<br>Count=%{text}<extra></extra>",
         "legendgroup": "Water Management, Micro Irrigation",
         "marker": {
          "color": "#ab63fa",
          "pattern": {
           "shape": ""
          }
         },
         "name": "Water Management, Micro Irrigation",
         "orientation": "v",
         "showlegend": true,
         "text": {
          "bdata": "AAAAAADAbEA=",
          "dtype": "f8"
         },
         "textposition": "auto",
         "type": "bar",
         "x": [
          "Water Management, Micro Irrigation"
         ],
         "xaxis": "x",
         "y": {
          "bdata": "5gA=",
          "dtype": "i2"
         },
         "yaxis": "y"
        },
        {
         "hovertemplate": "QueryType=%{x}<br>Count=%{text}<extra></extra>",
         "legendgroup": "Market Information",
         "marker": {
          "color": "#FFA15A",
          "pattern": {
           "shape": ""
          }
         },
         "name": "Market Information",
         "orientation": "v",
         "showlegend": true,
         "text": {
          "bdata": "AAAAAACAaEA=",
          "dtype": "f8"
         },
         "textposition": "auto",
         "type": "bar",
         "x": [
          "Market Information"
         ],
         "xaxis": "x",
         "y": {
          "bdata": "xAA=",
          "dtype": "i2"
         },
         "yaxis": "y"
        },
        {
         "hovertemplate": "QueryType=%{x}<br>Count=%{text}<extra></extra>",
         "legendgroup": "Crop Insurance",
         "marker": {
          "color": "#19d3f3",
          "pattern": {
           "shape": ""
          }
         },
         "name": "Crop Insurance",
         "orientation": "v",
         "showlegend": true,
         "text": {
          "bdata": "AAAAAAAgaEA=",
          "dtype": "f8"
         },
         "textposition": "auto",
         "type": "bar",
         "x": [
          "Crop Insurance"
         ],
         "xaxis": "x",
         "y": {
          "bdata": "wQA=",
          "dtype": "i2"
         },
         "yaxis": "y"
        },
        {
         "hovertemplate": "QueryType=%{x}<br>Count=%{text}<extra></extra>",
         "legendgroup": "Credit",
         "marker": {
          "color": "#FF6692",
          "pattern": {
           "shape": ""
          }
         },
         "name": "Credit",
         "orientation": "v",
         "showlegend": true,
         "text": {
          "bdata": "AAAAAAAgYEA=",
          "dtype": "f8"
         },
         "textposition": "auto",
         "type": "bar",
         "x": [
          "Credit"
         ],
         "xaxis": "x",
         "y": {
          "bdata": "gQA=",
          "dtype": "i2"
         },
         "yaxis": "y"
        },
        {
         "hovertemplate": "QueryType=%{x}<br>Count=%{text}<extra></extra>",
         "legendgroup": "Agriculture Mechanization",
         "marker": {
          "color": "#B6E880",
          "pattern": {
           "shape": ""
          }
         },
         "name": "Agriculture Mechanization",
         "orientation": "v",
         "showlegend": true,
         "text": {
          "bdata": "AAAAAACAV0A=",
          "dtype": "f8"
         },
         "textposition": "auto",
         "type": "bar",
         "x": [
          "Agriculture Mechanization"
         ],
         "xaxis": "x",
         "y": {
          "bdata": "Xg==",
          "dtype": "i1"
         },
         "yaxis": "y"
        },
        {
         "hovertemplate": "QueryType=%{x}<br>Count=%{text}<extra></extra>",
         "legendgroup": "\tField Preparation\t",
         "marker": {
          "color": "#FF97FF",
          "pattern": {
           "shape": ""
          }
         },
         "name": "\tField Preparation\t",
         "orientation": "v",
         "showlegend": true,
         "text": {
          "bdata": "AAAAAADAVEA=",
          "dtype": "f8"
         },
         "textposition": "auto",
         "type": "bar",
         "x": [
          "\tField Preparation\t"
         ],
         "xaxis": "x",
         "y": {
          "bdata": "Uw==",
          "dtype": "i1"
         },
         "yaxis": "y"
        },
        {
         "hovertemplate": "QueryType=%{x}<br>Count=%{text}<extra></extra>",
         "legendgroup": "Disease Management",
         "marker": {
          "color": "#FECB52",
          "pattern": {
           "shape": ""
          }
         },
         "name": "Disease Management",
         "orientation": "v",
         "showlegend": true,
         "text": {
          "bdata": "AAAAAACAVEA=",
          "dtype": "f8"
         },
         "textposition": "auto",
         "type": "bar",
         "x": [
          "Disease Management"
         ],
         "xaxis": "x",
         "y": {
          "bdata": "Ug==",
          "dtype": "i1"
         },
         "yaxis": "y"
        },
        {
         "hovertemplate": "QueryType=%{x}<br>Count=%{text}<extra></extra>",
         "legendgroup": "Nursery Management",
         "marker": {
          "color": "#636efa",
          "pattern": {
           "shape": ""
          }
         },
         "name": "Nursery Management",
         "orientation": "v",
         "showlegend": true,
         "text": {
          "bdata": "AAAAAAAAVEA=",
          "dtype": "f8"
         },
         "textposition": "auto",
         "type": "bar",
         "x": [
          "Nursery Management"
         ],
         "xaxis": "x",
         "y": {
          "bdata": "UA==",
          "dtype": "i1"
         },
         "yaxis": "y"
        },
        {
         "hovertemplate": "QueryType=%{x}<br>Count=%{text}<extra></extra>",
         "legendgroup": "Training and Exposure Visits",
         "marker": {
          "color": "#EF553B",
          "pattern": {
           "shape": ""
          }
         },
         "name": "Training and Exposure Visits",
         "orientation": "v",
         "showlegend": true,
         "text": {
          "bdata": "AAAAAABAU0A=",
          "dtype": "f8"
         },
         "textposition": "auto",
         "type": "bar",
         "x": [
          "Training and Exposure Visits"
         ],
         "xaxis": "x",
         "y": {
          "bdata": "TQ==",
          "dtype": "i1"
         },
         "yaxis": "y"
        },
        {
         "hovertemplate": "QueryType=%{x}<br>Count=%{text}<extra></extra>",
         "legendgroup": "Bio-Pesticides and Bio-Fertilizers",
         "marker": {
          "color": "#00cc96",
          "pattern": {
           "shape": ""
          }
         },
         "name": "Bio-Pesticides and Bio-Fertilizers",
         "orientation": "v",
         "showlegend": true,
         "text": {
          "bdata": "AAAAAABAUkA=",
          "dtype": "f8"
         },
         "textposition": "auto",
         "type": "bar",
         "x": [
          "Bio-Pesticides and Bio-Fertilizers"
         ],
         "xaxis": "x",
         "y": {
          "bdata": "SQ==",
          "dtype": "i1"
         },
         "yaxis": "y"
        },
        {
         "hovertemplate": "QueryType=%{x}<br>Count=%{text}<extra></extra>",
         "legendgroup": "Soil Testing",
         "marker": {
          "color": "#ab63fa",
          "pattern": {
           "shape": ""
          }
         },
         "name": "Soil Testing",
         "orientation": "v",
         "showlegend": true,
         "text": {
          "bdata": "AAAAAAAAT0A=",
          "dtype": "f8"
         },
         "textposition": "auto",
         "type": "bar",
         "x": [
          "Soil Testing"
         ],
         "xaxis": "x",
         "y": {
          "bdata": "Pg==",
          "dtype": "i1"
         },
         "yaxis": "y"
        },
        {
         "hovertemplate": "QueryType=%{x}<br>Count=%{text}<extra></extra>",
         "legendgroup": "Vegetative Propagation and Tissue Culture",
         "marker": {
          "color": "#FFA15A",
          "pattern": {
           "shape": ""
          }
         },
         "name": "Vegetative Propagation and Tissue Culture",
         "orientation": "v",
         "showlegend": true,
         "text": {
          "bdata": "AAAAAAAAS0A=",
          "dtype": "f8"
         },
         "textposition": "auto",
         "type": "bar",
         "x": [
          "Vegetative Propagation and Tissue Culture"
         ],
         "xaxis": "x",
         "y": {
          "bdata": "Ng==",
          "dtype": "i1"
         },
         "yaxis": "y"
        },
        {
         "hovertemplate": "QueryType=%{x}<br>Count=%{text}<extra></extra>",
         "legendgroup": "Field Preparation",
         "marker": {
          "color": "#19d3f3",
          "pattern": {
           "shape": ""
          }
         },
         "name": "Field Preparation",
         "orientation": "v",
         "showlegend": true,
         "text": {
          "bdata": "AAAAAAAASEA=",
          "dtype": "f8"
         },
         "textposition": "auto",
         "type": "bar",
         "x": [
          "Field Preparation"
         ],
         "xaxis": "x",
         "y": {
          "bdata": "MA==",
          "dtype": "i1"
         },
         "yaxis": "y"
        },
        {
         "hovertemplate": "QueryType=%{x}<br>Count=%{text}<extra></extra>",
         "legendgroup": "Organic Farming",
         "marker": {
          "color": "#FF6692",
          "pattern": {
           "shape": ""
          }
         },
         "name": "Organic Farming",
         "orientation": "v",
         "showlegend": true,
         "text": {
          "bdata": "AAAAAAAAOkA=",
          "dtype": "f8"
         },
         "textposition": "auto",
         "type": "bar",
         "x": [
          "Organic Farming"
         ],
         "xaxis": "x",
         "y": {
          "bdata": "Gg==",
          "dtype": "i1"
         },
         "yaxis": "y"
        },
        {
         "hovertemplate": "QueryType=%{x}<br>Count=%{text}<extra></extra>",
         "legendgroup": "Dairy Production",
         "marker": {
          "color": "#B6E880",
          "pattern": {
           "shape": ""
          }
         },
         "name": "Dairy Production",
         "orientation": "v",
         "showlegend": true,
         "text": {
          "bdata": "AAAAAAAAOEA=",
          "dtype": "f8"
         },
         "textposition": "auto",
         "type": "bar",
         "x": [
          "Dairy Production"
         ],
         "xaxis": "x",
         "y": {
          "bdata": "GA==",
          "dtype": "i1"
         },
         "yaxis": "y"
        },
        {
         "hovertemplate": "QueryType=%{x}<br>Count=%{text}<extra></extra>",
         "legendgroup": "Disease Reporting",
         "marker": {
          "color": "#FF97FF",
          "pattern": {
           "shape": ""
          }
         },
         "name": "Disease Reporting",
         "orientation": "v",
         "showlegend": true,
         "text": {
          "bdata": "AAAAAAAAOEA=",
          "dtype": "f8"
         },
         "textposition": "auto",
         "type": "bar",
         "x": [
          "Disease Reporting"
         ],
         "xaxis": "x",
         "y": {
          "bdata": "GA==",
          "dtype": "i1"
         },
         "yaxis": "y"
        },
        {
         "hovertemplate": "QueryType=%{x}<br>Count=%{text}<extra></extra>",
         "legendgroup": "Storage",
         "marker": {
          "color": "#FECB52",
          "pattern": {
           "shape": ""
          }
         },
         "name": "Storage",
         "orientation": "v",
         "showlegend": true,
         "text": {
          "bdata": "AAAAAAAAN0A=",
          "dtype": "f8"
         },
         "textposition": "auto",
         "type": "bar",
         "x": [
          "Storage"
         ],
         "xaxis": "x",
         "y": {
          "bdata": "Fw==",
          "dtype": "i1"
         },
         "yaxis": "y"
        },
        {
         "hovertemplate": "QueryType=%{x}<br>Count=%{text}<extra></extra>",
         "legendgroup": "Cattle shed Planning and Management",
         "marker": {
          "color": "#636efa",
          "pattern": {
           "shape": ""
          }
         },
         "name": "Cattle shed Planning and Management",
         "orientation": "v",
         "showlegend": true,
         "text": {
          "bdata": "AAAAAAAANEA=",
          "dtype": "f8"
         },
         "textposition": "auto",
         "type": "bar",
         "x": [
          "Cattle shed Planning and Management"
         ],
         "xaxis": "x",
         "y": {
          "bdata": "FA==",
          "dtype": "i1"
         },
         "yaxis": "y"
        },
        {
         "hovertemplate": "QueryType=%{x}<br>Count=%{text}<extra></extra>",
         "legendgroup": "Soil Health Card",
         "marker": {
          "color": "#EF553B",
          "pattern": {
           "shape": ""
          }
         },
         "name": "Soil Health Card",
         "orientation": "v",
         "showlegend": true,
         "text": {
          "bdata": "AAAAAAAAMkA=",
          "dtype": "f8"
         },
         "textposition": "auto",
         "type": "bar",
         "x": [
          "Soil Health Card"
         ],
         "xaxis": "x",
         "y": {
          "bdata": "Eg==",
          "dtype": "i1"
         },
         "yaxis": "y"
        },
        {
         "hovertemplate": "QueryType=%{x}<br>Count=%{text}<extra></extra>",
         "legendgroup": "Animal Production (Piggery, Goatery, Sheep Farming etc.)",
         "marker": {
          "color": "#00cc96",
          "pattern": {
           "shape": ""
          }
         },
         "name": "Animal Production (Piggery, Goatery, Sheep Farming etc.)",
         "orientation": "v",
         "showlegend": true,
         "text": {
          "bdata": "AAAAAAAAMkA=",
          "dtype": "f8"
         },
         "textposition": "auto",
         "type": "bar",
         "x": [
          "Animal Production (Piggery, Goatery, Sheep Farming etc.)"
         ],
         "xaxis": "x",
         "y": {
          "bdata": "Eg==",
          "dtype": "i1"
         },
         "yaxis": "y"
        },
        {
         "hovertemplate": "QueryType=%{x}<br>Count=%{text}<extra></extra>",
         "legendgroup": "Power, Roads etc.",
         "marker": {
          "color": "#ab63fa",
          "pattern": {
           "shape": ""
          }
         },
         "name": "Power, Roads etc.",
         "orientation": "v",
         "showlegend": true,
         "text": {
          "bdata": "AAAAAAAAKEA=",
          "dtype": "f8"
         },
         "textposition": "auto",
         "type": "bar",
         "x": [
          "Power, Roads etc."
         ],
         "xaxis": "x",
         "y": {
          "bdata": "DA==",
          "dtype": "i1"
         },
         "yaxis": "y"
        },
        {
         "hovertemplate": "QueryType=%{x}<br>Count=%{text}<extra></extra>",
         "legendgroup": "Post Harvest Management (Cleaning, Grading, Packaging, Food Processing, Cool Chain etc.)",
         "marker": {
          "color": "#FFA15A",
          "pattern": {
           "shape": ""
          }
         },
         "name": "Post Harvest Management (Cleaning, Grading, Packaging, Food Processing, Cool Chain etc.)",
         "orientation": "v",
         "showlegend": true,
         "text": {
          "bdata": "AAAAAAAAJkA=",
          "dtype": "f8"
         },
         "textposition": "auto",
         "type": "bar",
         "x": [
          "Post Harvest Management (Cleaning, Grading, Packaging, Food Processing, Cool Chain etc.)"
         ],
         "xaxis": "x",
         "y": {
          "bdata": "Cw==",
          "dtype": "i1"
         },
         "yaxis": "y"
        },
        {
         "hovertemplate": "QueryType=%{x}<br>Count=%{text}<extra></extra>",
         "legendgroup": "Animal Nutrition",
         "marker": {
          "color": "#19d3f3",
          "pattern": {
           "shape": ""
          }
         },
         "name": "Animal Nutrition",
         "orientation": "v",
         "showlegend": true,
         "text": {
          "bdata": "AAAAAAAAJEA=",
          "dtype": "f8"
         },
         "textposition": "auto",
         "type": "bar",
         "x": [
          "Animal Nutrition"
         ],
         "xaxis": "x",
         "y": {
          "bdata": "Cg==",
          "dtype": "i1"
         },
         "yaxis": "y"
        },
        {
         "hovertemplate": "QueryType=%{x}<br>Count=%{text}<extra></extra>",
         "legendgroup": "Spices and Condiment Crops",
         "marker": {
          "color": "#FF6692",
          "pattern": {
           "shape": ""
          }
         },
         "name": "Spices and Condiment Crops",
         "orientation": "v",
         "showlegend": true,
         "text": {
          "bdata": "AAAAAAAAIEA=",
          "dtype": "f8"
         },
         "textposition": "auto",
         "type": "bar",
         "x": [
          "Spices and Condiment Crops"
         ],
         "xaxis": "x",
         "y": {
          "bdata": "CA==",
          "dtype": "i1"
         },
         "yaxis": "y"
        },
        {
         "hovertemplate": "QueryType=%{x}<br>Count=%{text}<extra></extra>",
         "legendgroup": "Animal Breeding",
         "marker": {
          "color": "#B6E880",
          "pattern": {
           "shape": ""
          }
         },
         "name": "Animal Breeding",
         "orientation": "v",
         "showlegend": true,
         "text": {
          "bdata": "AAAAAAAAHEA=",
          "dtype": "f8"
         },
         "textposition": "auto",
         "type": "bar",
         "x": [
          "Animal Breeding"
         ],
         "xaxis": "x",
         "y": {
          "bdata": "Bw==",
          "dtype": "i1"
         },
         "yaxis": "y"
        },
        {
         "hovertemplate": "QueryType=%{x}<br>Count=%{text}<extra></extra>",
         "legendgroup": "Tank, Pond and Reservoir Management",
         "marker": {
          "color": "#FF97FF",
          "pattern": {
           "shape": ""
          }
         },
         "name": "Tank, Pond and Reservoir Management",
         "orientation": "v",
         "showlegend": true,
         "text": {
          "bdata": "AAAAAAAAHEA=",
          "dtype": "f8"
         },
         "textposition": "auto",
         "type": "bar",
         "x": [
          "Tank, Pond and Reservoir Management"
         ],
         "xaxis": "x",
         "y": {
          "bdata": "Bw==",
          "dtype": "i1"
         },
         "yaxis": "y"
        },
        {
         "hovertemplate": "QueryType=%{x}<br>Count=%{text}<extra></extra>",
         "legendgroup": "Livestock Products Processing and Packaging",
         "marker": {
          "color": "#FECB52",
          "pattern": {
           "shape": ""
          }
         },
         "name": "Livestock Products Processing and Packaging",
         "orientation": "v",
         "showlegend": true,
         "text": {
          "bdata": "AAAAAAAAEEA=",
          "dtype": "f8"
         },
         "textposition": "auto",
         "type": "bar",
         "x": [
          "Livestock Products Processing and Packaging"
         ],
         "xaxis": "x",
         "y": {
          "bdata": "BA==",
          "dtype": "i1"
         },
         "yaxis": "y"
        },
        {
         "hovertemplate": "QueryType=%{x}<br>Count=%{text}<extra></extra>",
         "legendgroup": "Mushroom Production",
         "marker": {
          "color": "#636efa",
          "pattern": {
           "shape": ""
          }
         },
         "name": "Mushroom Production",
         "orientation": "v",
         "showlegend": true,
         "text": {
          "bdata": "AAAAAAAACEA=",
          "dtype": "f8"
         },
         "textposition": "auto",
         "type": "bar",
         "x": [
          "Mushroom Production"
         ],
         "xaxis": "x",
         "y": {
          "bdata": "Aw==",
          "dtype": "i1"
         },
         "yaxis": "y"
        },
        {
         "hovertemplate": "QueryType=%{x}<br>Count=%{text}<extra></extra>",
         "legendgroup": "Medicinal and Aromatic Plants",
         "marker": {
          "color": "#EF553B",
          "pattern": {
           "shape": ""
          }
         },
         "name": "Medicinal and Aromatic Plants",
         "orientation": "v",
         "showlegend": true,
         "text": {
          "bdata": "AAAAAAAAAEA=",
          "dtype": "f8"
         },
         "textposition": "auto",
         "type": "bar",
         "x": [
          "Medicinal and Aromatic Plants"
         ],
         "xaxis": "x",
         "y": {
          "bdata": "Ag==",
          "dtype": "i1"
         },
         "yaxis": "y"
        },
        {
         "hovertemplate": "QueryType=%{x}<br>Count=%{text}<extra></extra>",
         "legendgroup": "Fishery Nutrition",
         "marker": {
          "color": "#00cc96",
          "pattern": {
           "shape": ""
          }
         },
         "name": "Fishery Nutrition",
         "orientation": "v",
         "showlegend": true,
         "text": {
          "bdata": "AAAAAAAAAEA=",
          "dtype": "f8"
         },
         "textposition": "auto",
         "type": "bar",
         "x": [
          "Fishery Nutrition"
         ],
         "xaxis": "x",
         "y": {
          "bdata": "Ag==",
          "dtype": "i1"
         },
         "yaxis": "y"
        },
        {
         "hovertemplate": "QueryType=%{x}<br>Count=%{text}<extra></extra>",
         "legendgroup": "Freshwater pearl culture",
         "marker": {
          "color": "#ab63fa",
          "pattern": {
           "shape": ""
          }
         },
         "name": "Freshwater pearl culture",
         "orientation": "v",
         "showlegend": true,
         "text": {
          "bdata": "AAAAAAAAAEA=",
          "dtype": "f8"
         },
         "textposition": "auto",
         "type": "bar",
         "x": [
          "Freshwater pearl culture"
         ],
         "xaxis": "x",
         "y": {
          "bdata": "Ag==",
          "dtype": "i1"
         },
         "yaxis": "y"
        },
        {
         "hovertemplate": "QueryType=%{x}<br>Count=%{text}<extra></extra>",
         "legendgroup": "Artificial Insemination",
         "marker": {
          "color": "#FFA15A",
          "pattern": {
           "shape": ""
          }
         },
         "name": "Artificial Insemination",
         "orientation": "v",
         "showlegend": true,
         "text": {
          "bdata": "AAAAAAAAAEA=",
          "dtype": "f8"
         },
         "textposition": "auto",
         "type": "bar",
         "x": [
          "Artificial Insemination"
         ],
         "xaxis": "x",
         "y": {
          "bdata": "Ag==",
          "dtype": "i1"
         },
         "yaxis": "y"
        },
        {
         "hovertemplate": "QueryType=%{x}<br>Count=%{text}<extra></extra>",
         "legendgroup": "Fishery Mechanization",
         "marker": {
          "color": "#19d3f3",
          "pattern": {
           "shape": ""
          }
         },
         "name": "Fishery Mechanization",
         "orientation": "v",
         "showlegend": true,
         "text": {
          "bdata": "AAAAAAAA8D8=",
          "dtype": "f8"
         },
         "textposition": "auto",
         "type": "bar",
         "x": [
          "Fishery Mechanization"
         ],
         "xaxis": "x",
         "y": {
          "bdata": "AQ==",
          "dtype": "i1"
         },
         "yaxis": "y"
        },
        {
         "hovertemplate": "QueryType=%{x}<br>Count=%{text}<extra></extra>",
         "legendgroup": "Fish Fingerling Production",
         "marker": {
          "color": "#FF6692",
          "pattern": {
           "shape": ""
          }
         },
         "name": "Fish Fingerling Production",
         "orientation": "v",
         "showlegend": true,
         "text": {
          "bdata": "AAAAAAAA8D8=",
          "dtype": "f8"
         },
         "textposition": "auto",
         "type": "bar",
         "x": [
          "Fish Fingerling Production"
         ],
         "xaxis": "x",
         "y": {
          "bdata": "AQ==",
          "dtype": "i1"
         },
         "yaxis": "y"
        },
        {
         "hovertemplate": "QueryType=%{x}<br>Count=%{text}<extra></extra>",
         "legendgroup": "Integrated Farming",
         "marker": {
          "color": "#B6E880",
          "pattern": {
           "shape": ""
          }
         },
         "name": "Integrated Farming",
         "orientation": "v",
         "showlegend": true,
         "text": {
          "bdata": "AAAAAAAA8D8=",
          "dtype": "f8"
         },
         "textposition": "auto",
         "type": "bar",
         "x": [
          "Integrated Farming"
         ],
         "xaxis": "x",
         "y": {
          "bdata": "AQ==",
          "dtype": "i1"
         },
         "yaxis": "y"
        },
        {
         "hovertemplate": "QueryType=%{x}<br>Count=%{text}<extra></extra>",
         "legendgroup": "Breeding and culture of ornamental fish",
         "marker": {
          "color": "#FF97FF",
          "pattern": {
           "shape": ""
          }
         },
         "name": "Breeding and culture of ornamental fish",
         "orientation": "v",
         "showlegend": true,
         "text": {
          "bdata": "AAAAAAAA8D8=",
          "dtype": "f8"
         },
         "textposition": "auto",
         "type": "bar",
         "x": [
          "Breeding and culture of ornamental fish"
         ],
         "xaxis": "x",
         "y": {
          "bdata": "AQ==",
          "dtype": "i1"
         },
         "yaxis": "y"
        },
        {
         "hovertemplate": "QueryType=%{x}<br>Count=%{text}<extra></extra>",
         "legendgroup": "Magur Breeding and Culture",
         "marker": {
          "color": "#FECB52",
          "pattern": {
           "shape": ""
          }
         },
         "name": "Magur Breeding and Culture",
         "orientation": "v",
         "showlegend": true,
         "text": {
          "bdata": "AAAAAAAA8D8=",
          "dtype": "f8"
         },
         "textposition": "auto",
         "type": "bar",
         "x": [
          "Magur Breeding and Culture"
         ],
         "xaxis": "x",
         "y": {
          "bdata": "AQ==",
          "dtype": "i1"
         },
         "yaxis": "y"
        },
        {
         "hovertemplate": "QueryType=%{x}<br>Count=%{text}<extra></extra>",
         "legendgroup": "Deep Sea Fishing and Processing",
         "marker": {
          "color": "#636efa",
          "pattern": {
           "shape": ""
          }
         },
         "name": "Deep Sea Fishing and Processing",
         "orientation": "v",
         "showlegend": true,
         "text": {
          "bdata": "AAAAAAAA8D8=",
          "dtype": "f8"
         },
         "textposition": "auto",
         "type": "bar",
         "x": [
          "Deep Sea Fishing and Processing"
         ],
         "xaxis": "x",
         "y": {
          "bdata": "AQ==",
          "dtype": "i1"
         },
         "yaxis": "y"
        },
        {
         "hovertemplate": "QueryType=%{x}<br>Count=%{text}<extra></extra>",
         "legendgroup": "Cold Storage",
         "marker": {
          "color": "#EF553B",
          "pattern": {
           "shape": ""
          }
         },
         "name": "Cold Storage",
         "orientation": "v",
         "showlegend": true,
         "text": {
          "bdata": "AAAAAAAA8D8=",
          "dtype": "f8"
         },
         "textposition": "auto",
         "type": "bar",
         "x": [
          "Cold Storage"
         ],
         "xaxis": "x",
         "y": {
          "bdata": "AQ==",
          "dtype": "i1"
         },
         "yaxis": "y"
        },
        {
         "hovertemplate": "QueryType=%{x}<br>Count=%{text}<extra></extra>",
         "legendgroup": "Fish  Marketing",
         "marker": {
          "color": "#00cc96",
          "pattern": {
           "shape": ""
          }
         },
         "name": "Fish  Marketing",
         "orientation": "v",
         "showlegend": true,
         "text": {
          "bdata": "AAAAAAAA8D8=",
          "dtype": "f8"
         },
         "textposition": "auto",
         "type": "bar",
         "x": [
          "Fish  Marketing"
         ],
         "xaxis": "x",
         "y": {
          "bdata": "AQ==",
          "dtype": "i1"
         },
         "yaxis": "y"
        }
       ],
       "layout": {
        "barmode": "relative",
        "legend": {
         "title": {
          "text": "QueryType"
         },
         "tracegroupgap": 0
        },
        "template": {
         "data": {
          "bar": [
           {
            "error_x": {
             "color": "#2a3f5f"
            },
            "error_y": {
             "color": "#2a3f5f"
            },
            "marker": {
             "line": {
              "color": "#E5ECF6",
              "width": 0.5
             },
             "pattern": {
              "fillmode": "overlay",
              "size": 10,
              "solidity": 0.2
             }
            },
            "type": "bar"
           }
          ],
          "barpolar": [
           {
            "marker": {
             "line": {
              "color": "#E5ECF6",
              "width": 0.5
             },
             "pattern": {
              "fillmode": "overlay",
              "size": 10,
              "solidity": 0.2
             }
            },
            "type": "barpolar"
           }
          ],
          "carpet": [
           {
            "aaxis": {
             "endlinecolor": "#2a3f5f",
             "gridcolor": "white",
             "linecolor": "white",
             "minorgridcolor": "white",
             "startlinecolor": "#2a3f5f"
            },
            "baxis": {
             "endlinecolor": "#2a3f5f",
             "gridcolor": "white",
             "linecolor": "white",
             "minorgridcolor": "white",
             "startlinecolor": "#2a3f5f"
            },
            "type": "carpet"
           }
          ],
          "choropleth": [
           {
            "colorbar": {
             "outlinewidth": 0,
             "ticks": ""
            },
            "type": "choropleth"
           }
          ],
          "contour": [
           {
            "colorbar": {
             "outlinewidth": 0,
             "ticks": ""
            },
            "colorscale": [
             [
              0,
              "#0d0887"
             ],
             [
              0.1111111111111111,
              "#46039f"
             ],
             [
              0.2222222222222222,
              "#7201a8"
             ],
             [
              0.3333333333333333,
              "#9c179e"
             ],
             [
              0.4444444444444444,
              "#bd3786"
             ],
             [
              0.5555555555555556,
              "#d8576b"
             ],
             [
              0.6666666666666666,
              "#ed7953"
             ],
             [
              0.7777777777777778,
              "#fb9f3a"
             ],
             [
              0.8888888888888888,
              "#fdca26"
             ],
             [
              1,
              "#f0f921"
             ]
            ],
            "type": "contour"
           }
          ],
          "contourcarpet": [
           {
            "colorbar": {
             "outlinewidth": 0,
             "ticks": ""
            },
            "type": "contourcarpet"
           }
          ],
          "heatmap": [
           {
            "colorbar": {
             "outlinewidth": 0,
             "ticks": ""
            },
            "colorscale": [
             [
              0,
              "#0d0887"
             ],
             [
              0.1111111111111111,
              "#46039f"
             ],
             [
              0.2222222222222222,
              "#7201a8"
             ],
             [
              0.3333333333333333,
              "#9c179e"
             ],
             [
              0.4444444444444444,
              "#bd3786"
             ],
             [
              0.5555555555555556,
              "#d8576b"
             ],
             [
              0.6666666666666666,
              "#ed7953"
             ],
             [
              0.7777777777777778,
              "#fb9f3a"
             ],
             [
              0.8888888888888888,
              "#fdca26"
             ],
             [
              1,
              "#f0f921"
             ]
            ],
            "type": "heatmap"
           }
          ],
          "histogram": [
           {
            "marker": {
             "pattern": {
              "fillmode": "overlay",
              "size": 10,
              "solidity": 0.2
             }
            },
            "type": "histogram"
           }
          ],
          "histogram2d": [
           {
            "colorbar": {
             "outlinewidth": 0,
             "ticks": ""
            },
            "colorscale": [
             [
              0,
              "#0d0887"
             ],
             [
              0.1111111111111111,
              "#46039f"
             ],
             [
              0.2222222222222222,
              "#7201a8"
             ],
             [
              0.3333333333333333,
              "#9c179e"
             ],
             [
              0.4444444444444444,
              "#bd3786"
             ],
             [
              0.5555555555555556,
              "#d8576b"
             ],
             [
              0.6666666666666666,
              "#ed7953"
             ],
             [
              0.7777777777777778,
              "#fb9f3a"
             ],
             [
              0.8888888888888888,
              "#fdca26"
             ],
             [
              1,
              "#f0f921"
             ]
            ],
            "type": "histogram2d"
           }
          ],
          "histogram2dcontour": [
           {
            "colorbar": {
             "outlinewidth": 0,
             "ticks": ""
            },
            "colorscale": [
             [
              0,
              "#0d0887"
             ],
             [
              0.1111111111111111,
              "#46039f"
             ],
             [
              0.2222222222222222,
              "#7201a8"
             ],
             [
              0.3333333333333333,
              "#9c179e"
             ],
             [
              0.4444444444444444,
              "#bd3786"
             ],
             [
              0.5555555555555556,
              "#d8576b"
             ],
             [
              0.6666666666666666,
              "#ed7953"
             ],
             [
              0.7777777777777778,
              "#fb9f3a"
             ],
             [
              0.8888888888888888,
              "#fdca26"
             ],
             [
              1,
              "#f0f921"
             ]
            ],
            "type": "histogram2dcontour"
           }
          ],
          "mesh3d": [
           {
            "colorbar": {
             "outlinewidth": 0,
             "ticks": ""
            },
            "type": "mesh3d"
           }
          ],
          "parcoords": [
           {
            "line": {
             "colorbar": {
              "outlinewidth": 0,
              "ticks": ""
             }
            },
            "type": "parcoords"
           }
          ],
          "pie": [
           {
            "automargin": true,
            "type": "pie"
           }
          ],
          "scatter": [
           {
            "fillpattern": {
             "fillmode": "overlay",
             "size": 10,
             "solidity": 0.2
            },
            "type": "scatter"
           }
          ],
          "scatter3d": [
           {
            "line": {
             "colorbar": {
              "outlinewidth": 0,
              "ticks": ""
             }
            },
            "marker": {
             "colorbar": {
              "outlinewidth": 0,
              "ticks": ""
             }
            },
            "type": "scatter3d"
           }
          ],
          "scattercarpet": [
           {
            "marker": {
             "colorbar": {
              "outlinewidth": 0,
              "ticks": ""
             }
            },
            "type": "scattercarpet"
           }
          ],
          "scattergeo": [
           {
            "marker": {
             "colorbar": {
              "outlinewidth": 0,
              "ticks": ""
             }
            },
            "type": "scattergeo"
           }
          ],
          "scattergl": [
           {
            "marker": {
             "colorbar": {
              "outlinewidth": 0,
              "ticks": ""
             }
            },
            "type": "scattergl"
           }
          ],
          "scattermap": [
           {
            "marker": {
             "colorbar": {
              "outlinewidth": 0,
              "ticks": ""
             }
            },
            "type": "scattermap"
           }
          ],
          "scattermapbox": [
           {
            "marker": {
             "colorbar": {
              "outlinewidth": 0,
              "ticks": ""
             }
            },
            "type": "scattermapbox"
           }
          ],
          "scatterpolar": [
           {
            "marker": {
             "colorbar": {
              "outlinewidth": 0,
              "ticks": ""
             }
            },
            "type": "scatterpolar"
           }
          ],
          "scatterpolargl": [
           {
            "marker": {
             "colorbar": {
              "outlinewidth": 0,
              "ticks": ""
             }
            },
            "type": "scatterpolargl"
           }
          ],
          "scatterternary": [
           {
            "marker": {
             "colorbar": {
              "outlinewidth": 0,
              "ticks": ""
             }
            },
            "type": "scatterternary"
           }
          ],
          "surface": [
           {
            "colorbar": {
             "outlinewidth": 0,
             "ticks": ""
            },
            "colorscale": [
             [
              0,
              "#0d0887"
             ],
             [
              0.1111111111111111,
              "#46039f"
             ],
             [
              0.2222222222222222,
              "#7201a8"
             ],
             [
              0.3333333333333333,
              "#9c179e"
             ],
             [
              0.4444444444444444,
              "#bd3786"
             ],
             [
              0.5555555555555556,
              "#d8576b"
             ],
             [
              0.6666666666666666,
              "#ed7953"
             ],
             [
              0.7777777777777778,
              "#fb9f3a"
             ],
             [
              0.8888888888888888,
              "#fdca26"
             ],
             [
              1,
              "#f0f921"
             ]
            ],
            "type": "surface"
           }
          ],
          "table": [
           {
            "cells": {
             "fill": {
              "color": "#EBF0F8"
             },
             "line": {
              "color": "white"
             }
            },
            "header": {
             "fill": {
              "color": "#C8D4E3"
             },
             "line": {
              "color": "white"
             }
            },
            "type": "table"
           }
          ]
         },
         "layout": {
          "annotationdefaults": {
           "arrowcolor": "#2a3f5f",
           "arrowhead": 0,
           "arrowwidth": 1
          },
          "autotypenumbers": "strict",
          "coloraxis": {
           "colorbar": {
            "outlinewidth": 0,
            "ticks": ""
           }
          },
          "colorscale": {
           "diverging": [
            [
             0,
             "#8e0152"
            ],
            [
             0.1,
             "#c51b7d"
            ],
            [
             0.2,
             "#de77ae"
            ],
            [
             0.3,
             "#f1b6da"
            ],
            [
             0.4,
             "#fde0ef"
            ],
            [
             0.5,
             "#f7f7f7"
            ],
            [
             0.6,
             "#e6f5d0"
            ],
            [
             0.7,
             "#b8e186"
            ],
            [
             0.8,
             "#7fbc41"
            ],
            [
             0.9,
             "#4d9221"
            ],
            [
             1,
             "#276419"
            ]
           ],
           "sequential": [
            [
             0,
             "#0d0887"
            ],
            [
             0.1111111111111111,
             "#46039f"
            ],
            [
             0.2222222222222222,
             "#7201a8"
            ],
            [
             0.3333333333333333,
             "#9c179e"
            ],
            [
             0.4444444444444444,
             "#bd3786"
            ],
            [
             0.5555555555555556,
             "#d8576b"
            ],
            [
             0.6666666666666666,
             "#ed7953"
            ],
            [
             0.7777777777777778,
             "#fb9f3a"
            ],
            [
             0.8888888888888888,
             "#fdca26"
            ],
            [
             1,
             "#f0f921"
            ]
           ],
           "sequentialminus": [
            [
             0,
             "#0d0887"
            ],
            [
             0.1111111111111111,
             "#46039f"
            ],
            [
             0.2222222222222222,
             "#7201a8"
            ],
            [
             0.3333333333333333,
             "#9c179e"
            ],
            [
             0.4444444444444444,
             "#bd3786"
            ],
            [
             0.5555555555555556,
             "#d8576b"
            ],
            [
             0.6666666666666666,
             "#ed7953"
            ],
            [
             0.7777777777777778,
             "#fb9f3a"
            ],
            [
             0.8888888888888888,
             "#fdca26"
            ],
            [
             1,
             "#f0f921"
            ]
           ]
          },
          "colorway": [
           "#636efa",
           "#EF553B",
           "#00cc96",
           "#ab63fa",
           "#FFA15A",
           "#19d3f3",
           "#FF6692",
           "#B6E880",
           "#FF97FF",
           "#FECB52"
          ],
          "font": {
           "color": "#2a3f5f"
          },
          "geo": {
           "bgcolor": "white",
           "lakecolor": "white",
           "landcolor": "#E5ECF6",
           "showlakes": true,
           "showland": true,
           "subunitcolor": "white"
          },
          "hoverlabel": {
           "align": "left"
          },
          "hovermode": "closest",
          "mapbox": {
           "style": "light"
          },
          "paper_bgcolor": "white",
          "plot_bgcolor": "#E5ECF6",
          "polar": {
           "angularaxis": {
            "gridcolor": "white",
            "linecolor": "white",
            "ticks": ""
           },
           "bgcolor": "#E5ECF6",
           "radialaxis": {
            "gridcolor": "white",
            "linecolor": "white",
            "ticks": ""
           }
          },
          "scene": {
           "xaxis": {
            "backgroundcolor": "#E5ECF6",
            "gridcolor": "white",
            "gridwidth": 2,
            "linecolor": "white",
            "showbackground": true,
            "ticks": "",
            "zerolinecolor": "white"
           },
           "yaxis": {
            "backgroundcolor": "#E5ECF6",
            "gridcolor": "white",
            "gridwidth": 2,
            "linecolor": "white",
            "showbackground": true,
            "ticks": "",
            "zerolinecolor": "white"
           },
           "zaxis": {
            "backgroundcolor": "#E5ECF6",
            "gridcolor": "white",
            "gridwidth": 2,
            "linecolor": "white",
            "showbackground": true,
            "ticks": "",
            "zerolinecolor": "white"
           }
          },
          "shapedefaults": {
           "line": {
            "color": "#2a3f5f"
           }
          },
          "ternary": {
           "aaxis": {
            "gridcolor": "white",
            "linecolor": "white",
            "ticks": ""
           },
           "baxis": {
            "gridcolor": "white",
            "linecolor": "white",
            "ticks": ""
           },
           "bgcolor": "#E5ECF6",
           "caxis": {
            "gridcolor": "white",
            "linecolor": "white",
            "ticks": ""
           }
          },
          "title": {
           "x": 0.05
          },
          "xaxis": {
           "automargin": true,
           "gridcolor": "white",
           "linecolor": "white",
           "ticks": "",
           "title": {
            "standoff": 15
           },
           "zerolinecolor": "white",
           "zerolinewidth": 2
          },
          "yaxis": {
           "automargin": true,
           "gridcolor": "white",
           "linecolor": "white",
           "ticks": "",
           "title": {
            "standoff": 15
           },
           "zerolinecolor": "white",
           "zerolinewidth": 2
          }
         }
        },
        "title": {
         "text": "Most Frequent Query Types"
        },
        "xaxis": {
         "anchor": "y",
         "categoryarray": [
          "Government Schemes",
          "Weather",
          "\tPlant Protection\t",
          "\tWater Management\t",
          "Cultural Practices",
          "Fertilizer Use and Availability",
          "Nutrient Management",
          "Weed Management",
          "Varieties",
          "Sowing Time and Weather",
          "Seeds and Planting Material",
          "Post Harvest Preservation",
          "Seeds",
          "Water Management, Micro Irrigation",
          "Market Information",
          "Crop Insurance",
          "Credit",
          "Agriculture Mechanization",
          "\tField Preparation\t",
          "Disease Management",
          "Nursery Management",
          "Training and Exposure Visits",
          "Bio-Pesticides and Bio-Fertilizers",
          "Soil Testing",
          "Vegetative Propagation and Tissue Culture",
          "Field Preparation",
          "Organic Farming",
          "Dairy Production",
          "Disease Reporting",
          "Storage",
          "Cattle shed Planning and Management",
          "Soil Health Card",
          "Animal Production (Piggery, Goatery, Sheep Farming etc.)",
          "Power, Roads etc.",
          "Post Harvest Management (Cleaning, Grading, Packaging, Food Processing, Cool Chain etc.)",
          "Animal Nutrition",
          "Spices and Condiment Crops",
          "Animal Breeding",
          "Tank, Pond and Reservoir Management",
          "Livestock Products Processing and Packaging",
          "Mushroom Production",
          "Medicinal and Aromatic Plants",
          "Fishery Nutrition",
          "Freshwater pearl culture",
          "Artificial Insemination",
          "Fishery Mechanization",
          "Fish Fingerling Production",
          "Integrated Farming",
          "Breeding and culture of ornamental fish",
          "Magur Breeding and Culture",
          "Deep Sea Fishing and Processing",
          "Cold Storage",
          "Fish  Marketing"
         ],
         "categoryorder": "array",
         "domain": [
          0,
          1
         ],
         "tickangle": -45,
         "title": {
          "text": "Query Type"
         }
        },
        "yaxis": {
         "anchor": "x",
         "domain": [
          0,
          1
         ],
         "title": {
          "text": "Query Count"
         }
        }
       }
      }
     },
     "metadata": {},
     "output_type": "display_data"
    }
   ],
   "source": [
    "df['CreatedOn'] = pd.to_datetime(df['CreatedOn'], errors='coerce')\n",
    "\n",
    "# Extract month and year\n",
    "df['Month_Year'] = df['CreatedOn'].dt.to_period('M').astype(str)\n",
    "query_type_freq = df['QueryType'].value_counts().reset_index()\n",
    "query_type_freq.columns = ['QueryType', 'Count']\n",
    "\n",
    "fig1 = px.bar(query_type_freq, x='QueryType', y='Count',\n",
    "              title='Most Frequent Query Types',\n",
    "              text='Count', color='QueryType')\n",
    "fig1.update_layout(xaxis_title='Query Type', yaxis_title='Query Count', xaxis_tickangle=-45)\n",
    "fig1.show()"
   ]
  },
  {
   "cell_type": "code",
   "execution_count": 7,
   "id": "48a01fda",
   "metadata": {},
   "outputs": [
    {
     "data": {
      "application/vnd.plotly.v1+json": {
       "config": {
        "plotlyServerURL": "https://plot.ly"
       },
       "data": [
        {
         "hovertemplate": "QueryType=\tField Preparation\t<br>Crop=%{x}<br>Count=%{text}<extra></extra>",
         "legendgroup": "\tField Preparation\t",
         "marker": {
          "color": "#636efa",
          "pattern": {
           "shape": ""
          }
         },
         "name": "\tField Preparation\t",
         "orientation": "v",
         "showlegend": true,
         "text": {
          "bdata": "AAAAAAAALEAAAAAAAAAxQAAAAAAAABhAAAAAAAAANUA=",
          "dtype": "f8"
         },
         "textposition": "auto",
         "type": "bar",
         "x": [
          "Others",
          "Paddy (Dhan)",
          "Sugarcane (Noble Cane)",
          "Wheat"
         ],
         "xaxis": "x",
         "y": {
          "bdata": "DhEGFQ==",
          "dtype": "i1"
         },
         "yaxis": "y"
        },
        {
         "hovertemplate": "QueryType=\tPlant Protection\t<br>Crop=%{x}<br>Count=%{text}<extra></extra>",
         "legendgroup": "\tPlant Protection\t",
         "marker": {
          "color": "#EF553B",
          "pattern": {
           "shape": ""
          }
         },
         "name": "\tPlant Protection\t",
         "orientation": "v",
         "showlegend": true,
         "text": {
          "bdata": "AAAAAABAV0AAAAAAAIiWQAAAAAAAYHlAAAAAAACwhkAAAAAAABBwQA==",
          "dtype": "f8"
         },
         "textposition": "auto",
         "type": "bar",
         "x": [
          "Others",
          "Paddy (Dhan)",
          "Potato",
          "Sugarcane (Noble Cane)",
          "Wheat"
         ],
         "xaxis": "x",
         "y": {
          "bdata": "XQCiBZYB1gIBAQ==",
          "dtype": "i2"
         },
         "yaxis": "y"
        },
        {
         "hovertemplate": "QueryType=\tWater Management\t<br>Crop=%{x}<br>Count=%{text}<extra></extra>",
         "legendgroup": "\tWater Management\t",
         "marker": {
          "color": "#00cc96",
          "pattern": {
           "shape": ""
          }
         },
         "name": "\tWater Management\t",
         "orientation": "v",
         "showlegend": true,
         "text": {
          "bdata": "AAAAAAAAKEAAAAAAAGSgQAAAAAAAgElAAAAAAABAXkAAAAAAAKCEQA==",
          "dtype": "f8"
         },
         "textposition": "auto",
         "type": "bar",
         "x": [
          "Others",
          "Paddy (Dhan)",
          "Potato",
          "Sugarcane (Noble Cane)",
          "Wheat"
         ],
         "xaxis": "x",
         "y": {
          "bdata": "DAAyCDMAeQCUAg==",
          "dtype": "i2"
         },
         "yaxis": "y"
        },
        {
         "hovertemplate": "QueryType=Agriculture Mechanization<br>Crop=%{x}<br>Count=%{text}<extra></extra>",
         "legendgroup": "Agriculture Mechanization",
         "marker": {
          "color": "#ab63fa",
          "pattern": {
           "shape": ""
          }
         },
         "name": "Agriculture Mechanization",
         "orientation": "v",
         "showlegend": true,
         "text": {
          "bdata": "AAAAAAAASkAAAAAAAAAIQAAAAAAAAAhAAAAAAAAAJEA=",
          "dtype": "f8"
         },
         "textposition": "auto",
         "type": "bar",
         "x": [
          "Others",
          "Paddy (Dhan)",
          "Sugarcane (Noble Cane)",
          "Wheat"
         ],
         "xaxis": "x",
         "y": {
          "bdata": "NAMDCg==",
          "dtype": "i1"
         },
         "yaxis": "y"
        },
        {
         "hovertemplate": "QueryType=Animal Breeding<br>Crop=%{x}<br>Count=%{text}<extra></extra>",
         "legendgroup": "Animal Breeding",
         "marker": {
          "color": "#FFA15A",
          "pattern": {
           "shape": ""
          }
         },
         "name": "Animal Breeding",
         "orientation": "v",
         "showlegend": true,
         "text": {
          "bdata": "AAAAAAAA8D8=",
          "dtype": "f8"
         },
         "textposition": "auto",
         "type": "bar",
         "x": [
          "Others"
         ],
         "xaxis": "x",
         "y": {
          "bdata": "AQ==",
          "dtype": "i1"
         },
         "yaxis": "y"
        },
        {
         "hovertemplate": "QueryType=Bio-Pesticides and Bio-Fertilizers<br>Crop=%{x}<br>Count=%{text}<extra></extra>",
         "legendgroup": "Bio-Pesticides and Bio-Fertilizers",
         "marker": {
          "color": "#19d3f3",
          "pattern": {
           "shape": ""
          }
         },
         "name": "Bio-Pesticides and Bio-Fertilizers",
         "orientation": "v",
         "showlegend": true,
         "text": {
          "bdata": "AAAAAAAAKEAAAAAAAAAoQAAAAAAAAABAAAAAAAAAJEAAAAAAAAAIQA==",
          "dtype": "f8"
         },
         "textposition": "auto",
         "type": "bar",
         "x": [
          "Others",
          "Paddy (Dhan)",
          "Potato",
          "Sugarcane (Noble Cane)",
          "Wheat"
         ],
         "xaxis": "x",
         "y": {
          "bdata": "DAwCCgM=",
          "dtype": "i1"
         },
         "yaxis": "y"
        },
        {
         "hovertemplate": "QueryType=Credit<br>Crop=%{x}<br>Count=%{text}<extra></extra>",
         "legendgroup": "Credit",
         "marker": {
          "color": "#FF6692",
          "pattern": {
           "shape": ""
          }
         },
         "name": "Credit",
         "orientation": "v",
         "showlegend": true,
         "text": {
          "bdata": "AAAAAACAV0AAAAAAAADwPwAAAAAAAPA/AAAAAAAAAEAAAAAAAAAYQA==",
          "dtype": "f8"
         },
         "textposition": "auto",
         "type": "bar",
         "x": [
          "Others",
          "Paddy (Dhan)",
          "Potato",
          "Sugarcane (Noble Cane)",
          "Wheat"
         ],
         "xaxis": "x",
         "y": {
          "bdata": "XgEBAgY=",
          "dtype": "i1"
         },
         "yaxis": "y"
        },
        {
         "hovertemplate": "QueryType=Crop Insurance<br>Crop=%{x}<br>Count=%{text}<extra></extra>",
         "legendgroup": "Crop Insurance",
         "marker": {
          "color": "#B6E880",
          "pattern": {
           "shape": ""
          }
         },
         "name": "Crop Insurance",
         "orientation": "v",
         "showlegend": true,
         "text": {
          "bdata": "AAAAAACAR0AAAAAAAABCQAAAAAAAAPA/AAAAAACATkA=",
          "dtype": "f8"
         },
         "textposition": "auto",
         "type": "bar",
         "x": [
          "Others",
          "Paddy (Dhan)",
          "Potato",
          "Wheat"
         ],
         "xaxis": "x",
         "y": {
          "bdata": "LyQBPQ==",
          "dtype": "i1"
         },
         "yaxis": "y"
        },
        {
         "hovertemplate": "QueryType=Cultural Practices<br>Crop=%{x}<br>Count=%{text}<extra></extra>",
         "legendgroup": "Cultural Practices",
         "marker": {
          "color": "#FF97FF",
          "pattern": {
           "shape": ""
          }
         },
         "name": "Cultural Practices",
         "orientation": "v",
         "showlegend": true,
         "text": {
          "bdata": "AAAAAAAgYkAAAAAAAPCEQAAAAAAAwGNAAAAAAADAV0AAAAAAAKBtQA==",
          "dtype": "f8"
         },
         "textposition": "auto",
         "type": "bar",
         "x": [
          "Others",
          "Paddy (Dhan)",
          "Potato",
          "Sugarcane (Noble Cane)",
          "Wheat"
         ],
         "xaxis": "x",
         "y": {
          "bdata": "kQCeAp4AXwDtAA==",
          "dtype": "i2"
         },
         "yaxis": "y"
        },
        {
         "hovertemplate": "QueryType=Dairy Production<br>Crop=%{x}<br>Count=%{text}<extra></extra>",
         "legendgroup": "Dairy Production",
         "marker": {
          "color": "#FECB52",
          "pattern": {
           "shape": ""
          }
         },
         "name": "Dairy Production",
         "orientation": "v",
         "showlegend": true,
         "text": {
          "bdata": "AAAAAAAA8D8=",
          "dtype": "f8"
         },
         "textposition": "auto",
         "type": "bar",
         "x": [
          "Others"
         ],
         "xaxis": "x",
         "y": {
          "bdata": "AQ==",
          "dtype": "i1"
         },
         "yaxis": "y"
        },
        {
         "hovertemplate": "QueryType=Disease Management<br>Crop=%{x}<br>Count=%{text}<extra></extra>",
         "legendgroup": "Disease Management",
         "marker": {
          "color": "#636efa",
          "pattern": {
           "shape": ""
          }
         },
         "name": "Disease Management",
         "orientation": "v",
         "showlegend": true,
         "text": {
          "bdata": "AAAAAAAA8D8=",
          "dtype": "f8"
         },
         "textposition": "auto",
         "type": "bar",
         "x": [
          "Others"
         ],
         "xaxis": "x",
         "y": {
          "bdata": "AQ==",
          "dtype": "i1"
         },
         "yaxis": "y"
        },
        {
         "hovertemplate": "QueryType=Fertilizer Use and Availability<br>Crop=%{x}<br>Count=%{text}<extra></extra>",
         "legendgroup": "Fertilizer Use and Availability",
         "marker": {
          "color": "#EF553B",
          "pattern": {
           "shape": ""
          }
         },
         "name": "Fertilizer Use and Availability",
         "orientation": "v",
         "showlegend": true,
         "text": {
          "bdata": "AAAAAADAVUAAAAAAAGCAQAAAAAAAgFtAAAAAAADgY0AAAAAAAPiEQA==",
          "dtype": "f8"
         },
         "textposition": "auto",
         "type": "bar",
         "x": [
          "Others",
          "Paddy (Dhan)",
          "Potato",
          "Sugarcane (Noble Cane)",
          "Wheat"
         ],
         "xaxis": "x",
         "y": {
          "bdata": "VwAMAm4AnwCfAg==",
          "dtype": "i2"
         },
         "yaxis": "y"
        },
        {
         "hovertemplate": "QueryType=Field Preparation<br>Crop=%{x}<br>Count=%{text}<extra></extra>",
         "legendgroup": "Field Preparation",
         "marker": {
          "color": "#00cc96",
          "pattern": {
           "shape": ""
          }
         },
         "name": "Field Preparation",
         "orientation": "v",
         "showlegend": true,
         "text": {
          "bdata": "AAAAAAAA8D8AAAAAAAAmQA==",
          "dtype": "f8"
         },
         "textposition": "auto",
         "type": "bar",
         "x": [
          "Others",
          "Potato"
         ],
         "xaxis": "x",
         "y": {
          "bdata": "AQs=",
          "dtype": "i1"
         },
         "yaxis": "y"
        },
        {
         "hovertemplate": "QueryType=Fishery Mechanization<br>Crop=%{x}<br>Count=%{text}<extra></extra>",
         "legendgroup": "Fishery Mechanization",
         "marker": {
          "color": "#ab63fa",
          "pattern": {
           "shape": ""
          }
         },
         "name": "Fishery Mechanization",
         "orientation": "v",
         "showlegend": true,
         "text": {
          "bdata": "AAAAAAAA8D8=",
          "dtype": "f8"
         },
         "textposition": "auto",
         "type": "bar",
         "x": [
          "Others"
         ],
         "xaxis": "x",
         "y": {
          "bdata": "AQ==",
          "dtype": "i1"
         },
         "yaxis": "y"
        },
        {
         "hovertemplate": "QueryType=Fishery Nutrition<br>Crop=%{x}<br>Count=%{text}<extra></extra>",
         "legendgroup": "Fishery Nutrition",
         "marker": {
          "color": "#FFA15A",
          "pattern": {
           "shape": ""
          }
         },
         "name": "Fishery Nutrition",
         "orientation": "v",
         "showlegend": true,
         "text": {
          "bdata": "AAAAAAAAAEA=",
          "dtype": "f8"
         },
         "textposition": "auto",
         "type": "bar",
         "x": [
          "Others"
         ],
         "xaxis": "x",
         "y": {
          "bdata": "Ag==",
          "dtype": "i1"
         },
         "yaxis": "y"
        },
        {
         "hovertemplate": "QueryType=Government Schemes<br>Crop=%{x}<br>Count=%{text}<extra></extra>",
         "legendgroup": "Government Schemes",
         "marker": {
          "color": "#19d3f3",
          "pattern": {
           "shape": ""
          }
         },
         "name": "Government Schemes",
         "orientation": "v",
         "showlegend": true,
         "text": {
          "bdata": "AAAAAAA6xkAAAAAAACBtQAAAAAAAABBAAAAAAACASUAAAAAAAPBxQA==",
          "dtype": "f8"
         },
         "textposition": "auto",
         "type": "bar",
         "x": [
          "Others",
          "Paddy (Dhan)",
          "Potato",
          "Sugarcane (Noble Cane)",
          "Wheat"
         ],
         "xaxis": "x",
         "y": {
          "bdata": "dCzpAAQAMwAfAQ==",
          "dtype": "i2"
         },
         "yaxis": "y"
        },
        {
         "hovertemplate": "QueryType=Magur Breeding and Culture<br>Crop=%{x}<br>Count=%{text}<extra></extra>",
         "legendgroup": "Magur Breeding and Culture",
         "marker": {
          "color": "#FF6692",
          "pattern": {
           "shape": ""
          }
         },
         "name": "Magur Breeding and Culture",
         "orientation": "v",
         "showlegend": true,
         "text": {
          "bdata": "AAAAAAAA8D8=",
          "dtype": "f8"
         },
         "textposition": "auto",
         "type": "bar",
         "x": [
          "Others"
         ],
         "xaxis": "x",
         "y": {
          "bdata": "AQ==",
          "dtype": "i1"
         },
         "yaxis": "y"
        },
        {
         "hovertemplate": "QueryType=Market Information<br>Crop=%{x}<br>Count=%{text}<extra></extra>",
         "legendgroup": "Market Information",
         "marker": {
          "color": "#B6E880",
          "pattern": {
           "shape": ""
          }
         },
         "name": "Market Information",
         "orientation": "v",
         "showlegend": true,
         "text": {
          "bdata": "AAAAAAAAPUAAAAAAAABCQAAAAAAAACJAAAAAAAAAFEAAAAAAAABHQA==",
          "dtype": "f8"
         },
         "textposition": "auto",
         "type": "bar",
         "x": [
          "Others",
          "Paddy (Dhan)",
          "Potato",
          "Sugarcane (Noble Cane)",
          "Wheat"
         ],
         "xaxis": "x",
         "y": {
          "bdata": "HSQJBS4=",
          "dtype": "i1"
         },
         "yaxis": "y"
        },
        {
         "hovertemplate": "QueryType=Nutrient Management<br>Crop=%{x}<br>Count=%{text}<extra></extra>",
         "legendgroup": "Nutrient Management",
         "marker": {
          "color": "#FF97FF",
          "pattern": {
           "shape": ""
          }
         },
         "name": "Nutrient Management",
         "orientation": "v",
         "showlegend": true,
         "text": {
          "bdata": "AAAAAACAQkAAAAAAANB4QAAAAAAAwFRAAAAAAADgY0AAAAAAAIB6QA==",
          "dtype": "f8"
         },
         "textposition": "auto",
         "type": "bar",
         "x": [
          "Others",
          "Paddy (Dhan)",
          "Potato",
          "Sugarcane (Noble Cane)",
          "Wheat"
         ],
         "xaxis": "x",
         "y": {
          "bdata": "JQCNAVMAnwCoAQ==",
          "dtype": "i2"
         },
         "yaxis": "y"
        },
        {
         "hovertemplate": "QueryType=Organic Farming<br>Crop=%{x}<br>Count=%{text}<extra></extra>",
         "legendgroup": "Organic Farming",
         "marker": {
          "color": "#FECB52",
          "pattern": {
           "shape": ""
          }
         },
         "name": "Organic Farming",
         "orientation": "v",
         "showlegend": true,
         "text": {
          "bdata": "AAAAAAAALkAAAAAAAADwPwAAAAAAAPA/AAAAAAAAEEA=",
          "dtype": "f8"
         },
         "textposition": "auto",
         "type": "bar",
         "x": [
          "Others",
          "Paddy (Dhan)",
          "Sugarcane (Noble Cane)",
          "Wheat"
         ],
         "xaxis": "x",
         "y": {
          "bdata": "DwEBBA==",
          "dtype": "i1"
         },
         "yaxis": "y"
        },
        {
         "hovertemplate": "QueryType=Post Harvest Preservation<br>Crop=%{x}<br>Count=%{text}<extra></extra>",
         "legendgroup": "Post Harvest Preservation",
         "marker": {
          "color": "#636efa",
          "pattern": {
           "shape": ""
          }
         },
         "name": "Post Harvest Preservation",
         "orientation": "v",
         "showlegend": true,
         "text": {
          "bdata": "AAAAAAAACEAAAAAAAOBoQAAAAAAAAABAAAAAAAAAAEA=",
          "dtype": "f8"
         },
         "textposition": "auto",
         "type": "bar",
         "x": [
          "Others",
          "Paddy (Dhan)",
          "Sugarcane (Noble Cane)",
          "Wheat"
         ],
         "xaxis": "x",
         "y": {
          "bdata": "AwDHAAIAAgA=",
          "dtype": "i2"
         },
         "yaxis": "y"
        },
        {
         "hovertemplate": "QueryType=Power, Roads etc.<br>Crop=%{x}<br>Count=%{text}<extra></extra>",
         "legendgroup": "Power, Roads etc.",
         "marker": {
          "color": "#EF553B",
          "pattern": {
           "shape": ""
          }
         },
         "name": "Power, Roads etc.",
         "orientation": "v",
         "showlegend": true,
         "text": {
          "bdata": "AAAAAAAAFEAAAAAAAADwPwAAAAAAAPA/AAAAAAAACEA=",
          "dtype": "f8"
         },
         "textposition": "auto",
         "type": "bar",
         "x": [
          "Others",
          "Paddy (Dhan)",
          "Potato",
          "Wheat"
         ],
         "xaxis": "x",
         "y": {
          "bdata": "BQEBAw==",
          "dtype": "i1"
         },
         "yaxis": "y"
        },
        {
         "hovertemplate": "QueryType=Seeds<br>Crop=%{x}<br>Count=%{text}<extra></extra>",
         "legendgroup": "Seeds",
         "marker": {
          "color": "#00cc96",
          "pattern": {
           "shape": ""
          }
         },
         "name": "Seeds",
         "orientation": "v",
         "showlegend": true,
         "text": {
          "bdata": "AAAAAAAAM0AAAAAAAEBRQAAAAAAAACBAAAAAAAAAVEA=",
          "dtype": "f8"
         },
         "textposition": "auto",
         "type": "bar",
         "x": [
          "Others",
          "Paddy (Dhan)",
          "Sugarcane (Noble Cane)",
          "Wheat"
         ],
         "xaxis": "x",
         "y": {
          "bdata": "E0UIUA==",
          "dtype": "i1"
         },
         "yaxis": "y"
        },
        {
         "hovertemplate": "QueryType=Seeds and Planting Material<br>Crop=%{x}<br>Count=%{text}<extra></extra>",
         "legendgroup": "Seeds and Planting Material",
         "marker": {
          "color": "#ab63fa",
          "pattern": {
           "shape": ""
          }
         },
         "name": "Seeds and Planting Material",
         "orientation": "v",
         "showlegend": true,
         "text": {
          "bdata": "AAAAAAAA8D8AAAAAAAA5QA==",
          "dtype": "f8"
         },
         "textposition": "auto",
         "type": "bar",
         "x": [
          "Others",
          "Potato"
         ],
         "xaxis": "x",
         "y": {
          "bdata": "ARk=",
          "dtype": "i1"
         },
         "yaxis": "y"
        },
        {
         "hovertemplate": "QueryType=Soil Health Card<br>Crop=%{x}<br>Count=%{text}<extra></extra>",
         "legendgroup": "Soil Health Card",
         "marker": {
          "color": "#FFA15A",
          "pattern": {
           "shape": ""
          }
         },
         "name": "Soil Health Card",
         "orientation": "v",
         "showlegend": true,
         "text": {
          "bdata": "AAAAAAAAJEAAAAAAAAAUQAAAAAAAAPA/AAAAAAAA8D8=",
          "dtype": "f8"
         },
         "textposition": "auto",
         "type": "bar",
         "x": [
          "Others",
          "Paddy (Dhan)",
          "Sugarcane (Noble Cane)",
          "Wheat"
         ],
         "xaxis": "x",
         "y": {
          "bdata": "CgUBAQ==",
          "dtype": "i1"
         },
         "yaxis": "y"
        },
        {
         "hovertemplate": "QueryType=Soil Testing<br>Crop=%{x}<br>Count=%{text}<extra></extra>",
         "legendgroup": "Soil Testing",
         "marker": {
          "color": "#19d3f3",
          "pattern": {
           "shape": ""
          }
         },
         "name": "Soil Testing",
         "orientation": "v",
         "showlegend": true,
         "text": {
          "bdata": "AAAAAACAR0AAAAAAAAAQQAAAAAAAAPA/AAAAAAAACEA=",
          "dtype": "f8"
         },
         "textposition": "auto",
         "type": "bar",
         "x": [
          "Others",
          "Paddy (Dhan)",
          "Potato",
          "Wheat"
         ],
         "xaxis": "x",
         "y": {
          "bdata": "LwQBAw==",
          "dtype": "i1"
         },
         "yaxis": "y"
        },
        {
         "hovertemplate": "QueryType=Sowing Time and Weather<br>Crop=%{x}<br>Count=%{text}<extra></extra>",
         "legendgroup": "Sowing Time and Weather",
         "marker": {
          "color": "#FF6692",
          "pattern": {
           "shape": ""
          }
         },
         "name": "Sowing Time and Weather",
         "orientation": "v",
         "showlegend": true,
         "text": {
          "bdata": "AAAAAAAAMkAAAAAAAABeQAAAAAAAADlAAAAAAAAAPkAAAAAAAMBpQA==",
          "dtype": "f8"
         },
         "textposition": "auto",
         "type": "bar",
         "x": [
          "Others",
          "Paddy (Dhan)",
          "Potato",
          "Sugarcane (Noble Cane)",
          "Wheat"
         ],
         "xaxis": "x",
         "y": {
          "bdata": "EgB4ABkAHgDOAA==",
          "dtype": "i2"
         },
         "yaxis": "y"
        },
        {
         "hovertemplate": "QueryType=Storage<br>Crop=%{x}<br>Count=%{text}<extra></extra>",
         "legendgroup": "Storage",
         "marker": {
          "color": "#B6E880",
          "pattern": {
           "shape": ""
          }
         },
         "name": "Storage",
         "orientation": "v",
         "showlegend": true,
         "text": {
          "bdata": "AAAAAAAAEEAAAAAAAAAiQAAAAAAAACJA",
          "dtype": "f8"
         },
         "textposition": "auto",
         "type": "bar",
         "x": [
          "Others",
          "Paddy (Dhan)",
          "Wheat"
         ],
         "xaxis": "x",
         "y": {
          "bdata": "BAkJ",
          "dtype": "i1"
         },
         "yaxis": "y"
        },
        {
         "hovertemplate": "QueryType=Tank, Pond and Reservoir Management<br>Crop=%{x}<br>Count=%{text}<extra></extra>",
         "legendgroup": "Tank, Pond and Reservoir Management",
         "marker": {
          "color": "#FF97FF",
          "pattern": {
           "shape": ""
          }
         },
         "name": "Tank, Pond and Reservoir Management",
         "orientation": "v",
         "showlegend": true,
         "text": {
          "bdata": "AAAAAAAA8D8=",
          "dtype": "f8"
         },
         "textposition": "auto",
         "type": "bar",
         "x": [
          "Others"
         ],
         "xaxis": "x",
         "y": {
          "bdata": "AQ==",
          "dtype": "i1"
         },
         "yaxis": "y"
        },
        {
         "hovertemplate": "QueryType=Training and Exposure Visits<br>Crop=%{x}<br>Count=%{text}<extra></extra>",
         "legendgroup": "Training and Exposure Visits",
         "marker": {
          "color": "#FECB52",
          "pattern": {
           "shape": ""
          }
         },
         "name": "Training and Exposure Visits",
         "orientation": "v",
         "showlegend": true,
         "text": {
          "bdata": "AAAAAAAATEAAAAAAAAAAQAAAAAAAAPA/",
          "dtype": "f8"
         },
         "textposition": "auto",
         "type": "bar",
         "x": [
          "Others",
          "Sugarcane (Noble Cane)",
          "Wheat"
         ],
         "xaxis": "x",
         "y": {
          "bdata": "OAIB",
          "dtype": "i1"
         },
         "yaxis": "y"
        },
        {
         "hovertemplate": "QueryType=Varieties<br>Crop=%{x}<br>Count=%{text}<extra></extra>",
         "legendgroup": "Varieties",
         "marker": {
          "color": "#636efa",
          "pattern": {
           "shape": ""
          }
         },
         "name": "Varieties",
         "orientation": "v",
         "showlegend": true,
         "text": {
          "bdata": "AAAAAAAAIkAAAAAAADBwQAAAAAAAAPA/AAAAAAAAO0AAAAAAABB6QA==",
          "dtype": "f8"
         },
         "textposition": "auto",
         "type": "bar",
         "x": [
          "Others",
          "Paddy (Dhan)",
          "Potato",
          "Sugarcane (Noble Cane)",
          "Wheat"
         ],
         "xaxis": "x",
         "y": {
          "bdata": "CQADAQEAGwChAQ==",
          "dtype": "i2"
         },
         "yaxis": "y"
        },
        {
         "hovertemplate": "QueryType=Vegetative Propagation and Tissue Culture<br>Crop=%{x}<br>Count=%{text}<extra></extra>",
         "legendgroup": "Vegetative Propagation and Tissue Culture",
         "marker": {
          "color": "#EF553B",
          "pattern": {
           "shape": ""
          }
         },
         "name": "Vegetative Propagation and Tissue Culture",
         "orientation": "v",
         "showlegend": true,
         "text": {
          "bdata": "AAAAAAAA8D8AAAAAAAAYQA==",
          "dtype": "f8"
         },
         "textposition": "auto",
         "type": "bar",
         "x": [
          "Others",
          "Potato"
         ],
         "xaxis": "x",
         "y": {
          "bdata": "AQY=",
          "dtype": "i1"
         },
         "yaxis": "y"
        },
        {
         "hovertemplate": "QueryType=Water Management, Micro Irrigation<br>Crop=%{x}<br>Count=%{text}<extra></extra>",
         "legendgroup": "Water Management, Micro Irrigation",
         "marker": {
          "color": "#00cc96",
          "pattern": {
           "shape": ""
          }
         },
         "name": "Water Management, Micro Irrigation",
         "orientation": "v",
         "showlegend": true,
         "text": {
          "bdata": "AAAAAAAA8D8AAAAAAMBSQA==",
          "dtype": "f8"
         },
         "textposition": "auto",
         "type": "bar",
         "x": [
          "Others",
          "Potato"
         ],
         "xaxis": "x",
         "y": {
          "bdata": "AUs=",
          "dtype": "i1"
         },
         "yaxis": "y"
        },
        {
         "hovertemplate": "QueryType=Weather<br>Crop=%{x}<br>Count=%{text}<extra></extra>",
         "legendgroup": "Weather",
         "marker": {
          "color": "#ab63fa",
          "pattern": {
           "shape": ""
          }
         },
         "name": "Weather",
         "orientation": "v",
         "showlegend": true,
         "text": {
          "bdata": "AAAAAABSrEAAAAAAAFiWQAAAAAAA4HVAAAAAAACQgkAAAAAAABCpQA==",
          "dtype": "f8"
         },
         "textposition": "auto",
         "type": "bar",
         "x": [
          "Others",
          "Paddy (Dhan)",
          "Potato",
          "Sugarcane (Noble Cane)",
          "Wheat"
         ],
         "xaxis": "x",
         "y": {
          "bdata": "KQ6WBV4BUgKIDA==",
          "dtype": "i2"
         },
         "yaxis": "y"
        },
        {
         "hovertemplate": "QueryType=Weed Management<br>Crop=%{x}<br>Count=%{text}<extra></extra>",
         "legendgroup": "Weed Management",
         "marker": {
          "color": "#FFA15A",
          "pattern": {
           "shape": ""
          }
         },
         "name": "Weed Management",
         "orientation": "v",
         "showlegend": true,
         "text": {
          "bdata": "AAAAAADAV0AAAAAAABiAQAAAAAAAAPA/AAAAAAAgYkAAAAAAAKB8QA==",
          "dtype": "f8"
         },
         "textposition": "auto",
         "type": "bar",
         "x": [
          "Others",
          "Paddy (Dhan)",
          "Potato",
          "Sugarcane (Noble Cane)",
          "Wheat"
         ],
         "xaxis": "x",
         "y": {
          "bdata": "XwADAgEAkQDKAQ==",
          "dtype": "i2"
         },
         "yaxis": "y"
        },
        {
         "hovertemplate": "QueryType=Nursery Management<br>Crop=%{x}<br>Count=%{text}<extra></extra>",
         "legendgroup": "Nursery Management",
         "marker": {
          "color": "#19d3f3",
          "pattern": {
           "shape": ""
          }
         },
         "name": "Nursery Management",
         "orientation": "v",
         "showlegend": true,
         "text": {
          "bdata": "AAAAAAAAEEA=",
          "dtype": "f8"
         },
         "textposition": "auto",
         "type": "bar",
         "x": [
          "Potato"
         ],
         "xaxis": "x",
         "y": {
          "bdata": "BA==",
          "dtype": "i1"
         },
         "yaxis": "y"
        },
        {
         "hovertemplate": "QueryType=Post Harvest Management (Cleaning, Grading, Packaging, Food Processing, Cool Chain etc.)<br>Crop=%{x}<br>Count=%{text}<extra></extra>",
         "legendgroup": "Post Harvest Management (Cleaning, Grading, Packaging, Food Processing, Cool Chain etc.)",
         "marker": {
          "color": "#FF6692",
          "pattern": {
           "shape": ""
          }
         },
         "name": "Post Harvest Management (Cleaning, Grading, Packaging, Food Processing, Cool Chain etc.)",
         "orientation": "v",
         "showlegend": true,
         "text": {
          "bdata": "AAAAAAAA8D8=",
          "dtype": "f8"
         },
         "textposition": "auto",
         "type": "bar",
         "x": [
          "Potato"
         ],
         "xaxis": "x",
         "y": {
          "bdata": "AQ==",
          "dtype": "i1"
         },
         "yaxis": "y"
        }
       ],
       "layout": {
        "barmode": "stack",
        "legend": {
         "title": {
          "text": "QueryType"
         },
         "tracegroupgap": 0
        },
        "template": {
         "data": {
          "bar": [
           {
            "error_x": {
             "color": "#2a3f5f"
            },
            "error_y": {
             "color": "#2a3f5f"
            },
            "marker": {
             "line": {
              "color": "#E5ECF6",
              "width": 0.5
             },
             "pattern": {
              "fillmode": "overlay",
              "size": 10,
              "solidity": 0.2
             }
            },
            "type": "bar"
           }
          ],
          "barpolar": [
           {
            "marker": {
             "line": {
              "color": "#E5ECF6",
              "width": 0.5
             },
             "pattern": {
              "fillmode": "overlay",
              "size": 10,
              "solidity": 0.2
             }
            },
            "type": "barpolar"
           }
          ],
          "carpet": [
           {
            "aaxis": {
             "endlinecolor": "#2a3f5f",
             "gridcolor": "white",
             "linecolor": "white",
             "minorgridcolor": "white",
             "startlinecolor": "#2a3f5f"
            },
            "baxis": {
             "endlinecolor": "#2a3f5f",
             "gridcolor": "white",
             "linecolor": "white",
             "minorgridcolor": "white",
             "startlinecolor": "#2a3f5f"
            },
            "type": "carpet"
           }
          ],
          "choropleth": [
           {
            "colorbar": {
             "outlinewidth": 0,
             "ticks": ""
            },
            "type": "choropleth"
           }
          ],
          "contour": [
           {
            "colorbar": {
             "outlinewidth": 0,
             "ticks": ""
            },
            "colorscale": [
             [
              0,
              "#0d0887"
             ],
             [
              0.1111111111111111,
              "#46039f"
             ],
             [
              0.2222222222222222,
              "#7201a8"
             ],
             [
              0.3333333333333333,
              "#9c179e"
             ],
             [
              0.4444444444444444,
              "#bd3786"
             ],
             [
              0.5555555555555556,
              "#d8576b"
             ],
             [
              0.6666666666666666,
              "#ed7953"
             ],
             [
              0.7777777777777778,
              "#fb9f3a"
             ],
             [
              0.8888888888888888,
              "#fdca26"
             ],
             [
              1,
              "#f0f921"
             ]
            ],
            "type": "contour"
           }
          ],
          "contourcarpet": [
           {
            "colorbar": {
             "outlinewidth": 0,
             "ticks": ""
            },
            "type": "contourcarpet"
           }
          ],
          "heatmap": [
           {
            "colorbar": {
             "outlinewidth": 0,
             "ticks": ""
            },
            "colorscale": [
             [
              0,
              "#0d0887"
             ],
             [
              0.1111111111111111,
              "#46039f"
             ],
             [
              0.2222222222222222,
              "#7201a8"
             ],
             [
              0.3333333333333333,
              "#9c179e"
             ],
             [
              0.4444444444444444,
              "#bd3786"
             ],
             [
              0.5555555555555556,
              "#d8576b"
             ],
             [
              0.6666666666666666,
              "#ed7953"
             ],
             [
              0.7777777777777778,
              "#fb9f3a"
             ],
             [
              0.8888888888888888,
              "#fdca26"
             ],
             [
              1,
              "#f0f921"
             ]
            ],
            "type": "heatmap"
           }
          ],
          "histogram": [
           {
            "marker": {
             "pattern": {
              "fillmode": "overlay",
              "size": 10,
              "solidity": 0.2
             }
            },
            "type": "histogram"
           }
          ],
          "histogram2d": [
           {
            "colorbar": {
             "outlinewidth": 0,
             "ticks": ""
            },
            "colorscale": [
             [
              0,
              "#0d0887"
             ],
             [
              0.1111111111111111,
              "#46039f"
             ],
             [
              0.2222222222222222,
              "#7201a8"
             ],
             [
              0.3333333333333333,
              "#9c179e"
             ],
             [
              0.4444444444444444,
              "#bd3786"
             ],
             [
              0.5555555555555556,
              "#d8576b"
             ],
             [
              0.6666666666666666,
              "#ed7953"
             ],
             [
              0.7777777777777778,
              "#fb9f3a"
             ],
             [
              0.8888888888888888,
              "#fdca26"
             ],
             [
              1,
              "#f0f921"
             ]
            ],
            "type": "histogram2d"
           }
          ],
          "histogram2dcontour": [
           {
            "colorbar": {
             "outlinewidth": 0,
             "ticks": ""
            },
            "colorscale": [
             [
              0,
              "#0d0887"
             ],
             [
              0.1111111111111111,
              "#46039f"
             ],
             [
              0.2222222222222222,
              "#7201a8"
             ],
             [
              0.3333333333333333,
              "#9c179e"
             ],
             [
              0.4444444444444444,
              "#bd3786"
             ],
             [
              0.5555555555555556,
              "#d8576b"
             ],
             [
              0.6666666666666666,
              "#ed7953"
             ],
             [
              0.7777777777777778,
              "#fb9f3a"
             ],
             [
              0.8888888888888888,
              "#fdca26"
             ],
             [
              1,
              "#f0f921"
             ]
            ],
            "type": "histogram2dcontour"
           }
          ],
          "mesh3d": [
           {
            "colorbar": {
             "outlinewidth": 0,
             "ticks": ""
            },
            "type": "mesh3d"
           }
          ],
          "parcoords": [
           {
            "line": {
             "colorbar": {
              "outlinewidth": 0,
              "ticks": ""
             }
            },
            "type": "parcoords"
           }
          ],
          "pie": [
           {
            "automargin": true,
            "type": "pie"
           }
          ],
          "scatter": [
           {
            "fillpattern": {
             "fillmode": "overlay",
             "size": 10,
             "solidity": 0.2
            },
            "type": "scatter"
           }
          ],
          "scatter3d": [
           {
            "line": {
             "colorbar": {
              "outlinewidth": 0,
              "ticks": ""
             }
            },
            "marker": {
             "colorbar": {
              "outlinewidth": 0,
              "ticks": ""
             }
            },
            "type": "scatter3d"
           }
          ],
          "scattercarpet": [
           {
            "marker": {
             "colorbar": {
              "outlinewidth": 0,
              "ticks": ""
             }
            },
            "type": "scattercarpet"
           }
          ],
          "scattergeo": [
           {
            "marker": {
             "colorbar": {
              "outlinewidth": 0,
              "ticks": ""
             }
            },
            "type": "scattergeo"
           }
          ],
          "scattergl": [
           {
            "marker": {
             "colorbar": {
              "outlinewidth": 0,
              "ticks": ""
             }
            },
            "type": "scattergl"
           }
          ],
          "scattermap": [
           {
            "marker": {
             "colorbar": {
              "outlinewidth": 0,
              "ticks": ""
             }
            },
            "type": "scattermap"
           }
          ],
          "scattermapbox": [
           {
            "marker": {
             "colorbar": {
              "outlinewidth": 0,
              "ticks": ""
             }
            },
            "type": "scattermapbox"
           }
          ],
          "scatterpolar": [
           {
            "marker": {
             "colorbar": {
              "outlinewidth": 0,
              "ticks": ""
             }
            },
            "type": "scatterpolar"
           }
          ],
          "scatterpolargl": [
           {
            "marker": {
             "colorbar": {
              "outlinewidth": 0,
              "ticks": ""
             }
            },
            "type": "scatterpolargl"
           }
          ],
          "scatterternary": [
           {
            "marker": {
             "colorbar": {
              "outlinewidth": 0,
              "ticks": ""
             }
            },
            "type": "scatterternary"
           }
          ],
          "surface": [
           {
            "colorbar": {
             "outlinewidth": 0,
             "ticks": ""
            },
            "colorscale": [
             [
              0,
              "#0d0887"
             ],
             [
              0.1111111111111111,
              "#46039f"
             ],
             [
              0.2222222222222222,
              "#7201a8"
             ],
             [
              0.3333333333333333,
              "#9c179e"
             ],
             [
              0.4444444444444444,
              "#bd3786"
             ],
             [
              0.5555555555555556,
              "#d8576b"
             ],
             [
              0.6666666666666666,
              "#ed7953"
             ],
             [
              0.7777777777777778,
              "#fb9f3a"
             ],
             [
              0.8888888888888888,
              "#fdca26"
             ],
             [
              1,
              "#f0f921"
             ]
            ],
            "type": "surface"
           }
          ],
          "table": [
           {
            "cells": {
             "fill": {
              "color": "#EBF0F8"
             },
             "line": {
              "color": "white"
             }
            },
            "header": {
             "fill": {
              "color": "#C8D4E3"
             },
             "line": {
              "color": "white"
             }
            },
            "type": "table"
           }
          ]
         },
         "layout": {
          "annotationdefaults": {
           "arrowcolor": "#2a3f5f",
           "arrowhead": 0,
           "arrowwidth": 1
          },
          "autotypenumbers": "strict",
          "coloraxis": {
           "colorbar": {
            "outlinewidth": 0,
            "ticks": ""
           }
          },
          "colorscale": {
           "diverging": [
            [
             0,
             "#8e0152"
            ],
            [
             0.1,
             "#c51b7d"
            ],
            [
             0.2,
             "#de77ae"
            ],
            [
             0.3,
             "#f1b6da"
            ],
            [
             0.4,
             "#fde0ef"
            ],
            [
             0.5,
             "#f7f7f7"
            ],
            [
             0.6,
             "#e6f5d0"
            ],
            [
             0.7,
             "#b8e186"
            ],
            [
             0.8,
             "#7fbc41"
            ],
            [
             0.9,
             "#4d9221"
            ],
            [
             1,
             "#276419"
            ]
           ],
           "sequential": [
            [
             0,
             "#0d0887"
            ],
            [
             0.1111111111111111,
             "#46039f"
            ],
            [
             0.2222222222222222,
             "#7201a8"
            ],
            [
             0.3333333333333333,
             "#9c179e"
            ],
            [
             0.4444444444444444,
             "#bd3786"
            ],
            [
             0.5555555555555556,
             "#d8576b"
            ],
            [
             0.6666666666666666,
             "#ed7953"
            ],
            [
             0.7777777777777778,
             "#fb9f3a"
            ],
            [
             0.8888888888888888,
             "#fdca26"
            ],
            [
             1,
             "#f0f921"
            ]
           ],
           "sequentialminus": [
            [
             0,
             "#0d0887"
            ],
            [
             0.1111111111111111,
             "#46039f"
            ],
            [
             0.2222222222222222,
             "#7201a8"
            ],
            [
             0.3333333333333333,
             "#9c179e"
            ],
            [
             0.4444444444444444,
             "#bd3786"
            ],
            [
             0.5555555555555556,
             "#d8576b"
            ],
            [
             0.6666666666666666,
             "#ed7953"
            ],
            [
             0.7777777777777778,
             "#fb9f3a"
            ],
            [
             0.8888888888888888,
             "#fdca26"
            ],
            [
             1,
             "#f0f921"
            ]
           ]
          },
          "colorway": [
           "#636efa",
           "#EF553B",
           "#00cc96",
           "#ab63fa",
           "#FFA15A",
           "#19d3f3",
           "#FF6692",
           "#B6E880",
           "#FF97FF",
           "#FECB52"
          ],
          "font": {
           "color": "#2a3f5f"
          },
          "geo": {
           "bgcolor": "white",
           "lakecolor": "white",
           "landcolor": "#E5ECF6",
           "showlakes": true,
           "showland": true,
           "subunitcolor": "white"
          },
          "hoverlabel": {
           "align": "left"
          },
          "hovermode": "closest",
          "mapbox": {
           "style": "light"
          },
          "paper_bgcolor": "white",
          "plot_bgcolor": "#E5ECF6",
          "polar": {
           "angularaxis": {
            "gridcolor": "white",
            "linecolor": "white",
            "ticks": ""
           },
           "bgcolor": "#E5ECF6",
           "radialaxis": {
            "gridcolor": "white",
            "linecolor": "white",
            "ticks": ""
           }
          },
          "scene": {
           "xaxis": {
            "backgroundcolor": "#E5ECF6",
            "gridcolor": "white",
            "gridwidth": 2,
            "linecolor": "white",
            "showbackground": true,
            "ticks": "",
            "zerolinecolor": "white"
           },
           "yaxis": {
            "backgroundcolor": "#E5ECF6",
            "gridcolor": "white",
            "gridwidth": 2,
            "linecolor": "white",
            "showbackground": true,
            "ticks": "",
            "zerolinecolor": "white"
           },
           "zaxis": {
            "backgroundcolor": "#E5ECF6",
            "gridcolor": "white",
            "gridwidth": 2,
            "linecolor": "white",
            "showbackground": true,
            "ticks": "",
            "zerolinecolor": "white"
           }
          },
          "shapedefaults": {
           "line": {
            "color": "#2a3f5f"
           }
          },
          "ternary": {
           "aaxis": {
            "gridcolor": "white",
            "linecolor": "white",
            "ticks": ""
           },
           "baxis": {
            "gridcolor": "white",
            "linecolor": "white",
            "ticks": ""
           },
           "bgcolor": "#E5ECF6",
           "caxis": {
            "gridcolor": "white",
            "linecolor": "white",
            "ticks": ""
           }
          },
          "title": {
           "x": 0.05
          },
          "xaxis": {
           "automargin": true,
           "gridcolor": "white",
           "linecolor": "white",
           "ticks": "",
           "title": {
            "standoff": 15
           },
           "zerolinecolor": "white",
           "zerolinewidth": 2
          },
          "yaxis": {
           "automargin": true,
           "gridcolor": "white",
           "linecolor": "white",
           "ticks": "",
           "title": {
            "standoff": 15
           },
           "zerolinecolor": "white",
           "zerolinewidth": 2
          }
         }
        },
        "title": {
         "text": "Query Type Distribution Across Crops"
        },
        "xaxis": {
         "anchor": "y",
         "domain": [
          0,
          1
         ],
         "title": {
          "text": "Crop"
         }
        },
        "yaxis": {
         "anchor": "x",
         "domain": [
          0,
          1
         ],
         "title": {
          "text": "Query Count"
         }
        }
       }
      }
     },
     "metadata": {},
     "output_type": "display_data"
    }
   ],
   "source": [
    "# Focus on top 5 crops for clean chart\n",
    "top_crops = df['Crop'].value_counts().nlargest(5).index.tolist()\n",
    "filtered = df[df['Crop'].isin(top_crops)]\n",
    "\n",
    "# Group by crop and query type\n",
    "crop_query = filtered.groupby(['Crop', 'QueryType']).size().reset_index(name='Count')\n",
    "\n",
    "fig2 = px.bar(crop_query, x='Crop', y='Count', color='QueryType',\n",
    "              title='Query Type Distribution Across Crops',\n",
    "              text='Count', barmode='stack')\n",
    "fig2.update_layout(xaxis_title='Crop', yaxis_title='Query Count')\n",
    "fig2.show()"
   ]
  },
  {
   "cell_type": "code",
   "execution_count": null,
   "id": "c383686b",
   "metadata": {},
   "outputs": [],
   "source": []
  }
 ],
 "metadata": {
  "kernelspec": {
   "display_name": "Python 3",
   "language": "python",
   "name": "python3"
  },
  "language_info": {
   "codemirror_mode": {
    "name": "ipython",
    "version": 3
   },
   "file_extension": ".py",
   "mimetype": "text/x-python",
   "name": "python",
   "nbconvert_exporter": "python",
   "pygments_lexer": "ipython3",
   "version": "3.13.3"
  }
 },
 "nbformat": 4,
 "nbformat_minor": 5
}
