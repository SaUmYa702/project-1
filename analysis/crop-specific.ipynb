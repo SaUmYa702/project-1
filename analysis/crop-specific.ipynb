{
 "cells": [
  {
   "cell_type": "code",
   "execution_count": 2,
   "id": "17eddbe8",
   "metadata": {},
   "outputs": [],
   "source": [
    "import  pandas  as pd\n",
    "import numpy as np\n",
    "import matplotlib.pyplot as plt\n",
    "import seaborn as  sns"
   ]
  },
  {
   "cell_type": "code",
   "execution_count": 3,
   "id": "02c40de9",
   "metadata": {},
   "outputs": [
    {
     "name": "stdout",
     "output_type": "stream",
     "text": [
      "      Source.Name      StateName         DistrictName BlockName        Sector  \\\n",
      "0         apr.csv  UTTAR PRADESH  JYOTIBA PHULE NAGAR      JOYA   AGRICULTURE   \n",
      "1         apr.csv  UTTAR PRADESH  JYOTIBA PHULE NAGAR  DHANAURA  HORTICULTURE   \n",
      "2         apr.csv  UTTAR PRADESH  JYOTIBA PHULE NAGAR    AMROHA  HORTICULTURE   \n",
      "3         apr.csv  UTTAR PRADESH  JYOTIBA PHULE NAGAR      JOYA  HORTICULTURE   \n",
      "4         apr.csv  UTTAR PRADESH  JYOTIBA PHULE NAGAR    AMROHA   AGRICULTURE   \n",
      "...           ...            ...                  ...       ...           ...   \n",
      "45622     sep.csv  UTTAR PRADESH               AMROHA         0   AGRICULTURE   \n",
      "45623     sep.csv  UTTAR PRADESH               AMROHA         0  HORTICULTURE   \n",
      "45624     sep.csv  UTTAR PRADESH               AMROHA         0  HORTICULTURE   \n",
      "45625     sep.csv  UTTAR PRADESH               AMROHA         0   AGRICULTURE   \n",
      "45626     sep.csv  UTTAR PRADESH               AMROHA         0   AGRICULTURE   \n",
      "\n",
      "                     Category                    Crop  \\\n",
      "0      Sugar and Starch Crops  Sugarcane (Noble Cane)   \n",
      "1                      Fruits                  Papaya   \n",
      "2                      Fruits                   Mango   \n",
      "3                      Fruits                   Mango   \n",
      "4                     Cereals                   Wheat   \n",
      "...                       ...                     ...   \n",
      "45622                  Others                  Others   \n",
      "45623                  Fruits                   Mango   \n",
      "45624                  Fruits                   Mango   \n",
      "45625                 Cereals            Paddy (Dhan)   \n",
      "45626                 Cereals            Paddy (Dhan)   \n",
      "\n",
      "                                       QueryType  \\\n",
      "0                           \\tWater Management\\t   \n",
      "1                Fertilizer Use and Availability   \n",
      "2                           \\tPlant Protection\\t   \n",
      "3                           \\tPlant Protection\\t   \n",
      "4                                        Weather   \n",
      "...                                          ...   \n",
      "45622                         Government Schemes   \n",
      "45623  Vegetative Propagation and Tissue Culture   \n",
      "45624  Vegetative Propagation and Tissue Culture   \n",
      "45625                         Cultural Practices   \n",
      "45626                       \\tPlant Protection\\t   \n",
      "\n",
      "                                               QueryText  \\\n",
      "0      Provide information for irrigation in sugarcan...   \n",
      "1      Information about fertilizer management in pap...   \n",
      "2      Information about Powdery mildew disease in ma...   \n",
      "3      Information about fruit setting in mango trees...   \n",
      "4                          Farmer asked query on Weather   \n",
      "...                                                  ...   \n",
      "45622  Information related to loan on Kisan Credit Card?   \n",
      "45623      TELL  ME CONTACT NUMBER OF IARI PUSA DELHI ?    \n",
      "45624  Farmer asked about Saharanpur Nursery Contact ...   \n",
      "45625                      Farmer asked query on Weather   \n",
      "45626         About Grain  discolouration in Paddy crops   \n",
      "\n",
      "                                                  KccAns         CreatedOn  \\\n",
      "0      à¤¶à¥à¤°à¥à¤®à¤¾à¤¨ à¤à¥ à¤à¤¨à¥à¤¨à¥ à...  04-02-2024 09:14   \n",
      "1      à¤¶à¥à¤°à¥à¤®à¤¾à¤¨ à¤à¥,à¤¸à¥à¤à¥à¤·à¥...  04-02-2024 11:59   \n",
      "2      à¤¶à¥à¤°à¥à¤®à¤¾à¤¨ à¤à¥ à¤à¤® à¤à¥ à¤ª...  04-02-2024 19:25   \n",
      "3      à¤¸à¤° à¤à¤ª Naphthalene Acetic Acid 4.5%SL -...  04-03-2024 15:20   \n",
      "4      à¤®à¤¹à¥à¤¦à¤¯ à¤à¥ à¤à¤ª à¤à¥ à¤à¥à¤·...  04-04-2024 19:08   \n",
      "...                                                  ...               ...   \n",
      "45622  à¤®à¤¹à¥à¤¦à¤¯ à¤¯à¤¦à¤¿ à¤²à¤¾à¤­à¤¾à¤°à¥à¤...  09-11-2024 12:23   \n",
      "45623  à¤ªà¥à¤¸à¤¾ à¤¦à¤¿à¤²à¥à¤²à¥ à¤à¥ à¤¸à¤à...  09-11-2024 16:32   \n",
      "45624  Saharanpur Nursery of Uttar Pradesh  Contact U...  09-11-2024 16:34   \n",
      "45625  à¤¶à¥à¤°à¥à¤®à¤¾à¤¨ à¤à¥ à¤®à¥à¤¸à¤® à¤à...    9/15/2024 7:00   \n",
      "45626  --à¤®à¤¹à¥à¤¦à¤¯ ,à¤¯à¤¦à¤¿ à¤§à¤¾à¤¨ à¤à¥ ...   9/15/2024 17:22   \n",
      "\n",
      "       year  month  \n",
      "0      2024      4  \n",
      "1      2024      4  \n",
      "2      2024      4  \n",
      "3      2024      4  \n",
      "4      2024      4  \n",
      "...     ...    ...  \n",
      "45622  2024      9  \n",
      "45623  2024      9  \n",
      "45624  2024      9  \n",
      "45625  2024      9  \n",
      "45626  2024      9  \n",
      "\n",
      "[45627 rows x 13 columns]\n"
     ]
    }
   ],
   "source": [
    "df=pd.read_csv(\"kccdatasets.csv\",encoding='latin-1')\n",
    "print(df)"
   ]
  },
  {
   "cell_type": "code",
   "execution_count": 4,
   "id": "1fc9417e",
   "metadata": {},
   "outputs": [
    {
     "name": "stdout",
     "output_type": "stream",
     "text": [
      "<class 'pandas.core.frame.DataFrame'>\n",
      "RangeIndex: 45627 entries, 0 to 45626\n",
      "Data columns (total 13 columns):\n",
      " #   Column        Non-Null Count  Dtype \n",
      "---  ------        --------------  ----- \n",
      " 0   Source.Name   45627 non-null  object\n",
      " 1   StateName     45627 non-null  object\n",
      " 2   DistrictName  45627 non-null  object\n",
      " 3   BlockName     45627 non-null  object\n",
      " 4   Sector        45627 non-null  object\n",
      " 5   Category      45627 non-null  object\n",
      " 6   Crop          45627 non-null  object\n",
      " 7   QueryType     45627 non-null  object\n",
      " 8   QueryText     45627 non-null  object\n",
      " 9   KccAns        45625 non-null  object\n",
      " 10  CreatedOn     45627 non-null  object\n",
      " 11  year          45627 non-null  int64 \n",
      " 12  month         45627 non-null  int64 \n",
      "dtypes: int64(2), object(11)\n",
      "memory usage: 4.5+ MB\n"
     ]
    }
   ],
   "source": [
    "df.info()"
   ]
  },
  {
   "cell_type": "code",
   "execution_count": 5,
   "id": "a2faa0ff",
   "metadata": {},
   "outputs": [
    {
     "data": {
      "text/plain": [
       "Source.Name     0\n",
       "StateName       0\n",
       "DistrictName    0\n",
       "BlockName       0\n",
       "Sector          0\n",
       "Category        0\n",
       "Crop            0\n",
       "QueryType       0\n",
       "QueryText       0\n",
       "KccAns          2\n",
       "CreatedOn       0\n",
       "year            0\n",
       "month           0\n",
       "dtype: int64"
      ]
     },
     "execution_count": 5,
     "metadata": {},
     "output_type": "execute_result"
    }
   ],
   "source": [
    "df.isnull().sum()"
   ]
  },
  {
   "cell_type": "code",
   "execution_count": 6,
   "id": "a61feebe",
   "metadata": {},
   "outputs": [
    {
     "data": {
      "text/plain": [
       "Index(['Source.Name', 'StateName', 'DistrictName', 'BlockName', 'Sector',\n",
       "       'Category', 'Crop', 'QueryType', 'QueryText', 'KccAns', 'CreatedOn',\n",
       "       'year', 'month'],\n",
       "      dtype='object')"
      ]
     },
     "execution_count": 6,
     "metadata": {},
     "output_type": "execute_result"
    }
   ],
   "source": [
    "df.columns"
   ]
  },
  {
   "cell_type": "code",
   "execution_count": 7,
   "id": "1e2bb10a",
   "metadata": {},
   "outputs": [],
   "source": [
    "import plotly.express as px"
   ]
  },
  {
   "cell_type": "code",
   "execution_count": 8,
   "id": "fc0a7712",
   "metadata": {},
   "outputs": [
    {
     "data": {
      "application/vnd.plotly.v1+json": {
       "config": {
        "plotlyServerURL": "https://plot.ly"
       },
       "data": [
        {
         "hovertemplate": "Crop=%{x}<br>Query Count=%{text}<extra></extra>",
         "legendgroup": "",
         "marker": {
          "color": "#636efa",
          "pattern": {
           "shape": ""
          }
         },
         "name": "",
         "orientation": "v",
         "showlegend": false,
         "text": {
          "bdata": "AAAAAAAYz0AAAAAAAJG/QAAAAAAAo7tAAAAAAADGoEAAAAAAALiUQAAAAAAA8JFAAAAAAABgh0AAAAAAAHiGQAAAAAAAAINAAAAAAACYgkA=",
          "dtype": "f8"
         },
         "textposition": "outside",
         "type": "bar",
         "x": [
          "Others",
          "Paddy (Dhan)",
          "Wheat",
          "Sugarcane (Noble Cane)",
          "Potato",
          "Mustard",
          "Maize (Makka)",
          "Mango",
          "Green Gram (Moong Bean/ Moong)",
          "Groundnut (pea nut/mung phalli)"
         ],
         "xaxis": "x",
         "y": {
          "bdata": "MD6RH6MbYwguBXwE7ALPAmACUwI=",
          "dtype": "i2"
         },
         "yaxis": "y"
        }
       ],
       "layout": {
        "barmode": "relative",
        "legend": {
         "tracegroupgap": 0
        },
        "template": {
         "data": {
          "bar": [
           {
            "error_x": {
             "color": "#2a3f5f"
            },
            "error_y": {
             "color": "#2a3f5f"
            },
            "marker": {
             "line": {
              "color": "#E5ECF6",
              "width": 0.5
             },
             "pattern": {
              "fillmode": "overlay",
              "size": 10,
              "solidity": 0.2
             }
            },
            "type": "bar"
           }
          ],
          "barpolar": [
           {
            "marker": {
             "line": {
              "color": "#E5ECF6",
              "width": 0.5
             },
             "pattern": {
              "fillmode": "overlay",
              "size": 10,
              "solidity": 0.2
             }
            },
            "type": "barpolar"
           }
          ],
          "carpet": [
           {
            "aaxis": {
             "endlinecolor": "#2a3f5f",
             "gridcolor": "white",
             "linecolor": "white",
             "minorgridcolor": "white",
             "startlinecolor": "#2a3f5f"
            },
            "baxis": {
             "endlinecolor": "#2a3f5f",
             "gridcolor": "white",
             "linecolor": "white",
             "minorgridcolor": "white",
             "startlinecolor": "#2a3f5f"
            },
            "type": "carpet"
           }
          ],
          "choropleth": [
           {
            "colorbar": {
             "outlinewidth": 0,
             "ticks": ""
            },
            "type": "choropleth"
           }
          ],
          "contour": [
           {
            "colorbar": {
             "outlinewidth": 0,
             "ticks": ""
            },
            "colorscale": [
             [
              0,
              "#0d0887"
             ],
             [
              0.1111111111111111,
              "#46039f"
             ],
             [
              0.2222222222222222,
              "#7201a8"
             ],
             [
              0.3333333333333333,
              "#9c179e"
             ],
             [
              0.4444444444444444,
              "#bd3786"
             ],
             [
              0.5555555555555556,
              "#d8576b"
             ],
             [
              0.6666666666666666,
              "#ed7953"
             ],
             [
              0.7777777777777778,
              "#fb9f3a"
             ],
             [
              0.8888888888888888,
              "#fdca26"
             ],
             [
              1,
              "#f0f921"
             ]
            ],
            "type": "contour"
           }
          ],
          "contourcarpet": [
           {
            "colorbar": {
             "outlinewidth": 0,
             "ticks": ""
            },
            "type": "contourcarpet"
           }
          ],
          "heatmap": [
           {
            "colorbar": {
             "outlinewidth": 0,
             "ticks": ""
            },
            "colorscale": [
             [
              0,
              "#0d0887"
             ],
             [
              0.1111111111111111,
              "#46039f"
             ],
             [
              0.2222222222222222,
              "#7201a8"
             ],
             [
              0.3333333333333333,
              "#9c179e"
             ],
             [
              0.4444444444444444,
              "#bd3786"
             ],
             [
              0.5555555555555556,
              "#d8576b"
             ],
             [
              0.6666666666666666,
              "#ed7953"
             ],
             [
              0.7777777777777778,
              "#fb9f3a"
             ],
             [
              0.8888888888888888,
              "#fdca26"
             ],
             [
              1,
              "#f0f921"
             ]
            ],
            "type": "heatmap"
           }
          ],
          "histogram": [
           {
            "marker": {
             "pattern": {
              "fillmode": "overlay",
              "size": 10,
              "solidity": 0.2
             }
            },
            "type": "histogram"
           }
          ],
          "histogram2d": [
           {
            "colorbar": {
             "outlinewidth": 0,
             "ticks": ""
            },
            "colorscale": [
             [
              0,
              "#0d0887"
             ],
             [
              0.1111111111111111,
              "#46039f"
             ],
             [
              0.2222222222222222,
              "#7201a8"
             ],
             [
              0.3333333333333333,
              "#9c179e"
             ],
             [
              0.4444444444444444,
              "#bd3786"
             ],
             [
              0.5555555555555556,
              "#d8576b"
             ],
             [
              0.6666666666666666,
              "#ed7953"
             ],
             [
              0.7777777777777778,
              "#fb9f3a"
             ],
             [
              0.8888888888888888,
              "#fdca26"
             ],
             [
              1,
              "#f0f921"
             ]
            ],
            "type": "histogram2d"
           }
          ],
          "histogram2dcontour": [
           {
            "colorbar": {
             "outlinewidth": 0,
             "ticks": ""
            },
            "colorscale": [
             [
              0,
              "#0d0887"
             ],
             [
              0.1111111111111111,
              "#46039f"
             ],
             [
              0.2222222222222222,
              "#7201a8"
             ],
             [
              0.3333333333333333,
              "#9c179e"
             ],
             [
              0.4444444444444444,
              "#bd3786"
             ],
             [
              0.5555555555555556,
              "#d8576b"
             ],
             [
              0.6666666666666666,
              "#ed7953"
             ],
             [
              0.7777777777777778,
              "#fb9f3a"
             ],
             [
              0.8888888888888888,
              "#fdca26"
             ],
             [
              1,
              "#f0f921"
             ]
            ],
            "type": "histogram2dcontour"
           }
          ],
          "mesh3d": [
           {
            "colorbar": {
             "outlinewidth": 0,
             "ticks": ""
            },
            "type": "mesh3d"
           }
          ],
          "parcoords": [
           {
            "line": {
             "colorbar": {
              "outlinewidth": 0,
              "ticks": ""
             }
            },
            "type": "parcoords"
           }
          ],
          "pie": [
           {
            "automargin": true,
            "type": "pie"
           }
          ],
          "scatter": [
           {
            "fillpattern": {
             "fillmode": "overlay",
             "size": 10,
             "solidity": 0.2
            },
            "type": "scatter"
           }
          ],
          "scatter3d": [
           {
            "line": {
             "colorbar": {
              "outlinewidth": 0,
              "ticks": ""
             }
            },
            "marker": {
             "colorbar": {
              "outlinewidth": 0,
              "ticks": ""
             }
            },
            "type": "scatter3d"
           }
          ],
          "scattercarpet": [
           {
            "marker": {
             "colorbar": {
              "outlinewidth": 0,
              "ticks": ""
             }
            },
            "type": "scattercarpet"
           }
          ],
          "scattergeo": [
           {
            "marker": {
             "colorbar": {
              "outlinewidth": 0,
              "ticks": ""
             }
            },
            "type": "scattergeo"
           }
          ],
          "scattergl": [
           {
            "marker": {
             "colorbar": {
              "outlinewidth": 0,
              "ticks": ""
             }
            },
            "type": "scattergl"
           }
          ],
          "scattermap": [
           {
            "marker": {
             "colorbar": {
              "outlinewidth": 0,
              "ticks": ""
             }
            },
            "type": "scattermap"
           }
          ],
          "scattermapbox": [
           {
            "marker": {
             "colorbar": {
              "outlinewidth": 0,
              "ticks": ""
             }
            },
            "type": "scattermapbox"
           }
          ],
          "scatterpolar": [
           {
            "marker": {
             "colorbar": {
              "outlinewidth": 0,
              "ticks": ""
             }
            },
            "type": "scatterpolar"
           }
          ],
          "scatterpolargl": [
           {
            "marker": {
             "colorbar": {
              "outlinewidth": 0,
              "ticks": ""
             }
            },
            "type": "scatterpolargl"
           }
          ],
          "scatterternary": [
           {
            "marker": {
             "colorbar": {
              "outlinewidth": 0,
              "ticks": ""
             }
            },
            "type": "scatterternary"
           }
          ],
          "surface": [
           {
            "colorbar": {
             "outlinewidth": 0,
             "ticks": ""
            },
            "colorscale": [
             [
              0,
              "#0d0887"
             ],
             [
              0.1111111111111111,
              "#46039f"
             ],
             [
              0.2222222222222222,
              "#7201a8"
             ],
             [
              0.3333333333333333,
              "#9c179e"
             ],
             [
              0.4444444444444444,
              "#bd3786"
             ],
             [
              0.5555555555555556,
              "#d8576b"
             ],
             [
              0.6666666666666666,
              "#ed7953"
             ],
             [
              0.7777777777777778,
              "#fb9f3a"
             ],
             [
              0.8888888888888888,
              "#fdca26"
             ],
             [
              1,
              "#f0f921"
             ]
            ],
            "type": "surface"
           }
          ],
          "table": [
           {
            "cells": {
             "fill": {
              "color": "#EBF0F8"
             },
             "line": {
              "color": "white"
             }
            },
            "header": {
             "fill": {
              "color": "#C8D4E3"
             },
             "line": {
              "color": "white"
             }
            },
            "type": "table"
           }
          ]
         },
         "layout": {
          "annotationdefaults": {
           "arrowcolor": "#2a3f5f",
           "arrowhead": 0,
           "arrowwidth": 1
          },
          "autotypenumbers": "strict",
          "coloraxis": {
           "colorbar": {
            "outlinewidth": 0,
            "ticks": ""
           }
          },
          "colorscale": {
           "diverging": [
            [
             0,
             "#8e0152"
            ],
            [
             0.1,
             "#c51b7d"
            ],
            [
             0.2,
             "#de77ae"
            ],
            [
             0.3,
             "#f1b6da"
            ],
            [
             0.4,
             "#fde0ef"
            ],
            [
             0.5,
             "#f7f7f7"
            ],
            [
             0.6,
             "#e6f5d0"
            ],
            [
             0.7,
             "#b8e186"
            ],
            [
             0.8,
             "#7fbc41"
            ],
            [
             0.9,
             "#4d9221"
            ],
            [
             1,
             "#276419"
            ]
           ],
           "sequential": [
            [
             0,
             "#0d0887"
            ],
            [
             0.1111111111111111,
             "#46039f"
            ],
            [
             0.2222222222222222,
             "#7201a8"
            ],
            [
             0.3333333333333333,
             "#9c179e"
            ],
            [
             0.4444444444444444,
             "#bd3786"
            ],
            [
             0.5555555555555556,
             "#d8576b"
            ],
            [
             0.6666666666666666,
             "#ed7953"
            ],
            [
             0.7777777777777778,
             "#fb9f3a"
            ],
            [
             0.8888888888888888,
             "#fdca26"
            ],
            [
             1,
             "#f0f921"
            ]
           ],
           "sequentialminus": [
            [
             0,
             "#0d0887"
            ],
            [
             0.1111111111111111,
             "#46039f"
            ],
            [
             0.2222222222222222,
             "#7201a8"
            ],
            [
             0.3333333333333333,
             "#9c179e"
            ],
            [
             0.4444444444444444,
             "#bd3786"
            ],
            [
             0.5555555555555556,
             "#d8576b"
            ],
            [
             0.6666666666666666,
             "#ed7953"
            ],
            [
             0.7777777777777778,
             "#fb9f3a"
            ],
            [
             0.8888888888888888,
             "#fdca26"
            ],
            [
             1,
             "#f0f921"
            ]
           ]
          },
          "colorway": [
           "#636efa",
           "#EF553B",
           "#00cc96",
           "#ab63fa",
           "#FFA15A",
           "#19d3f3",
           "#FF6692",
           "#B6E880",
           "#FF97FF",
           "#FECB52"
          ],
          "font": {
           "color": "#2a3f5f"
          },
          "geo": {
           "bgcolor": "white",
           "lakecolor": "white",
           "landcolor": "#E5ECF6",
           "showlakes": true,
           "showland": true,
           "subunitcolor": "white"
          },
          "hoverlabel": {
           "align": "left"
          },
          "hovermode": "closest",
          "mapbox": {
           "style": "light"
          },
          "paper_bgcolor": "white",
          "plot_bgcolor": "#E5ECF6",
          "polar": {
           "angularaxis": {
            "gridcolor": "white",
            "linecolor": "white",
            "ticks": ""
           },
           "bgcolor": "#E5ECF6",
           "radialaxis": {
            "gridcolor": "white",
            "linecolor": "white",
            "ticks": ""
           }
          },
          "scene": {
           "xaxis": {
            "backgroundcolor": "#E5ECF6",
            "gridcolor": "white",
            "gridwidth": 2,
            "linecolor": "white",
            "showbackground": true,
            "ticks": "",
            "zerolinecolor": "white"
           },
           "yaxis": {
            "backgroundcolor": "#E5ECF6",
            "gridcolor": "white",
            "gridwidth": 2,
            "linecolor": "white",
            "showbackground": true,
            "ticks": "",
            "zerolinecolor": "white"
           },
           "zaxis": {
            "backgroundcolor": "#E5ECF6",
            "gridcolor": "white",
            "gridwidth": 2,
            "linecolor": "white",
            "showbackground": true,
            "ticks": "",
            "zerolinecolor": "white"
           }
          },
          "shapedefaults": {
           "line": {
            "color": "#2a3f5f"
           }
          },
          "ternary": {
           "aaxis": {
            "gridcolor": "white",
            "linecolor": "white",
            "ticks": ""
           },
           "baxis": {
            "gridcolor": "white",
            "linecolor": "white",
            "ticks": ""
           },
           "bgcolor": "#E5ECF6",
           "caxis": {
            "gridcolor": "white",
            "linecolor": "white",
            "ticks": ""
           }
          },
          "title": {
           "x": 0.05
          },
          "xaxis": {
           "automargin": true,
           "gridcolor": "white",
           "linecolor": "white",
           "ticks": "",
           "title": {
            "standoff": 15
           },
           "zerolinecolor": "white",
           "zerolinewidth": 2
          },
          "yaxis": {
           "automargin": true,
           "gridcolor": "white",
           "linecolor": "white",
           "ticks": "",
           "title": {
            "standoff": 15
           },
           "zerolinecolor": "white",
           "zerolinewidth": 2
          }
         }
        },
        "title": {
         "text": "Top 10 Queried Crops"
        },
        "xaxis": {
         "anchor": "y",
         "domain": [
          0,
          1
         ],
         "title": {
          "text": "Crop"
         }
        },
        "yaxis": {
         "anchor": "x",
         "domain": [
          0,
          1
         ],
         "title": {
          "text": "Query Count"
         }
        }
       }
      }
     },
     "metadata": {},
     "output_type": "display_data"
    }
   ],
   "source": [
    "top_crops = df['Crop'].value_counts().nlargest(10).reset_index()\n",
    "top_crops.columns = ['Crop', 'Query Count']\n",
    "fig1 = px.bar(top_crops, x='Crop', y='Query Count', \n",
    "              title='Top 10 Queried Crops', text='Query Count')\n",
    "fig1.update_traces(textposition='outside')\n",
    "fig1.update_layout(xaxis_title='Crop', yaxis_title='Query Count')\n",
    "fig1.show()"
   ]
  },
  {
   "cell_type": "code",
   "execution_count": 13,
   "id": "880c0337",
   "metadata": {},
   "outputs": [
    {
     "data": {
      "application/vnd.plotly.v1+json": {
       "config": {
        "plotlyServerURL": "https://plot.ly"
       },
       "data": [
        {
         "hovertemplate": "QueryType=\tField Preparation\t<br>Crop=%{x}<br>Count=%{text}<extra></extra>",
         "legendgroup": "\tField Preparation\t",
         "marker": {
          "color": "#636efa",
          "pattern": {
           "shape": ""
          }
         },
         "name": "\tField Preparation\t",
         "orientation": "v",
         "showlegend": true,
         "text": {
          "bdata": "AAAAAAAAEEAAAAAAAADwPwAAAAAAAPA/AAAAAAAAEEAAAAAAAAAsQAAAAAAAADFAAAAAAAAAGEAAAAAAAAA1QA==",
          "dtype": "f8"
         },
         "textposition": "auto",
         "type": "bar",
         "x": [
          "Green Gram (Moong Bean/ Moong)",
          "Groundnut (pea nut/mung phalli)",
          "Maize (Makka)",
          "Mustard",
          "Others",
          "Paddy (Dhan)",
          "Sugarcane (Noble Cane)",
          "Wheat"
         ],
         "xaxis": "x",
         "y": {
          "bdata": "BAEBBA4RBhU=",
          "dtype": "i1"
         },
         "yaxis": "y"
        },
        {
         "hovertemplate": "QueryType=\tPlant Protection\t<br>Crop=%{x}<br>Count=%{text}<extra></extra>",
         "legendgroup": "\tPlant Protection\t",
         "marker": {
          "color": "#EF553B",
          "pattern": {
           "shape": ""
          }
         },
         "name": "\tPlant Protection\t",
         "orientation": "v",
         "showlegend": true,
         "text": {
          "bdata": "AAAAAAAAX0AAAAAAAMBWQAAAAAAAQF5AAAAAAAAAf0AAAAAAAMBhQAAAAAAAQFdAAAAAAACIlkAAAAAAAGB5QAAAAAAAsIZAAAAAAAAQcEA=",
          "dtype": "f8"
         },
         "textposition": "auto",
         "type": "bar",
         "x": [
          "Green Gram (Moong Bean/ Moong)",
          "Groundnut (pea nut/mung phalli)",
          "Maize (Makka)",
          "Mango",
          "Mustard",
          "Others",
          "Paddy (Dhan)",
          "Potato",
          "Sugarcane (Noble Cane)",
          "Wheat"
         ],
         "xaxis": "x",
         "y": {
          "bdata": "fABbAHkA8AGOAF0AogWWAdYCAQE=",
          "dtype": "i2"
         },
         "yaxis": "y"
        },
        {
         "hovertemplate": "QueryType=\tWater Management\t<br>Crop=%{x}<br>Count=%{text}<extra></extra>",
         "legendgroup": "\tWater Management\t",
         "marker": {
          "color": "#00cc96",
          "pattern": {
           "shape": ""
          }
         },
         "name": "\tWater Management\t",
         "orientation": "v",
         "showlegend": true,
         "text": {
          "bdata": "AAAAAAAAOUAAAAAAAIBLQAAAAAAAADxAAAAAAACAX0AAAAAAAAAoQAAAAAAAZKBAAAAAAACASUAAAAAAAEBeQAAAAAAAoIRA",
          "dtype": "f8"
         },
         "textposition": "auto",
         "type": "bar",
         "x": [
          "Green Gram (Moong Bean/ Moong)",
          "Groundnut (pea nut/mung phalli)",
          "Maize (Makka)",
          "Mustard",
          "Others",
          "Paddy (Dhan)",
          "Potato",
          "Sugarcane (Noble Cane)",
          "Wheat"
         ],
         "xaxis": "x",
         "y": {
          "bdata": "GQA3ABwAfgAMADIIMwB5AJQC",
          "dtype": "i2"
         },
         "yaxis": "y"
        },
        {
         "hovertemplate": "QueryType=Agriculture Mechanization<br>Crop=%{x}<br>Count=%{text}<extra></extra>",
         "legendgroup": "Agriculture Mechanization",
         "marker": {
          "color": "#ab63fa",
          "pattern": {
           "shape": ""
          }
         },
         "name": "Agriculture Mechanization",
         "orientation": "v",
         "showlegend": true,
         "text": {
          "bdata": "AAAAAAAA8D8AAAAAAADwPwAAAAAAAABAAAAAAAAASkAAAAAAAAAIQAAAAAAAAAhAAAAAAAAAJEA=",
          "dtype": "f8"
         },
         "textposition": "auto",
         "type": "bar",
         "x": [
          "Green Gram (Moong Bean/ Moong)",
          "Groundnut (pea nut/mung phalli)",
          "Mango",
          "Others",
          "Paddy (Dhan)",
          "Sugarcane (Noble Cane)",
          "Wheat"
         ],
         "xaxis": "x",
         "y": {
          "bdata": "AQECNAMDCg==",
          "dtype": "i1"
         },
         "yaxis": "y"
        },
        {
         "hovertemplate": "QueryType=Bio-Pesticides and Bio-Fertilizers<br>Crop=%{x}<br>Count=%{text}<extra></extra>",
         "legendgroup": "Bio-Pesticides and Bio-Fertilizers",
         "marker": {
          "color": "#FFA15A",
          "pattern": {
           "shape": ""
          }
         },
         "name": "Bio-Pesticides and Bio-Fertilizers",
         "orientation": "v",
         "showlegend": true,
         "text": {
          "bdata": "AAAAAAAAAEAAAAAAAADwPwAAAAAAABBAAAAAAAAAAEAAAAAAAAAoQAAAAAAAAChAAAAAAAAAAEAAAAAAAAAkQAAAAAAAAAhA",
          "dtype": "f8"
         },
         "textposition": "auto",
         "type": "bar",
         "x": [
          "Green Gram (Moong Bean/ Moong)",
          "Maize (Makka)",
          "Mango",
          "Mustard",
          "Others",
          "Paddy (Dhan)",
          "Potato",
          "Sugarcane (Noble Cane)",
          "Wheat"
         ],
         "xaxis": "x",
         "y": {
          "bdata": "AgEEAgwMAgoD",
          "dtype": "i1"
         },
         "yaxis": "y"
        },
        {
         "hovertemplate": "QueryType=Cultural Practices<br>Crop=%{x}<br>Count=%{text}<extra></extra>",
         "legendgroup": "Cultural Practices",
         "marker": {
          "color": "#19d3f3",
          "pattern": {
           "shape": ""
          }
         },
         "name": "Cultural Practices",
         "orientation": "v",
         "showlegend": true,
         "text": {
          "bdata": "AAAAAAAAPEAAAAAAAIBOQAAAAAAAgERAAAAAAAAARUAAAAAAAIBOQAAAAAAAIGJAAAAAAADwhEAAAAAAAMBjQAAAAAAAwFdAAAAAAACgbUA=",
          "dtype": "f8"
         },
         "textposition": "auto",
         "type": "bar",
         "x": [
          "Green Gram (Moong Bean/ Moong)",
          "Groundnut (pea nut/mung phalli)",
          "Maize (Makka)",
          "Mango",
          "Mustard",
          "Others",
          "Paddy (Dhan)",
          "Potato",
          "Sugarcane (Noble Cane)",
          "Wheat"
         ],
         "xaxis": "x",
         "y": {
          "bdata": "HAA9ACkAKgA9AJEAngKeAF8A7QA=",
          "dtype": "i2"
         },
         "yaxis": "y"
        },
        {
         "hovertemplate": "QueryType=Fertilizer Use and Availability<br>Crop=%{x}<br>Count=%{text}<extra></extra>",
         "legendgroup": "Fertilizer Use and Availability",
         "marker": {
          "color": "#FF6692",
          "pattern": {
           "shape": ""
          }
         },
         "name": "Fertilizer Use and Availability",
         "orientation": "v",
         "showlegend": true,
         "text": {
          "bdata": "AAAAAAAAMkAAAAAAAAAxQAAAAAAAADhAAAAAAAAASUAAAAAAAOBgQAAAAAAAwFVAAAAAAABggEAAAAAAAIBbQAAAAAAA4GNAAAAAAAD4hEA=",
          "dtype": "f8"
         },
         "textposition": "auto",
         "type": "bar",
         "x": [
          "Green Gram (Moong Bean/ Moong)",
          "Groundnut (pea nut/mung phalli)",
          "Maize (Makka)",
          "Mango",
          "Mustard",
          "Others",
          "Paddy (Dhan)",
          "Potato",
          "Sugarcane (Noble Cane)",
          "Wheat"
         ],
         "xaxis": "x",
         "y": {
          "bdata": "EgARABgAMgCHAFcADAJuAJ8AnwI=",
          "dtype": "i2"
         },
         "yaxis": "y"
        },
        {
         "hovertemplate": "QueryType=Government Schemes<br>Crop=%{x}<br>Count=%{text}<extra></extra>",
         "legendgroup": "Government Schemes",
         "marker": {
          "color": "#B6E880",
          "pattern": {
           "shape": ""
          }
         },
         "name": "Government Schemes",
         "orientation": "v",
         "showlegend": true,
         "text": {
          "bdata": "AAAAAAAA8D8AAAAAAAAUQAAAAAAAAAhAAAAAAAAAJkAAAAAAAAAgQAAAAAAAOsZAAAAAAAAgbUAAAAAAAAAQQAAAAAAAgElAAAAAAADwcUA=",
          "dtype": "f8"
         },
         "textposition": "auto",
         "type": "bar",
         "x": [
          "Green Gram (Moong Bean/ Moong)",
          "Groundnut (pea nut/mung phalli)",
          "Maize (Makka)",
          "Mango",
          "Mustard",
          "Others",
          "Paddy (Dhan)",
          "Potato",
          "Sugarcane (Noble Cane)",
          "Wheat"
         ],
         "xaxis": "x",
         "y": {
          "bdata": "AQAFAAMACwAIAHQs6QAEADMAHwE=",
          "dtype": "i2"
         },
         "yaxis": "y"
        },
        {
         "hovertemplate": "QueryType=Market Information<br>Crop=%{x}<br>Count=%{text}<extra></extra>",
         "legendgroup": "Market Information",
         "marker": {
          "color": "#FF97FF",
          "pattern": {
           "shape": ""
          }
         },
         "name": "Market Information",
         "orientation": "v",
         "showlegend": true,
         "text": {
          "bdata": "AAAAAAAAAEAAAAAAAAAuQAAAAAAAABRAAAAAAAAAKEAAAAAAAAA9QAAAAAAAAEJAAAAAAAAAIkAAAAAAAAAUQAAAAAAAAEdA",
          "dtype": "f8"
         },
         "textposition": "auto",
         "type": "bar",
         "x": [
          "Green Gram (Moong Bean/ Moong)",
          "Groundnut (pea nut/mung phalli)",
          "Maize (Makka)",
          "Mustard",
          "Others",
          "Paddy (Dhan)",
          "Potato",
          "Sugarcane (Noble Cane)",
          "Wheat"
         ],
         "xaxis": "x",
         "y": {
          "bdata": "Ag8FDB0kCQUu",
          "dtype": "i1"
         },
         "yaxis": "y"
        },
        {
         "hovertemplate": "QueryType=Nutrient Management<br>Crop=%{x}<br>Count=%{text}<extra></extra>",
         "legendgroup": "Nutrient Management",
         "marker": {
          "color": "#FECB52",
          "pattern": {
           "shape": ""
          }
         },
         "name": "Nutrient Management",
         "orientation": "v",
         "showlegend": true,
         "text": {
          "bdata": "AAAAAACAREAAAAAAAAA1QAAAAAAAADhAAAAAAAAATkAAAAAAAIBQQAAAAAAAgEJAAAAAAADQeEAAAAAAAMBUQAAAAAAA4GNAAAAAAACAekA=",
          "dtype": "f8"
         },
         "textposition": "auto",
         "type": "bar",
         "x": [
          "Green Gram (Moong Bean/ Moong)",
          "Groundnut (pea nut/mung phalli)",
          "Maize (Makka)",
          "Mango",
          "Mustard",
          "Others",
          "Paddy (Dhan)",
          "Potato",
          "Sugarcane (Noble Cane)",
          "Wheat"
         ],
         "xaxis": "x",
         "y": {
          "bdata": "KQAVABgAPABCACUAjQFTAJ8AqAE=",
          "dtype": "i2"
         },
         "yaxis": "y"
        },
        {
         "hovertemplate": "QueryType=Post Harvest Preservation<br>Crop=%{x}<br>Count=%{text}<extra></extra>",
         "legendgroup": "Post Harvest Preservation",
         "marker": {
          "color": "#636efa",
          "pattern": {
           "shape": ""
          }
         },
         "name": "Post Harvest Preservation",
         "orientation": "v",
         "showlegend": true,
         "text": {
          "bdata": "AAAAAAAAAEAAAAAAAAA3QAAAAAAAABhAAAAAAAAACEAAAAAAAAAIQAAAAAAA4GhAAAAAAAAAAEAAAAAAAAAAQA==",
          "dtype": "f8"
         },
         "textposition": "auto",
         "type": "bar",
         "x": [
          "Green Gram (Moong Bean/ Moong)",
          "Groundnut (pea nut/mung phalli)",
          "Maize (Makka)",
          "Mustard",
          "Others",
          "Paddy (Dhan)",
          "Sugarcane (Noble Cane)",
          "Wheat"
         ],
         "xaxis": "x",
         "y": {
          "bdata": "AgAXAAYAAwADAMcAAgACAA==",
          "dtype": "i2"
         },
         "yaxis": "y"
        },
        {
         "hovertemplate": "QueryType=Seeds<br>Crop=%{x}<br>Count=%{text}<extra></extra>",
         "legendgroup": "Seeds",
         "marker": {
          "color": "#EF553B",
          "pattern": {
           "shape": ""
          }
         },
         "name": "Seeds",
         "orientation": "v",
         "showlegend": true,
         "text": {
          "bdata": "AAAAAAAAKEAAAAAAAAAIQAAAAAAAABhAAAAAAAAANkAAAAAAAAAzQAAAAAAAQFFAAAAAAAAAIEAAAAAAAABUQA==",
          "dtype": "f8"
         },
         "textposition": "auto",
         "type": "bar",
         "x": [
          "Green Gram (Moong Bean/ Moong)",
          "Groundnut (pea nut/mung phalli)",
          "Maize (Makka)",
          "Mustard",
          "Others",
          "Paddy (Dhan)",
          "Sugarcane (Noble Cane)",
          "Wheat"
         ],
         "xaxis": "x",
         "y": {
          "bdata": "DAMGFhNFCFA=",
          "dtype": "i1"
         },
         "yaxis": "y"
        },
        {
         "hovertemplate": "QueryType=Sowing Time and Weather<br>Crop=%{x}<br>Count=%{text}<extra></extra>",
         "legendgroup": "Sowing Time and Weather",
         "marker": {
          "color": "#00cc96",
          "pattern": {
           "shape": ""
          }
         },
         "name": "Sowing Time and Weather",
         "orientation": "v",
         "showlegend": true,
         "text": {
          "bdata": "AAAAAAAASEAAAAAAAAAwQAAAAAAAAEdAAAAAAABgY0AAAAAAAAAyQAAAAAAAAF5AAAAAAAAAOUAAAAAAAAA+QAAAAAAAwGlA",
          "dtype": "f8"
         },
         "textposition": "auto",
         "type": "bar",
         "x": [
          "Green Gram (Moong Bean/ Moong)",
          "Groundnut (pea nut/mung phalli)",
          "Maize (Makka)",
          "Mustard",
          "Others",
          "Paddy (Dhan)",
          "Potato",
          "Sugarcane (Noble Cane)",
          "Wheat"
         ],
         "xaxis": "x",
         "y": {
          "bdata": "MAAQAC4AmwASAHgAGQAeAM4A",
          "dtype": "i2"
         },
         "yaxis": "y"
        },
        {
         "hovertemplate": "QueryType=Varieties<br>Crop=%{x}<br>Count=%{text}<extra></extra>",
         "legendgroup": "Varieties",
         "marker": {
          "color": "#ab63fa",
          "pattern": {
           "shape": ""
          }
         },
         "name": "Varieties",
         "orientation": "v",
         "showlegend": true,
         "text": {
          "bdata": "AAAAAAAASUAAAAAAAAAcQAAAAAAAgENAAAAAAADgYkAAAAAAAAAiQAAAAAAAMHBAAAAAAAAA8D8AAAAAAAA7QAAAAAAAEHpA",
          "dtype": "f8"
         },
         "textposition": "auto",
         "type": "bar",
         "x": [
          "Green Gram (Moong Bean/ Moong)",
          "Groundnut (pea nut/mung phalli)",
          "Maize (Makka)",
          "Mustard",
          "Others",
          "Paddy (Dhan)",
          "Potato",
          "Sugarcane (Noble Cane)",
          "Wheat"
         ],
         "xaxis": "x",
         "y": {
          "bdata": "MgAHACcAlwAJAAMBAQAbAKEB",
          "dtype": "i2"
         },
         "yaxis": "y"
        },
        {
         "hovertemplate": "QueryType=Weather<br>Crop=%{x}<br>Count=%{text}<extra></extra>",
         "legendgroup": "Weather",
         "marker": {
          "color": "#FFA15A",
          "pattern": {
           "shape": ""
          }
         },
         "name": "Weather",
         "orientation": "v",
         "showlegend": true,
         "text": {
          "bdata": "AAAAAADgbUAAAAAAAOBtQAAAAAAAwHdAAAAAAACAQEAAAAAAAOBqQAAAAAAAUqxAAAAAAABYlkAAAAAAAOB1QAAAAAAAkIJAAAAAAAAQqUA=",
          "dtype": "f8"
         },
         "textposition": "auto",
         "type": "bar",
         "x": [
          "Green Gram (Moong Bean/ Moong)",
          "Groundnut (pea nut/mung phalli)",
          "Maize (Makka)",
          "Mango",
          "Mustard",
          "Others",
          "Paddy (Dhan)",
          "Potato",
          "Sugarcane (Noble Cane)",
          "Wheat"
         ],
         "xaxis": "x",
         "y": {
          "bdata": "7wDvAHwBIQDXACkOlgVeAVICiAw=",
          "dtype": "i2"
         },
         "yaxis": "y"
        },
        {
         "hovertemplate": "QueryType=Weed Management<br>Crop=%{x}<br>Count=%{text}<extra></extra>",
         "legendgroup": "Weed Management",
         "marker": {
          "color": "#19d3f3",
          "pattern": {
           "shape": ""
          }
         },
         "name": "Weed Management",
         "orientation": "v",
         "showlegend": true,
         "text": {
          "bdata": "AAAAAAAAJkAAAAAAAABDQAAAAAAAADVAAAAAAACARUAAAAAAAMBXQAAAAAAAGIBAAAAAAAAA8D8AAAAAACBiQAAAAAAAoHxA",
          "dtype": "f8"
         },
         "textposition": "auto",
         "type": "bar",
         "x": [
          "Green Gram (Moong Bean/ Moong)",
          "Groundnut (pea nut/mung phalli)",
          "Maize (Makka)",
          "Mustard",
          "Others",
          "Paddy (Dhan)",
          "Potato",
          "Sugarcane (Noble Cane)",
          "Wheat"
         ],
         "xaxis": "x",
         "y": {
          "bdata": "CwAmABUAKwBfAAMCAQCRAMoB",
          "dtype": "i2"
         },
         "yaxis": "y"
        },
        {
         "hovertemplate": "QueryType=Crop Insurance<br>Crop=%{x}<br>Count=%{text}<extra></extra>",
         "legendgroup": "Crop Insurance",
         "marker": {
          "color": "#FF6692",
          "pattern": {
           "shape": ""
          }
         },
         "name": "Crop Insurance",
         "orientation": "v",
         "showlegend": true,
         "text": {
          "bdata": "AAAAAAAAAEAAAAAAAADwPwAAAAAAAABAAAAAAACAR0AAAAAAAABCQAAAAAAAAPA/AAAAAACATkA=",
          "dtype": "f8"
         },
         "textposition": "auto",
         "type": "bar",
         "x": [
          "Groundnut (pea nut/mung phalli)",
          "Maize (Makka)",
          "Mustard",
          "Others",
          "Paddy (Dhan)",
          "Potato",
          "Wheat"
         ],
         "xaxis": "x",
         "y": {
          "bdata": "AgECLyQBPQ==",
          "dtype": "i1"
         },
         "yaxis": "y"
        },
        {
         "hovertemplate": "QueryType=Storage<br>Crop=%{x}<br>Count=%{text}<extra></extra>",
         "legendgroup": "Storage",
         "marker": {
          "color": "#B6E880",
          "pattern": {
           "shape": ""
          }
         },
         "name": "Storage",
         "orientation": "v",
         "showlegend": true,
         "text": {
          "bdata": "AAAAAAAA8D8AAAAAAAAQQAAAAAAAACJAAAAAAAAAIkA=",
          "dtype": "f8"
         },
         "textposition": "auto",
         "type": "bar",
         "x": [
          "Maize (Makka)",
          "Others",
          "Paddy (Dhan)",
          "Wheat"
         ],
         "xaxis": "x",
         "y": {
          "bdata": "AQQJCQ==",
          "dtype": "i1"
         },
         "yaxis": "y"
        },
        {
         "hovertemplate": "QueryType=Field Preparation<br>Crop=%{x}<br>Count=%{text}<extra></extra>",
         "legendgroup": "Field Preparation",
         "marker": {
          "color": "#FF97FF",
          "pattern": {
           "shape": ""
          }
         },
         "name": "Field Preparation",
         "orientation": "v",
         "showlegend": true,
         "text": {
          "bdata": "AAAAAAAACEAAAAAAAADwPwAAAAAAACZA",
          "dtype": "f8"
         },
         "textposition": "auto",
         "type": "bar",
         "x": [
          "Mango",
          "Others",
          "Potato"
         ],
         "xaxis": "x",
         "y": {
          "bdata": "AwEL",
          "dtype": "i1"
         },
         "yaxis": "y"
        },
        {
         "hovertemplate": "QueryType=Nursery Management<br>Crop=%{x}<br>Count=%{text}<extra></extra>",
         "legendgroup": "Nursery Management",
         "marker": {
          "color": "#FECB52",
          "pattern": {
           "shape": ""
          }
         },
         "name": "Nursery Management",
         "orientation": "v",
         "showlegend": true,
         "text": {
          "bdata": "AAAAAAAAEEAAAAAAAAAQQA==",
          "dtype": "f8"
         },
         "textposition": "auto",
         "type": "bar",
         "x": [
          "Mango",
          "Potato"
         ],
         "xaxis": "x",
         "y": {
          "bdata": "BAQ=",
          "dtype": "i1"
         },
         "yaxis": "y"
        },
        {
         "hovertemplate": "QueryType=Post Harvest Management (Cleaning, Grading, Packaging, Food Processing, Cool Chain etc.)<br>Crop=%{x}<br>Count=%{text}<extra></extra>",
         "legendgroup": "Post Harvest Management (Cleaning, Grading, Packaging, Food Processing, Cool Chain etc.)",
         "marker": {
          "color": "#636efa",
          "pattern": {
           "shape": ""
          }
         },
         "name": "Post Harvest Management (Cleaning, Grading, Packaging, Food Processing, Cool Chain etc.)",
         "orientation": "v",
         "showlegend": true,
         "text": {
          "bdata": "AAAAAAAA8D8AAAAAAADwPw==",
          "dtype": "f8"
         },
         "textposition": "auto",
         "type": "bar",
         "x": [
          "Mango",
          "Potato"
         ],
         "xaxis": "x",
         "y": {
          "bdata": "AQE=",
          "dtype": "i1"
         },
         "yaxis": "y"
        },
        {
         "hovertemplate": "QueryType=Seeds and Planting Material<br>Crop=%{x}<br>Count=%{text}<extra></extra>",
         "legendgroup": "Seeds and Planting Material",
         "marker": {
          "color": "#EF553B",
          "pattern": {
           "shape": ""
          }
         },
         "name": "Seeds and Planting Material",
         "orientation": "v",
         "showlegend": true,
         "text": {
          "bdata": "AAAAAAAACEAAAAAAAADwPwAAAAAAADlA",
          "dtype": "f8"
         },
         "textposition": "auto",
         "type": "bar",
         "x": [
          "Mango",
          "Others",
          "Potato"
         ],
         "xaxis": "x",
         "y": {
          "bdata": "AwEZ",
          "dtype": "i1"
         },
         "yaxis": "y"
        },
        {
         "hovertemplate": "QueryType=Vegetative Propagation and Tissue Culture<br>Crop=%{x}<br>Count=%{text}<extra></extra>",
         "legendgroup": "Vegetative Propagation and Tissue Culture",
         "marker": {
          "color": "#00cc96",
          "pattern": {
           "shape": ""
          }
         },
         "name": "Vegetative Propagation and Tissue Culture",
         "orientation": "v",
         "showlegend": true,
         "text": {
          "bdata": "AAAAAAAACEAAAAAAAADwPwAAAAAAABhA",
          "dtype": "f8"
         },
         "textposition": "auto",
         "type": "bar",
         "x": [
          "Mango",
          "Others",
          "Potato"
         ],
         "xaxis": "x",
         "y": {
          "bdata": "AwEG",
          "dtype": "i1"
         },
         "yaxis": "y"
        },
        {
         "hovertemplate": "QueryType=Water Management, Micro Irrigation<br>Crop=%{x}<br>Count=%{text}<extra></extra>",
         "legendgroup": "Water Management, Micro Irrigation",
         "marker": {
          "color": "#ab63fa",
          "pattern": {
           "shape": ""
          }
         },
         "name": "Water Management, Micro Irrigation",
         "orientation": "v",
         "showlegend": true,
         "text": {
          "bdata": "AAAAAAAAHEAAAAAAAADwPwAAAAAAwFJA",
          "dtype": "f8"
         },
         "textposition": "auto",
         "type": "bar",
         "x": [
          "Mango",
          "Others",
          "Potato"
         ],
         "xaxis": "x",
         "y": {
          "bdata": "BwFL",
          "dtype": "i1"
         },
         "yaxis": "y"
        },
        {
         "hovertemplate": "QueryType=Soil Testing<br>Crop=%{x}<br>Count=%{text}<extra></extra>",
         "legendgroup": "Soil Testing",
         "marker": {
          "color": "#FFA15A",
          "pattern": {
           "shape": ""
          }
         },
         "name": "Soil Testing",
         "orientation": "v",
         "showlegend": true,
         "text": {
          "bdata": "AAAAAAAA8D8AAAAAAIBHQAAAAAAAABBAAAAAAAAA8D8AAAAAAAAIQA==",
          "dtype": "f8"
         },
         "textposition": "auto",
         "type": "bar",
         "x": [
          "Mustard",
          "Others",
          "Paddy (Dhan)",
          "Potato",
          "Wheat"
         ],
         "xaxis": "x",
         "y": {
          "bdata": "AS8EAQM=",
          "dtype": "i1"
         },
         "yaxis": "y"
        },
        {
         "hovertemplate": "QueryType=Animal Breeding<br>Crop=%{x}<br>Count=%{text}<extra></extra>",
         "legendgroup": "Animal Breeding",
         "marker": {
          "color": "#19d3f3",
          "pattern": {
           "shape": ""
          }
         },
         "name": "Animal Breeding",
         "orientation": "v",
         "showlegend": true,
         "text": {
          "bdata": "AAAAAAAA8D8=",
          "dtype": "f8"
         },
         "textposition": "auto",
         "type": "bar",
         "x": [
          "Others"
         ],
         "xaxis": "x",
         "y": {
          "bdata": "AQ==",
          "dtype": "i1"
         },
         "yaxis": "y"
        },
        {
         "hovertemplate": "QueryType=Credit<br>Crop=%{x}<br>Count=%{text}<extra></extra>",
         "legendgroup": "Credit",
         "marker": {
          "color": "#FF6692",
          "pattern": {
           "shape": ""
          }
         },
         "name": "Credit",
         "orientation": "v",
         "showlegend": true,
         "text": {
          "bdata": "AAAAAACAV0AAAAAAAADwPwAAAAAAAPA/AAAAAAAAAEAAAAAAAAAYQA==",
          "dtype": "f8"
         },
         "textposition": "auto",
         "type": "bar",
         "x": [
          "Others",
          "Paddy (Dhan)",
          "Potato",
          "Sugarcane (Noble Cane)",
          "Wheat"
         ],
         "xaxis": "x",
         "y": {
          "bdata": "XgEBAgY=",
          "dtype": "i1"
         },
         "yaxis": "y"
        },
        {
         "hovertemplate": "QueryType=Dairy Production<br>Crop=%{x}<br>Count=%{text}<extra></extra>",
         "legendgroup": "Dairy Production",
         "marker": {
          "color": "#B6E880",
          "pattern": {
           "shape": ""
          }
         },
         "name": "Dairy Production",
         "orientation": "v",
         "showlegend": true,
         "text": {
          "bdata": "AAAAAAAA8D8=",
          "dtype": "f8"
         },
         "textposition": "auto",
         "type": "bar",
         "x": [
          "Others"
         ],
         "xaxis": "x",
         "y": {
          "bdata": "AQ==",
          "dtype": "i1"
         },
         "yaxis": "y"
        },
        {
         "hovertemplate": "QueryType=Disease Management<br>Crop=%{x}<br>Count=%{text}<extra></extra>",
         "legendgroup": "Disease Management",
         "marker": {
          "color": "#FF97FF",
          "pattern": {
           "shape": ""
          }
         },
         "name": "Disease Management",
         "orientation": "v",
         "showlegend": true,
         "text": {
          "bdata": "AAAAAAAA8D8=",
          "dtype": "f8"
         },
         "textposition": "auto",
         "type": "bar",
         "x": [
          "Others"
         ],
         "xaxis": "x",
         "y": {
          "bdata": "AQ==",
          "dtype": "i1"
         },
         "yaxis": "y"
        },
        {
         "hovertemplate": "QueryType=Fishery Mechanization<br>Crop=%{x}<br>Count=%{text}<extra></extra>",
         "legendgroup": "Fishery Mechanization",
         "marker": {
          "color": "#FECB52",
          "pattern": {
           "shape": ""
          }
         },
         "name": "Fishery Mechanization",
         "orientation": "v",
         "showlegend": true,
         "text": {
          "bdata": "AAAAAAAA8D8=",
          "dtype": "f8"
         },
         "textposition": "auto",
         "type": "bar",
         "x": [
          "Others"
         ],
         "xaxis": "x",
         "y": {
          "bdata": "AQ==",
          "dtype": "i1"
         },
         "yaxis": "y"
        },
        {
         "hovertemplate": "QueryType=Fishery Nutrition<br>Crop=%{x}<br>Count=%{text}<extra></extra>",
         "legendgroup": "Fishery Nutrition",
         "marker": {
          "color": "#636efa",
          "pattern": {
           "shape": ""
          }
         },
         "name": "Fishery Nutrition",
         "orientation": "v",
         "showlegend": true,
         "text": {
          "bdata": "AAAAAAAAAEA=",
          "dtype": "f8"
         },
         "textposition": "auto",
         "type": "bar",
         "x": [
          "Others"
         ],
         "xaxis": "x",
         "y": {
          "bdata": "Ag==",
          "dtype": "i1"
         },
         "yaxis": "y"
        },
        {
         "hovertemplate": "QueryType=Magur Breeding and Culture<br>Crop=%{x}<br>Count=%{text}<extra></extra>",
         "legendgroup": "Magur Breeding and Culture",
         "marker": {
          "color": "#EF553B",
          "pattern": {
           "shape": ""
          }
         },
         "name": "Magur Breeding and Culture",
         "orientation": "v",
         "showlegend": true,
         "text": {
          "bdata": "AAAAAAAA8D8=",
          "dtype": "f8"
         },
         "textposition": "auto",
         "type": "bar",
         "x": [
          "Others"
         ],
         "xaxis": "x",
         "y": {
          "bdata": "AQ==",
          "dtype": "i1"
         },
         "yaxis": "y"
        },
        {
         "hovertemplate": "QueryType=Organic Farming<br>Crop=%{x}<br>Count=%{text}<extra></extra>",
         "legendgroup": "Organic Farming",
         "marker": {
          "color": "#00cc96",
          "pattern": {
           "shape": ""
          }
         },
         "name": "Organic Farming",
         "orientation": "v",
         "showlegend": true,
         "text": {
          "bdata": "AAAAAAAALkAAAAAAAADwPwAAAAAAAPA/AAAAAAAAEEA=",
          "dtype": "f8"
         },
         "textposition": "auto",
         "type": "bar",
         "x": [
          "Others",
          "Paddy (Dhan)",
          "Sugarcane (Noble Cane)",
          "Wheat"
         ],
         "xaxis": "x",
         "y": {
          "bdata": "DwEBBA==",
          "dtype": "i1"
         },
         "yaxis": "y"
        },
        {
         "hovertemplate": "QueryType=Power, Roads etc.<br>Crop=%{x}<br>Count=%{text}<extra></extra>",
         "legendgroup": "Power, Roads etc.",
         "marker": {
          "color": "#ab63fa",
          "pattern": {
           "shape": ""
          }
         },
         "name": "Power, Roads etc.",
         "orientation": "v",
         "showlegend": true,
         "text": {
          "bdata": "AAAAAAAAFEAAAAAAAADwPwAAAAAAAPA/AAAAAAAACEA=",
          "dtype": "f8"
         },
         "textposition": "auto",
         "type": "bar",
         "x": [
          "Others",
          "Paddy (Dhan)",
          "Potato",
          "Wheat"
         ],
         "xaxis": "x",
         "y": {
          "bdata": "BQEBAw==",
          "dtype": "i1"
         },
         "yaxis": "y"
        },
        {
         "hovertemplate": "QueryType=Soil Health Card<br>Crop=%{x}<br>Count=%{text}<extra></extra>",
         "legendgroup": "Soil Health Card",
         "marker": {
          "color": "#FFA15A",
          "pattern": {
           "shape": ""
          }
         },
         "name": "Soil Health Card",
         "orientation": "v",
         "showlegend": true,
         "text": {
          "bdata": "AAAAAAAAJEAAAAAAAAAUQAAAAAAAAPA/AAAAAAAA8D8=",
          "dtype": "f8"
         },
         "textposition": "auto",
         "type": "bar",
         "x": [
          "Others",
          "Paddy (Dhan)",
          "Sugarcane (Noble Cane)",
          "Wheat"
         ],
         "xaxis": "x",
         "y": {
          "bdata": "CgUBAQ==",
          "dtype": "i1"
         },
         "yaxis": "y"
        },
        {
         "hovertemplate": "QueryType=Tank, Pond and Reservoir Management<br>Crop=%{x}<br>Count=%{text}<extra></extra>",
         "legendgroup": "Tank, Pond and Reservoir Management",
         "marker": {
          "color": "#19d3f3",
          "pattern": {
           "shape": ""
          }
         },
         "name": "Tank, Pond and Reservoir Management",
         "orientation": "v",
         "showlegend": true,
         "text": {
          "bdata": "AAAAAAAA8D8=",
          "dtype": "f8"
         },
         "textposition": "auto",
         "type": "bar",
         "x": [
          "Others"
         ],
         "xaxis": "x",
         "y": {
          "bdata": "AQ==",
          "dtype": "i1"
         },
         "yaxis": "y"
        },
        {
         "hovertemplate": "QueryType=Training and Exposure Visits<br>Crop=%{x}<br>Count=%{text}<extra></extra>",
         "legendgroup": "Training and Exposure Visits",
         "marker": {
          "color": "#FF6692",
          "pattern": {
           "shape": ""
          }
         },
         "name": "Training and Exposure Visits",
         "orientation": "v",
         "showlegend": true,
         "text": {
          "bdata": "AAAAAAAATEAAAAAAAAAAQAAAAAAAAPA/",
          "dtype": "f8"
         },
         "textposition": "auto",
         "type": "bar",
         "x": [
          "Others",
          "Sugarcane (Noble Cane)",
          "Wheat"
         ],
         "xaxis": "x",
         "y": {
          "bdata": "OAIB",
          "dtype": "i1"
         },
         "yaxis": "y"
        }
       ],
       "layout": {
        "barmode": "stack",
        "legend": {
         "title": {
          "text": "QueryType"
         },
         "tracegroupgap": 0
        },
        "template": {
         "data": {
          "bar": [
           {
            "error_x": {
             "color": "#2a3f5f"
            },
            "error_y": {
             "color": "#2a3f5f"
            },
            "marker": {
             "line": {
              "color": "#E5ECF6",
              "width": 0.5
             },
             "pattern": {
              "fillmode": "overlay",
              "size": 10,
              "solidity": 0.2
             }
            },
            "type": "bar"
           }
          ],
          "barpolar": [
           {
            "marker": {
             "line": {
              "color": "#E5ECF6",
              "width": 0.5
             },
             "pattern": {
              "fillmode": "overlay",
              "size": 10,
              "solidity": 0.2
             }
            },
            "type": "barpolar"
           }
          ],
          "carpet": [
           {
            "aaxis": {
             "endlinecolor": "#2a3f5f",
             "gridcolor": "white",
             "linecolor": "white",
             "minorgridcolor": "white",
             "startlinecolor": "#2a3f5f"
            },
            "baxis": {
             "endlinecolor": "#2a3f5f",
             "gridcolor": "white",
             "linecolor": "white",
             "minorgridcolor": "white",
             "startlinecolor": "#2a3f5f"
            },
            "type": "carpet"
           }
          ],
          "choropleth": [
           {
            "colorbar": {
             "outlinewidth": 0,
             "ticks": ""
            },
            "type": "choropleth"
           }
          ],
          "contour": [
           {
            "colorbar": {
             "outlinewidth": 0,
             "ticks": ""
            },
            "colorscale": [
             [
              0,
              "#0d0887"
             ],
             [
              0.1111111111111111,
              "#46039f"
             ],
             [
              0.2222222222222222,
              "#7201a8"
             ],
             [
              0.3333333333333333,
              "#9c179e"
             ],
             [
              0.4444444444444444,
              "#bd3786"
             ],
             [
              0.5555555555555556,
              "#d8576b"
             ],
             [
              0.6666666666666666,
              "#ed7953"
             ],
             [
              0.7777777777777778,
              "#fb9f3a"
             ],
             [
              0.8888888888888888,
              "#fdca26"
             ],
             [
              1,
              "#f0f921"
             ]
            ],
            "type": "contour"
           }
          ],
          "contourcarpet": [
           {
            "colorbar": {
             "outlinewidth": 0,
             "ticks": ""
            },
            "type": "contourcarpet"
           }
          ],
          "heatmap": [
           {
            "colorbar": {
             "outlinewidth": 0,
             "ticks": ""
            },
            "colorscale": [
             [
              0,
              "#0d0887"
             ],
             [
              0.1111111111111111,
              "#46039f"
             ],
             [
              0.2222222222222222,
              "#7201a8"
             ],
             [
              0.3333333333333333,
              "#9c179e"
             ],
             [
              0.4444444444444444,
              "#bd3786"
             ],
             [
              0.5555555555555556,
              "#d8576b"
             ],
             [
              0.6666666666666666,
              "#ed7953"
             ],
             [
              0.7777777777777778,
              "#fb9f3a"
             ],
             [
              0.8888888888888888,
              "#fdca26"
             ],
             [
              1,
              "#f0f921"
             ]
            ],
            "type": "heatmap"
           }
          ],
          "histogram": [
           {
            "marker": {
             "pattern": {
              "fillmode": "overlay",
              "size": 10,
              "solidity": 0.2
             }
            },
            "type": "histogram"
           }
          ],
          "histogram2d": [
           {
            "colorbar": {
             "outlinewidth": 0,
             "ticks": ""
            },
            "colorscale": [
             [
              0,
              "#0d0887"
             ],
             [
              0.1111111111111111,
              "#46039f"
             ],
             [
              0.2222222222222222,
              "#7201a8"
             ],
             [
              0.3333333333333333,
              "#9c179e"
             ],
             [
              0.4444444444444444,
              "#bd3786"
             ],
             [
              0.5555555555555556,
              "#d8576b"
             ],
             [
              0.6666666666666666,
              "#ed7953"
             ],
             [
              0.7777777777777778,
              "#fb9f3a"
             ],
             [
              0.8888888888888888,
              "#fdca26"
             ],
             [
              1,
              "#f0f921"
             ]
            ],
            "type": "histogram2d"
           }
          ],
          "histogram2dcontour": [
           {
            "colorbar": {
             "outlinewidth": 0,
             "ticks": ""
            },
            "colorscale": [
             [
              0,
              "#0d0887"
             ],
             [
              0.1111111111111111,
              "#46039f"
             ],
             [
              0.2222222222222222,
              "#7201a8"
             ],
             [
              0.3333333333333333,
              "#9c179e"
             ],
             [
              0.4444444444444444,
              "#bd3786"
             ],
             [
              0.5555555555555556,
              "#d8576b"
             ],
             [
              0.6666666666666666,
              "#ed7953"
             ],
             [
              0.7777777777777778,
              "#fb9f3a"
             ],
             [
              0.8888888888888888,
              "#fdca26"
             ],
             [
              1,
              "#f0f921"
             ]
            ],
            "type": "histogram2dcontour"
           }
          ],
          "mesh3d": [
           {
            "colorbar": {
             "outlinewidth": 0,
             "ticks": ""
            },
            "type": "mesh3d"
           }
          ],
          "parcoords": [
           {
            "line": {
             "colorbar": {
              "outlinewidth": 0,
              "ticks": ""
             }
            },
            "type": "parcoords"
           }
          ],
          "pie": [
           {
            "automargin": true,
            "type": "pie"
           }
          ],
          "scatter": [
           {
            "fillpattern": {
             "fillmode": "overlay",
             "size": 10,
             "solidity": 0.2
            },
            "type": "scatter"
           }
          ],
          "scatter3d": [
           {
            "line": {
             "colorbar": {
              "outlinewidth": 0,
              "ticks": ""
             }
            },
            "marker": {
             "colorbar": {
              "outlinewidth": 0,
              "ticks": ""
             }
            },
            "type": "scatter3d"
           }
          ],
          "scattercarpet": [
           {
            "marker": {
             "colorbar": {
              "outlinewidth": 0,
              "ticks": ""
             }
            },
            "type": "scattercarpet"
           }
          ],
          "scattergeo": [
           {
            "marker": {
             "colorbar": {
              "outlinewidth": 0,
              "ticks": ""
             }
            },
            "type": "scattergeo"
           }
          ],
          "scattergl": [
           {
            "marker": {
             "colorbar": {
              "outlinewidth": 0,
              "ticks": ""
             }
            },
            "type": "scattergl"
           }
          ],
          "scattermap": [
           {
            "marker": {
             "colorbar": {
              "outlinewidth": 0,
              "ticks": ""
             }
            },
            "type": "scattermap"
           }
          ],
          "scattermapbox": [
           {
            "marker": {
             "colorbar": {
              "outlinewidth": 0,
              "ticks": ""
             }
            },
            "type": "scattermapbox"
           }
          ],
          "scatterpolar": [
           {
            "marker": {
             "colorbar": {
              "outlinewidth": 0,
              "ticks": ""
             }
            },
            "type": "scatterpolar"
           }
          ],
          "scatterpolargl": [
           {
            "marker": {
             "colorbar": {
              "outlinewidth": 0,
              "ticks": ""
             }
            },
            "type": "scatterpolargl"
           }
          ],
          "scatterternary": [
           {
            "marker": {
             "colorbar": {
              "outlinewidth": 0,
              "ticks": ""
             }
            },
            "type": "scatterternary"
           }
          ],
          "surface": [
           {
            "colorbar": {
             "outlinewidth": 0,
             "ticks": ""
            },
            "colorscale": [
             [
              0,
              "#0d0887"
             ],
             [
              0.1111111111111111,
              "#46039f"
             ],
             [
              0.2222222222222222,
              "#7201a8"
             ],
             [
              0.3333333333333333,
              "#9c179e"
             ],
             [
              0.4444444444444444,
              "#bd3786"
             ],
             [
              0.5555555555555556,
              "#d8576b"
             ],
             [
              0.6666666666666666,
              "#ed7953"
             ],
             [
              0.7777777777777778,
              "#fb9f3a"
             ],
             [
              0.8888888888888888,
              "#fdca26"
             ],
             [
              1,
              "#f0f921"
             ]
            ],
            "type": "surface"
           }
          ],
          "table": [
           {
            "cells": {
             "fill": {
              "color": "#EBF0F8"
             },
             "line": {
              "color": "white"
             }
            },
            "header": {
             "fill": {
              "color": "#C8D4E3"
             },
             "line": {
              "color": "white"
             }
            },
            "type": "table"
           }
          ]
         },
         "layout": {
          "annotationdefaults": {
           "arrowcolor": "#2a3f5f",
           "arrowhead": 0,
           "arrowwidth": 1
          },
          "autotypenumbers": "strict",
          "coloraxis": {
           "colorbar": {
            "outlinewidth": 0,
            "ticks": ""
           }
          },
          "colorscale": {
           "diverging": [
            [
             0,
             "#8e0152"
            ],
            [
             0.1,
             "#c51b7d"
            ],
            [
             0.2,
             "#de77ae"
            ],
            [
             0.3,
             "#f1b6da"
            ],
            [
             0.4,
             "#fde0ef"
            ],
            [
             0.5,
             "#f7f7f7"
            ],
            [
             0.6,
             "#e6f5d0"
            ],
            [
             0.7,
             "#b8e186"
            ],
            [
             0.8,
             "#7fbc41"
            ],
            [
             0.9,
             "#4d9221"
            ],
            [
             1,
             "#276419"
            ]
           ],
           "sequential": [
            [
             0,
             "#0d0887"
            ],
            [
             0.1111111111111111,
             "#46039f"
            ],
            [
             0.2222222222222222,
             "#7201a8"
            ],
            [
             0.3333333333333333,
             "#9c179e"
            ],
            [
             0.4444444444444444,
             "#bd3786"
            ],
            [
             0.5555555555555556,
             "#d8576b"
            ],
            [
             0.6666666666666666,
             "#ed7953"
            ],
            [
             0.7777777777777778,
             "#fb9f3a"
            ],
            [
             0.8888888888888888,
             "#fdca26"
            ],
            [
             1,
             "#f0f921"
            ]
           ],
           "sequentialminus": [
            [
             0,
             "#0d0887"
            ],
            [
             0.1111111111111111,
             "#46039f"
            ],
            [
             0.2222222222222222,
             "#7201a8"
            ],
            [
             0.3333333333333333,
             "#9c179e"
            ],
            [
             0.4444444444444444,
             "#bd3786"
            ],
            [
             0.5555555555555556,
             "#d8576b"
            ],
            [
             0.6666666666666666,
             "#ed7953"
            ],
            [
             0.7777777777777778,
             "#fb9f3a"
            ],
            [
             0.8888888888888888,
             "#fdca26"
            ],
            [
             1,
             "#f0f921"
            ]
           ]
          },
          "colorway": [
           "#636efa",
           "#EF553B",
           "#00cc96",
           "#ab63fa",
           "#FFA15A",
           "#19d3f3",
           "#FF6692",
           "#B6E880",
           "#FF97FF",
           "#FECB52"
          ],
          "font": {
           "color": "#2a3f5f"
          },
          "geo": {
           "bgcolor": "white",
           "lakecolor": "white",
           "landcolor": "#E5ECF6",
           "showlakes": true,
           "showland": true,
           "subunitcolor": "white"
          },
          "hoverlabel": {
           "align": "left"
          },
          "hovermode": "closest",
          "mapbox": {
           "style": "light"
          },
          "paper_bgcolor": "white",
          "plot_bgcolor": "#E5ECF6",
          "polar": {
           "angularaxis": {
            "gridcolor": "white",
            "linecolor": "white",
            "ticks": ""
           },
           "bgcolor": "#E5ECF6",
           "radialaxis": {
            "gridcolor": "white",
            "linecolor": "white",
            "ticks": ""
           }
          },
          "scene": {
           "xaxis": {
            "backgroundcolor": "#E5ECF6",
            "gridcolor": "white",
            "gridwidth": 2,
            "linecolor": "white",
            "showbackground": true,
            "ticks": "",
            "zerolinecolor": "white"
           },
           "yaxis": {
            "backgroundcolor": "#E5ECF6",
            "gridcolor": "white",
            "gridwidth": 2,
            "linecolor": "white",
            "showbackground": true,
            "ticks": "",
            "zerolinecolor": "white"
           },
           "zaxis": {
            "backgroundcolor": "#E5ECF6",
            "gridcolor": "white",
            "gridwidth": 2,
            "linecolor": "white",
            "showbackground": true,
            "ticks": "",
            "zerolinecolor": "white"
           }
          },
          "shapedefaults": {
           "line": {
            "color": "#2a3f5f"
           }
          },
          "ternary": {
           "aaxis": {
            "gridcolor": "white",
            "linecolor": "white",
            "ticks": ""
           },
           "baxis": {
            "gridcolor": "white",
            "linecolor": "white",
            "ticks": ""
           },
           "bgcolor": "#E5ECF6",
           "caxis": {
            "gridcolor": "white",
            "linecolor": "white",
            "ticks": ""
           }
          },
          "title": {
           "x": 0.05
          },
          "xaxis": {
           "automargin": true,
           "gridcolor": "white",
           "linecolor": "white",
           "ticks": "",
           "title": {
            "standoff": 15
           },
           "zerolinecolor": "white",
           "zerolinewidth": 2
          },
          "yaxis": {
           "automargin": true,
           "gridcolor": "white",
           "linecolor": "white",
           "ticks": "",
           "title": {
            "standoff": 15
           },
           "zerolinecolor": "white",
           "zerolinewidth": 2
          }
         }
        },
        "title": {
         "text": "Query Types per Crop (Stacked Bar)"
        },
        "xaxis": {
         "anchor": "y",
         "domain": [
          0,
          1
         ],
         "title": {
          "text": "Crop"
         }
        },
        "yaxis": {
         "anchor": "x",
         "domain": [
          0,
          1
         ],
         "title": {
          "text": "Query Count"
         }
        }
       }
      }
     },
     "metadata": {},
     "output_type": "display_data"
    }
   ],
   "source": [
    "top_crop_names = top_crops['Crop'].tolist()\n",
    "filtered_df = df[df['Crop'].isin(top_crop_names)]\n",
    "query_types_per_crop = filtered_df.groupby(['Crop', 'QueryType']).size().reset_index(name='Count')\n",
    "fig2 = px.bar(query_types_per_crop, x='Crop', y='Count', color='QueryType',\n",
    "              title='Query Types per Crop (Stacked Bar)', text='Count')\n",
    "fig2.update_layout(barmode='stack', xaxis_title='Crop', yaxis_title='Query Count')\n",
    "fig2.show()"
   ]
  },
  {
   "cell_type": "code",
   "execution_count": 14,
   "id": "a0bc9b54",
   "metadata": {},
   "outputs": [
    {
     "data": {
      "application/vnd.plotly.v1+json": {
       "config": {
        "plotlyServerURL": "https://plot.ly"
       },
       "data": [
        {
         "alignmentgroup": "True",
         "hovertemplate": "Sector=AGRICULTURE<br>Crop=%{x}<br>Count=%{text}<extra></extra>",
         "legendgroup": "AGRICULTURE",
         "marker": {
          "color": "#636efa",
          "pattern": {
           "shape": ""
          }
         },
         "name": "AGRICULTURE",
         "offsetgroup": "AGRICULTURE",
         "orientation": "v",
         "showlegend": true,
         "text": {
          "bdata": "AAAAAAAAg0AAAAAAAJiCQAAAAAAAYIdAAAAAAAAAMUAAAAAAAPCRQAAAAAAADc9AAAAAAACRv0AAAAAAAJByQAAAAAAAxqBAAAAAAACju0A=",
          "dtype": "f8"
         },
         "textposition": "auto",
         "type": "bar",
         "x": [
          "Green Gram (Moong Bean/ Moong)",
          "Groundnut (pea nut/mung phalli)",
          "Maize (Makka)",
          "Mango",
          "Mustard",
          "Others",
          "Paddy (Dhan)",
          "Potato",
          "Sugarcane (Noble Cane)",
          "Wheat"
         ],
         "xaxis": "x",
         "y": {
          "bdata": "YAJTAuwCEQB8BBo+kR8pAWMIoxs=",
          "dtype": "i2"
         },
         "yaxis": "y"
        },
        {
         "alignmentgroup": "True",
         "hovertemplate": "Sector=HORTICULTURE<br>Crop=%{x}<br>Count=%{text}<extra></extra>",
         "legendgroup": "HORTICULTURE",
         "marker": {
          "color": "#EF553B",
          "pattern": {
           "shape": ""
          }
         },
         "name": "HORTICULTURE",
         "offsetgroup": "HORTICULTURE",
         "orientation": "v",
         "showlegend": true,
         "text": {
          "bdata": "AAAAAADwhUAAAAAAAAAoQAAAAAAAFJBA",
          "dtype": "f8"
         },
         "textposition": "auto",
         "type": "bar",
         "x": [
          "Mango",
          "Others",
          "Potato"
         ],
         "xaxis": "x",
         "y": {
          "bdata": "vgIMAAUE",
          "dtype": "i2"
         },
         "yaxis": "y"
        },
        {
         "alignmentgroup": "True",
         "hovertemplate": "Sector=ANIMAL HUSBANDRY<br>Crop=%{x}<br>Count=%{text}<extra></extra>",
         "legendgroup": "ANIMAL HUSBANDRY",
         "marker": {
          "color": "#00cc96",
          "pattern": {
           "shape": ""
          }
         },
         "name": "ANIMAL HUSBANDRY",
         "offsetgroup": "ANIMAL HUSBANDRY",
         "orientation": "v",
         "showlegend": true,
         "text": {
          "bdata": "AAAAAAAAFEA=",
          "dtype": "f8"
         },
         "textposition": "auto",
         "type": "bar",
         "x": [
          "Others"
         ],
         "xaxis": "x",
         "y": {
          "bdata": "BQ==",
          "dtype": "i1"
         },
         "yaxis": "y"
        },
        {
         "alignmentgroup": "True",
         "hovertemplate": "Sector=FISHERIES<br>Crop=%{x}<br>Count=%{text}<extra></extra>",
         "legendgroup": "FISHERIES",
         "marker": {
          "color": "#ab63fa",
          "pattern": {
           "shape": ""
          }
         },
         "name": "FISHERIES",
         "offsetgroup": "FISHERIES",
         "orientation": "v",
         "showlegend": true,
         "text": {
          "bdata": "AAAAAAAAFEA=",
          "dtype": "f8"
         },
         "textposition": "auto",
         "type": "bar",
         "x": [
          "Others"
         ],
         "xaxis": "x",
         "y": {
          "bdata": "BQ==",
          "dtype": "i1"
         },
         "yaxis": "y"
        }
       ],
       "layout": {
        "barmode": "group",
        "legend": {
         "title": {
          "text": "Sector"
         },
         "tracegroupgap": 0
        },
        "template": {
         "data": {
          "bar": [
           {
            "error_x": {
             "color": "#2a3f5f"
            },
            "error_y": {
             "color": "#2a3f5f"
            },
            "marker": {
             "line": {
              "color": "#E5ECF6",
              "width": 0.5
             },
             "pattern": {
              "fillmode": "overlay",
              "size": 10,
              "solidity": 0.2
             }
            },
            "type": "bar"
           }
          ],
          "barpolar": [
           {
            "marker": {
             "line": {
              "color": "#E5ECF6",
              "width": 0.5
             },
             "pattern": {
              "fillmode": "overlay",
              "size": 10,
              "solidity": 0.2
             }
            },
            "type": "barpolar"
           }
          ],
          "carpet": [
           {
            "aaxis": {
             "endlinecolor": "#2a3f5f",
             "gridcolor": "white",
             "linecolor": "white",
             "minorgridcolor": "white",
             "startlinecolor": "#2a3f5f"
            },
            "baxis": {
             "endlinecolor": "#2a3f5f",
             "gridcolor": "white",
             "linecolor": "white",
             "minorgridcolor": "white",
             "startlinecolor": "#2a3f5f"
            },
            "type": "carpet"
           }
          ],
          "choropleth": [
           {
            "colorbar": {
             "outlinewidth": 0,
             "ticks": ""
            },
            "type": "choropleth"
           }
          ],
          "contour": [
           {
            "colorbar": {
             "outlinewidth": 0,
             "ticks": ""
            },
            "colorscale": [
             [
              0,
              "#0d0887"
             ],
             [
              0.1111111111111111,
              "#46039f"
             ],
             [
              0.2222222222222222,
              "#7201a8"
             ],
             [
              0.3333333333333333,
              "#9c179e"
             ],
             [
              0.4444444444444444,
              "#bd3786"
             ],
             [
              0.5555555555555556,
              "#d8576b"
             ],
             [
              0.6666666666666666,
              "#ed7953"
             ],
             [
              0.7777777777777778,
              "#fb9f3a"
             ],
             [
              0.8888888888888888,
              "#fdca26"
             ],
             [
              1,
              "#f0f921"
             ]
            ],
            "type": "contour"
           }
          ],
          "contourcarpet": [
           {
            "colorbar": {
             "outlinewidth": 0,
             "ticks": ""
            },
            "type": "contourcarpet"
           }
          ],
          "heatmap": [
           {
            "colorbar": {
             "outlinewidth": 0,
             "ticks": ""
            },
            "colorscale": [
             [
              0,
              "#0d0887"
             ],
             [
              0.1111111111111111,
              "#46039f"
             ],
             [
              0.2222222222222222,
              "#7201a8"
             ],
             [
              0.3333333333333333,
              "#9c179e"
             ],
             [
              0.4444444444444444,
              "#bd3786"
             ],
             [
              0.5555555555555556,
              "#d8576b"
             ],
             [
              0.6666666666666666,
              "#ed7953"
             ],
             [
              0.7777777777777778,
              "#fb9f3a"
             ],
             [
              0.8888888888888888,
              "#fdca26"
             ],
             [
              1,
              "#f0f921"
             ]
            ],
            "type": "heatmap"
           }
          ],
          "histogram": [
           {
            "marker": {
             "pattern": {
              "fillmode": "overlay",
              "size": 10,
              "solidity": 0.2
             }
            },
            "type": "histogram"
           }
          ],
          "histogram2d": [
           {
            "colorbar": {
             "outlinewidth": 0,
             "ticks": ""
            },
            "colorscale": [
             [
              0,
              "#0d0887"
             ],
             [
              0.1111111111111111,
              "#46039f"
             ],
             [
              0.2222222222222222,
              "#7201a8"
             ],
             [
              0.3333333333333333,
              "#9c179e"
             ],
             [
              0.4444444444444444,
              "#bd3786"
             ],
             [
              0.5555555555555556,
              "#d8576b"
             ],
             [
              0.6666666666666666,
              "#ed7953"
             ],
             [
              0.7777777777777778,
              "#fb9f3a"
             ],
             [
              0.8888888888888888,
              "#fdca26"
             ],
             [
              1,
              "#f0f921"
             ]
            ],
            "type": "histogram2d"
           }
          ],
          "histogram2dcontour": [
           {
            "colorbar": {
             "outlinewidth": 0,
             "ticks": ""
            },
            "colorscale": [
             [
              0,
              "#0d0887"
             ],
             [
              0.1111111111111111,
              "#46039f"
             ],
             [
              0.2222222222222222,
              "#7201a8"
             ],
             [
              0.3333333333333333,
              "#9c179e"
             ],
             [
              0.4444444444444444,
              "#bd3786"
             ],
             [
              0.5555555555555556,
              "#d8576b"
             ],
             [
              0.6666666666666666,
              "#ed7953"
             ],
             [
              0.7777777777777778,
              "#fb9f3a"
             ],
             [
              0.8888888888888888,
              "#fdca26"
             ],
             [
              1,
              "#f0f921"
             ]
            ],
            "type": "histogram2dcontour"
           }
          ],
          "mesh3d": [
           {
            "colorbar": {
             "outlinewidth": 0,
             "ticks": ""
            },
            "type": "mesh3d"
           }
          ],
          "parcoords": [
           {
            "line": {
             "colorbar": {
              "outlinewidth": 0,
              "ticks": ""
             }
            },
            "type": "parcoords"
           }
          ],
          "pie": [
           {
            "automargin": true,
            "type": "pie"
           }
          ],
          "scatter": [
           {
            "fillpattern": {
             "fillmode": "overlay",
             "size": 10,
             "solidity": 0.2
            },
            "type": "scatter"
           }
          ],
          "scatter3d": [
           {
            "line": {
             "colorbar": {
              "outlinewidth": 0,
              "ticks": ""
             }
            },
            "marker": {
             "colorbar": {
              "outlinewidth": 0,
              "ticks": ""
             }
            },
            "type": "scatter3d"
           }
          ],
          "scattercarpet": [
           {
            "marker": {
             "colorbar": {
              "outlinewidth": 0,
              "ticks": ""
             }
            },
            "type": "scattercarpet"
           }
          ],
          "scattergeo": [
           {
            "marker": {
             "colorbar": {
              "outlinewidth": 0,
              "ticks": ""
             }
            },
            "type": "scattergeo"
           }
          ],
          "scattergl": [
           {
            "marker": {
             "colorbar": {
              "outlinewidth": 0,
              "ticks": ""
             }
            },
            "type": "scattergl"
           }
          ],
          "scattermap": [
           {
            "marker": {
             "colorbar": {
              "outlinewidth": 0,
              "ticks": ""
             }
            },
            "type": "scattermap"
           }
          ],
          "scattermapbox": [
           {
            "marker": {
             "colorbar": {
              "outlinewidth": 0,
              "ticks": ""
             }
            },
            "type": "scattermapbox"
           }
          ],
          "scatterpolar": [
           {
            "marker": {
             "colorbar": {
              "outlinewidth": 0,
              "ticks": ""
             }
            },
            "type": "scatterpolar"
           }
          ],
          "scatterpolargl": [
           {
            "marker": {
             "colorbar": {
              "outlinewidth": 0,
              "ticks": ""
             }
            },
            "type": "scatterpolargl"
           }
          ],
          "scatterternary": [
           {
            "marker": {
             "colorbar": {
              "outlinewidth": 0,
              "ticks": ""
             }
            },
            "type": "scatterternary"
           }
          ],
          "surface": [
           {
            "colorbar": {
             "outlinewidth": 0,
             "ticks": ""
            },
            "colorscale": [
             [
              0,
              "#0d0887"
             ],
             [
              0.1111111111111111,
              "#46039f"
             ],
             [
              0.2222222222222222,
              "#7201a8"
             ],
             [
              0.3333333333333333,
              "#9c179e"
             ],
             [
              0.4444444444444444,
              "#bd3786"
             ],
             [
              0.5555555555555556,
              "#d8576b"
             ],
             [
              0.6666666666666666,
              "#ed7953"
             ],
             [
              0.7777777777777778,
              "#fb9f3a"
             ],
             [
              0.8888888888888888,
              "#fdca26"
             ],
             [
              1,
              "#f0f921"
             ]
            ],
            "type": "surface"
           }
          ],
          "table": [
           {
            "cells": {
             "fill": {
              "color": "#EBF0F8"
             },
             "line": {
              "color": "white"
             }
            },
            "header": {
             "fill": {
              "color": "#C8D4E3"
             },
             "line": {
              "color": "white"
             }
            },
            "type": "table"
           }
          ]
         },
         "layout": {
          "annotationdefaults": {
           "arrowcolor": "#2a3f5f",
           "arrowhead": 0,
           "arrowwidth": 1
          },
          "autotypenumbers": "strict",
          "coloraxis": {
           "colorbar": {
            "outlinewidth": 0,
            "ticks": ""
           }
          },
          "colorscale": {
           "diverging": [
            [
             0,
             "#8e0152"
            ],
            [
             0.1,
             "#c51b7d"
            ],
            [
             0.2,
             "#de77ae"
            ],
            [
             0.3,
             "#f1b6da"
            ],
            [
             0.4,
             "#fde0ef"
            ],
            [
             0.5,
             "#f7f7f7"
            ],
            [
             0.6,
             "#e6f5d0"
            ],
            [
             0.7,
             "#b8e186"
            ],
            [
             0.8,
             "#7fbc41"
            ],
            [
             0.9,
             "#4d9221"
            ],
            [
             1,
             "#276419"
            ]
           ],
           "sequential": [
            [
             0,
             "#0d0887"
            ],
            [
             0.1111111111111111,
             "#46039f"
            ],
            [
             0.2222222222222222,
             "#7201a8"
            ],
            [
             0.3333333333333333,
             "#9c179e"
            ],
            [
             0.4444444444444444,
             "#bd3786"
            ],
            [
             0.5555555555555556,
             "#d8576b"
            ],
            [
             0.6666666666666666,
             "#ed7953"
            ],
            [
             0.7777777777777778,
             "#fb9f3a"
            ],
            [
             0.8888888888888888,
             "#fdca26"
            ],
            [
             1,
             "#f0f921"
            ]
           ],
           "sequentialminus": [
            [
             0,
             "#0d0887"
            ],
            [
             0.1111111111111111,
             "#46039f"
            ],
            [
             0.2222222222222222,
             "#7201a8"
            ],
            [
             0.3333333333333333,
             "#9c179e"
            ],
            [
             0.4444444444444444,
             "#bd3786"
            ],
            [
             0.5555555555555556,
             "#d8576b"
            ],
            [
             0.6666666666666666,
             "#ed7953"
            ],
            [
             0.7777777777777778,
             "#fb9f3a"
            ],
            [
             0.8888888888888888,
             "#fdca26"
            ],
            [
             1,
             "#f0f921"
            ]
           ]
          },
          "colorway": [
           "#636efa",
           "#EF553B",
           "#00cc96",
           "#ab63fa",
           "#FFA15A",
           "#19d3f3",
           "#FF6692",
           "#B6E880",
           "#FF97FF",
           "#FECB52"
          ],
          "font": {
           "color": "#2a3f5f"
          },
          "geo": {
           "bgcolor": "white",
           "lakecolor": "white",
           "landcolor": "#E5ECF6",
           "showlakes": true,
           "showland": true,
           "subunitcolor": "white"
          },
          "hoverlabel": {
           "align": "left"
          },
          "hovermode": "closest",
          "mapbox": {
           "style": "light"
          },
          "paper_bgcolor": "white",
          "plot_bgcolor": "#E5ECF6",
          "polar": {
           "angularaxis": {
            "gridcolor": "white",
            "linecolor": "white",
            "ticks": ""
           },
           "bgcolor": "#E5ECF6",
           "radialaxis": {
            "gridcolor": "white",
            "linecolor": "white",
            "ticks": ""
           }
          },
          "scene": {
           "xaxis": {
            "backgroundcolor": "#E5ECF6",
            "gridcolor": "white",
            "gridwidth": 2,
            "linecolor": "white",
            "showbackground": true,
            "ticks": "",
            "zerolinecolor": "white"
           },
           "yaxis": {
            "backgroundcolor": "#E5ECF6",
            "gridcolor": "white",
            "gridwidth": 2,
            "linecolor": "white",
            "showbackground": true,
            "ticks": "",
            "zerolinecolor": "white"
           },
           "zaxis": {
            "backgroundcolor": "#E5ECF6",
            "gridcolor": "white",
            "gridwidth": 2,
            "linecolor": "white",
            "showbackground": true,
            "ticks": "",
            "zerolinecolor": "white"
           }
          },
          "shapedefaults": {
           "line": {
            "color": "#2a3f5f"
           }
          },
          "ternary": {
           "aaxis": {
            "gridcolor": "white",
            "linecolor": "white",
            "ticks": ""
           },
           "baxis": {
            "gridcolor": "white",
            "linecolor": "white",
            "ticks": ""
           },
           "bgcolor": "#E5ECF6",
           "caxis": {
            "gridcolor": "white",
            "linecolor": "white",
            "ticks": ""
           }
          },
          "title": {
           "x": 0.05
          },
          "xaxis": {
           "automargin": true,
           "gridcolor": "white",
           "linecolor": "white",
           "ticks": "",
           "title": {
            "standoff": 15
           },
           "zerolinecolor": "white",
           "zerolinewidth": 2
          },
          "yaxis": {
           "automargin": true,
           "gridcolor": "white",
           "linecolor": "white",
           "ticks": "",
           "title": {
            "standoff": 15
           },
           "zerolinecolor": "white",
           "zerolinewidth": 2
          }
         }
        },
        "title": {
         "text": "Sector-wise Crop Grievances (Grouped Bar)"
        },
        "xaxis": {
         "anchor": "y",
         "domain": [
          0,
          1
         ],
         "title": {
          "text": "Crop"
         }
        },
        "yaxis": {
         "anchor": "x",
         "domain": [
          0,
          1
         ],
         "title": {
          "text": "Query Count"
         }
        }
       }
      }
     },
     "metadata": {},
     "output_type": "display_data"
    }
   ],
   "source": [
    "crop_sector = df.groupby(['Crop', 'Sector']).size().reset_index(name='Count')\n",
    "top_crop_sector = crop_sector[crop_sector['Crop'].isin(top_crop_names)]\n",
    "fig3 = px.bar(top_crop_sector, x='Crop', y='Count', color='Sector',\n",
    "              title='Sector-wise Crop Grievances (Grouped Bar)',\n",
    "              text='Count', barmode='group')\n",
    "fig3.update_layout(xaxis_title='Crop', yaxis_title='Query Count')\n",
    "fig3.show()"
   ]
  },
  {
   "cell_type": "code",
   "execution_count": 15,
   "id": "63cbf3b7",
   "metadata": {},
   "outputs": [
    {
     "data": {
      "application/vnd.plotly.v1+json": {
       "config": {
        "plotlyServerURL": "https://plot.ly"
       },
       "data": [
        {
         "branchvalues": "total",
         "domain": {
          "x": [
           0,
           1
          ],
          "y": [
           0,
           1
          ]
         },
         "hovertemplate": "labels=%{label}<br>value=%{value}<br>parent=%{parent}<br>id=%{id}<extra></extra>",
         "ids": [
          "AGRICULTURE/Sugarcane (Noble Cane)",
          "HORTICULTURE/Papaya",
          "HORTICULTURE/Mango",
          "AGRICULTURE/Wheat",
          "AGRICULTURE/Others",
          "HORTICULTURE/Tomato",
          "HORTICULTURE/Mentha",
          "HORTICULTURE/Orange",
          "AGRICULTURE/Tomato",
          "HORTICULTURE/Litchi",
          "AGRICULTURE/Groundnut (pea nut/mung phalli)",
          "HORTICULTURE/Watermelon",
          "AGRICULTURE/Potato",
          "HORTICULTURE/Melon",
          "AGRICULTURE/Green Gram (Moong Bean/ Moong)",
          "AGRICULTURE/Maize (Makka)",
          "HORTICULTURE/Pumpkin",
          "AGRICULTURE/Black Gram (urd bean)",
          "HORTICULTURE/Cucumber",
          "ANIMAL HUSBANDRY/POULTRY  FARM ",
          "AGRICULTURE/Mustard",
          "HORTICULTURE/Citrus",
          "HORTICULTURE/Bottle Gourd ",
          "HORTICULTURE/Onion",
          "HORTICULTURE/Guava",
          "HORTICULTURE/Bhindi(Okra/Ladysfinger)",
          "AGRICULTURE/Ridge Gourd",
          "HORTICULTURE/Pomegranate",
          "HORTICULTURE/Jack Fruit",
          "HORTICULTURE/Aonla",
          "AGRICULTURE/Bengal Gram (Gram/Chick Pea/Kabuli/Chana)",
          "AGRICULTURE/Paddy (Dhan)",
          "HORTICULTURE/Coriander",
          "AGRICULTURE/Sorghum (Jowar/Great Millet)",
          "HORTICULTURE/Potato",
          "HORTICULTURE/Mint",
          "HORTICULTURE/Musk Melon",
          "HORTICULTURE/Bitter Gourd",
          "AGRICULTURE/Bhindi(Okra/Ladysfinger)",
          "HORTICULTURE/Radish",
          "AGRICULTURE/Sesame (Gingelly/Til)/Sesamum",
          "HORTICULTURE/Beans ",
          "HORTICULTURE/Cauliflower",
          "HORTICULTURE/Lemon",
          "ANIMAL HUSBANDRY/Bovine(Cow,Buffalo)",
          "AGRICULTURE/Pearl Millet (Bajra/Bulrush Millet/Spiked Millet)",
          "HORTICULTURE/Chillies",
          "HORTICULTURE/Pointed Gourd",
          "FISHERIES/Others",
          "AGRICULTURE/Sunflower (suryamukhi)",
          "HORTICULTURE/Marigold",
          "AGRICULTURE/Mango",
          "HORTICULTURE/Tulsi",
          "HORTICULTURE/Brinjal",
          "HORTICULTURE/Amaranthus/Grain Amaranthus",
          "HORTICULTURE/Ash Gourd (Petha)",
          "HORTICULTURE/Bail",
          "AGRICULTURE/fodder sorghum",
          "HORTICULTURE/Cabbage",
          "HORTICULTURE/Fennel",
          "HORTICULTURE/Ginger",
          "AGRICULTURE/Brown Sarson",
          "AGRICULTURE/Pigeon pea (red gram/arhar/tur)",
          "HORTICULTURE/Banana",
          "HORTICULTURE/Capsicum",
          "AGRICULTURE/French Bean",
          "HORTICULTURE/Neem",
          "HORTICULTURE/Garlic",
          "AGRICULTURE/Barley (Jau)",
          "HORTICULTURE/Rose",
          "HORTICULTURE/Sandal Wood",
          "AGRICULTURE/Linseed (alsi)",
          "HORTICULTURE/Pea (Vegetable)",
          "HORTICULTURE/Safed Musli",
          "HORTICULTURE/Jamun",
          "HORTICULTURE/Clove",
          "HORTICULTURE/lobia ",
          "AGRICULTURE/Garlic",
          "HORTICULTURE/Eculeptous",
          "AGRICULTURE/Soybean (bhat)",
          "HORTICULTURE/Tobacco",
          "AGRICULTURE/Tobacco",
          "AGRICULTURE/Mentha",
          "AGRICULTURE/Tapioca (Cassava)",
          "AGRICULTURE/Sugar Beet",
          "HORTICULTURE/Other",
          "HORTICULTURE/Fenugreek",
          "AGRICULTURE/Fenugreek",
          "HORTICULTURE/Poplar",
          "AGRICULTURE/Lentil (Masur)",
          "AGRICULTURE/Pumpkin",
          "HORTICULTURE/Sponge Gourd",
          "HORTICULTURE/Colocasia (Arvi, Arbi)",
          "AGRICULTURE/fodder maize ",
          "AGRICULTURE/Cucumber",
          "AGRICULTURE/Triticale",
          "HORTICULTURE/Ribbed Gourd (Kali Tori)",
          "AGRICULTURE/Onion",
          "AGRICULTURE/Barseem",
          "HORTICULTURE/Strawberry",
          "AGRICULTURE/Dhaincha",
          "HORTICULTURE/Sapota",
          "HORTICULTURE/Mushroom",
          "AGRICULTURE/Watermelon",
          "HORTICULTURE/Ridge Gourd",
          "AGRICULTURE/Little Millet (Samai/Kutki/kodo-kutki)",
          "HORTICULTURE/Grape",
          "ANIMAL HUSBANDRY/Goat",
          "HORTICULTURE/Sweet Potato",
          "AGRICULTURE/Cotton (Kapas)",
          "AGRICULTURE/Bottle Gourd ",
          "HORTICULTURE/Beet Root (Garden Beet/Stock Beet)",
          "AGRICULTURE/Mint",
          "AGRICULTURE/Bitter Gourd",
          "HORTICULTURE/Indian Squash (Tinda/Round Melon)",
          "AGRICULTURE/Mesta",
          "HORTICULTURE/Amarphophallus (Surankand/Elephant Foot Yam)",
          "HORTICULTURE/OPIUM POPY",
          "AGRICULTURE/Banana",
          "AGRICULTURE/Cauliflower",
          "HORTICULTURE/Ivy Gourd",
          "HORTICULTURE/Carrot",
          "AGRICULTURE/Brinjal",
          "AGRICULTURE/Oats ",
          "AGRICULTURE/Cabbage",
          "AGRICULTURE/Radish",
          "HORTICULTURE/Coconut",
          "HORTICULTURE/Hibiscus (Gurhal)",
          "AGRICULTURE/Chillies",
          "AGRICULTURE/Sweet Potato",
          "AGRICULTURE/Rajmash Bean",
          "HORTICULTURE/Apple",
          "HORTICULTURE/Cowpea (Vegetable)",
          "HORTICULTURE/Spinach (Palak)",
          "HORTICULTURE/Indian Bean (Vegetable)",
          "AGRICULTURE/Indian rapeseed and mustard (yellow sarson)",
          "AGRICULTURE/Beekeeping",
          "AGRICULTURE/Marigold",
          "HORTICULTURE/Jasmine",
          "HORTICULTURE/Custard Apple",
          "HORTICULTURE/Ber",
          "HORTICULTURE/Others",
          "AGRICULTURE/BAJRA NAPIER HYBRID",
          "HORTICULTURE/Turnip (Saljam)",
          "AGRICULTURE/Raya (Indian Mustard)",
          "AGRICULTURE/Napier Grass",
          "AGRICULTURE/Toria",
          "HORTICULTURE/Turmeric",
          "HORTICULTURE/Sagoan",
          "FISHERIES/Fresh Water",
          "HORTICULTURE/Peas (field peas/ garden peas/matar)",
          "AGRICULTURE/Peas (field peas/ garden peas/matar)",
          "AGRICULTURE/Pea (Vegetable)",
          "AGRICULTURE/Rajma (french bean)",
          "ANIMAL HUSBANDRY/Dog",
          "AGRICULTURE/Common Millet (Panivaragu/Chena/Proso Millet/Hogm",
          "HORTICULTURE/Satawar",
          "HORTICULTURE/Periwinkle",
          "AGRICULTURE/Safflower (kusum/kardi)",
          "AGRICULTURE/Lethyrus",
          "HORTICULTURE/China Astor",
          "HORTICULTURE/Chapan Kaddu",
          "AGRICULTURE/Capsicum",
          "HORTICULTURE/Tuberose",
          "HORTICULTURE/Teak",
          "HORTICULTURE/Dolichos Bean",
          "ANIMAL HUSBANDRY/Goose",
          "HORTICULTURE/Mulberry",
          "AGRICULTURE/Castor (Rehri, Rendi, Arandi) ",
          "HORTICULTURE/Garden Pea",
          "AGRICULTURE/Leafy Vegetable",
          "HORTICULTURE/Snake Gourd",
          "AGRICULTURE/0",
          "ANIMAL HUSBANDRY/Others",
          "AGRICULTURE/Sponge Gourd",
          "HORTICULTURE/White Yam",
          "HORTICULTURE/Babool",
          "HORTICULTURE/Almond",
          "HORTICULTURE/Acid Lime",
          "HORTICULTURE/Methi (Fenugreek)",
          "AGRICULTURE/Buffel Grass (Anjan Grass)",
          "AGRICULTURE/Baby Corn",
          "HORTICULTURE/Yard Long Bean",
          "AGRICULTURE/Coriander",
          "AGRICULTURE/FingerMillet  (Ragi/Mandika)",
          "HORTICULTURE/Indian Clover (Senji Sweet Clover)",
          "HORTICULTURE/Aloe Vera",
          "ANIMAL HUSBANDRY/Flying Duck",
          "HORTICULTURE/Bay Leaf",
          "AGRICULTURE/OPIUM POPY",
          "HORTICULTURE/French Bean",
          "AGRICULTURE/Rabbit",
          "FISHERIES/Brackish",
          "ANIMAL HUSBANDRY/Cat",
          "AGRICULTURE/Faba Bean (Horse Bean/windsor Bean)",
          "HORTICULTURE/Gladiolus",
          "AGRICULTURE/Guar",
          "AGRICULTURE/Kodo Millet (Kodara/Varagu)",
          "HORTICULTURE/Kundru",
          "AGRICULTURE/Sunnhemp (Patua)",
          "AGRICULTURE/lobia ",
          "AGRICULTURE/Aonla",
          "HORTICULTURE/Pear",
          "HORTICULTURE/Plum",
          "HORTICULTURE/Walnut",
          "HORTICULTURE/Spine Gourd",
          "HORTICULTURE/Mosambi",
          "AGRICULTURE/Dinanath Grass",
          "AGRICULTURE/Pointed Gourd",
          "AGRICULTURE/Barnyard Millet (Kundiraivlli/Sawan",
          "AGRICULTURE/Other",
          "FISHERIES/Cold Water",
          "AGRICULTURE/Arecanut",
          "AGRICULTURE/Melon",
          "ANIMAL HUSBANDRY/Pig",
          "AGRICULTURE/Beans ",
          "AGRICULTURE/Karan Rai",
          "AGRICULTURE/Carrot",
          "AGRICULTURE/Musk Melon",
          "AGRICULTURE/Ber",
          "HORTICULTURE/Broccoli",
          "ANIMAL HUSBANDRY/Buffel Grass (Anjan Grass)",
          "AGRICULTURE/African Sarson",
          "AGRICULTURE/Sudan Grass",
          "HORTICULTURE/ARUM ",
          "AGRICULTURE/Almond",
          "AGRICULTURE/Ribbed Gourd (Kali Tori)",
          "HORTICULTURE/Greater Yam",
          "HORTICULTURE/Kiwi Fruit",
          "HORTICULTURE/Lahsoda",
          "AGRICULTURE/Guava",
          "HORTICULTURE/Chestnut",
          "AGRICULTURE/Ash Gourd (Petha)",
          "HORTICULTURE/Cumin",
          "HORTICULTURE/Butter Pea (Vegetable)",
          "HORTICULTURE/Runner Bean",
          "FISHERIES/Marine",
          "HORTICULTURE/Drum Stick",
          "HORTICULTURE/Fig",
          "HORTICULTURE/Cluster Bean",
          "HORTICULTURE/Leafy Vegetable",
          "HORTICULTURE/Oil palm",
          "AGRICULTURE",
          "HORTICULTURE",
          "ANIMAL HUSBANDRY",
          "FISHERIES"
         ],
         "labels": [
          "Sugarcane (Noble Cane)",
          "Papaya",
          "Mango",
          "Wheat",
          "Others",
          "Tomato",
          "Mentha",
          "Orange",
          "Tomato",
          "Litchi",
          "Groundnut (pea nut/mung phalli)",
          "Watermelon",
          "Potato",
          "Melon",
          "Green Gram (Moong Bean/ Moong)",
          "Maize (Makka)",
          "Pumpkin",
          "Black Gram (urd bean)",
          "Cucumber",
          "POULTRY  FARM ",
          "Mustard",
          "Citrus",
          "Bottle Gourd ",
          "Onion",
          "Guava",
          "Bhindi(Okra/Ladysfinger)",
          "Ridge Gourd",
          "Pomegranate",
          "Jack Fruit",
          "Aonla",
          "Bengal Gram (Gram/Chick Pea/Kabuli/Chana)",
          "Paddy (Dhan)",
          "Coriander",
          "Sorghum (Jowar/Great Millet)",
          "Potato",
          "Mint",
          "Musk Melon",
          "Bitter Gourd",
          "Bhindi(Okra/Ladysfinger)",
          "Radish",
          "Sesame (Gingelly/Til)/Sesamum",
          "Beans ",
          "Cauliflower",
          "Lemon",
          "Bovine(Cow,Buffalo)",
          "Pearl Millet (Bajra/Bulrush Millet/Spiked Millet)",
          "Chillies",
          "Pointed Gourd",
          "Others",
          "Sunflower (suryamukhi)",
          "Marigold",
          "Mango",
          "Tulsi",
          "Brinjal",
          "Amaranthus/Grain Amaranthus",
          "Ash Gourd (Petha)",
          "Bail",
          "fodder sorghum",
          "Cabbage",
          "Fennel",
          "Ginger",
          "Brown Sarson",
          "Pigeon pea (red gram/arhar/tur)",
          "Banana",
          "Capsicum",
          "French Bean",
          "Neem",
          "Garlic",
          "Barley (Jau)",
          "Rose",
          "Sandal Wood",
          "Linseed (alsi)",
          "Pea (Vegetable)",
          "Safed Musli",
          "Jamun",
          "Clove",
          "lobia ",
          "Garlic",
          "Eculeptous",
          "Soybean (bhat)",
          "Tobacco",
          "Tobacco",
          "Mentha",
          "Tapioca (Cassava)",
          "Sugar Beet",
          "Other",
          "Fenugreek",
          "Fenugreek",
          "Poplar",
          "Lentil (Masur)",
          "Pumpkin",
          "Sponge Gourd",
          "Colocasia (Arvi, Arbi)",
          "fodder maize ",
          "Cucumber",
          "Triticale",
          "Ribbed Gourd (Kali Tori)",
          "Onion",
          "Barseem",
          "Strawberry",
          "Dhaincha",
          "Sapota",
          "Mushroom",
          "Watermelon",
          "Ridge Gourd",
          "Little Millet (Samai/Kutki/kodo-kutki)",
          "Grape",
          "Goat",
          "Sweet Potato",
          "Cotton (Kapas)",
          "Bottle Gourd ",
          "Beet Root (Garden Beet/Stock Beet)",
          "Mint",
          "Bitter Gourd",
          "Indian Squash (Tinda/Round Melon)",
          "Mesta",
          "Amarphophallus (Surankand/Elephant Foot Yam)",
          "OPIUM POPY",
          "Banana",
          "Cauliflower",
          "Ivy Gourd",
          "Carrot",
          "Brinjal",
          "Oats ",
          "Cabbage",
          "Radish",
          "Coconut",
          "Hibiscus (Gurhal)",
          "Chillies",
          "Sweet Potato",
          "Rajmash Bean",
          "Apple",
          "Cowpea (Vegetable)",
          "Spinach (Palak)",
          "Indian Bean (Vegetable)",
          "Indian rapeseed and mustard (yellow sarson)",
          "Beekeeping",
          "Marigold",
          "Jasmine",
          "Custard Apple",
          "Ber",
          "Others",
          "BAJRA NAPIER HYBRID",
          "Turnip (Saljam)",
          "Raya (Indian Mustard)",
          "Napier Grass",
          "Toria",
          "Turmeric",
          "Sagoan",
          "Fresh Water",
          "Peas (field peas/ garden peas/matar)",
          "Peas (field peas/ garden peas/matar)",
          "Pea (Vegetable)",
          "Rajma (french bean)",
          "Dog",
          "Common Millet (Panivaragu/Chena/Proso Millet/Hogm",
          "Satawar",
          "Periwinkle",
          "Safflower (kusum/kardi)",
          "Lethyrus",
          "China Astor",
          "Chapan Kaddu",
          "Capsicum",
          "Tuberose",
          "Teak",
          "Dolichos Bean",
          "Goose",
          "Mulberry",
          "Castor (Rehri, Rendi, Arandi) ",
          "Garden Pea",
          "Leafy Vegetable",
          "Snake Gourd",
          "0",
          "Others",
          "Sponge Gourd",
          "White Yam",
          "Babool",
          "Almond",
          "Acid Lime",
          "Methi (Fenugreek)",
          "Buffel Grass (Anjan Grass)",
          "Baby Corn",
          "Yard Long Bean",
          "Coriander",
          "FingerMillet  (Ragi/Mandika)",
          "Indian Clover (Senji Sweet Clover)",
          "Aloe Vera",
          "Flying Duck",
          "Bay Leaf",
          "OPIUM POPY",
          "French Bean",
          "Rabbit",
          "Brackish",
          "Cat",
          "Faba Bean (Horse Bean/windsor Bean)",
          "Gladiolus",
          "Guar",
          "Kodo Millet (Kodara/Varagu)",
          "Kundru",
          "Sunnhemp (Patua)",
          "lobia ",
          "Aonla",
          "Pear",
          "Plum",
          "Walnut",
          "Spine Gourd",
          "Mosambi",
          "Dinanath Grass",
          "Pointed Gourd",
          "Barnyard Millet (Kundiraivlli/Sawan",
          "Other",
          "Cold Water",
          "Arecanut",
          "Melon",
          "Pig",
          "Beans ",
          "Karan Rai",
          "Carrot",
          "Musk Melon",
          "Ber",
          "Broccoli",
          "Buffel Grass (Anjan Grass)",
          "African Sarson",
          "Sudan Grass",
          "ARUM ",
          "Almond",
          "Ribbed Gourd (Kali Tori)",
          "Greater Yam",
          "Kiwi Fruit",
          "Lahsoda",
          "Guava",
          "Chestnut",
          "Ash Gourd (Petha)",
          "Cumin",
          "Butter Pea (Vegetable)",
          "Runner Bean",
          "Marine",
          "Drum Stick",
          "Fig",
          "Cluster Bean",
          "Leafy Vegetable",
          "Oil palm",
          "AGRICULTURE",
          "HORTICULTURE",
          "ANIMAL HUSBANDRY",
          "FISHERIES"
         ],
         "name": "",
         "parents": [
          "AGRICULTURE",
          "HORTICULTURE",
          "HORTICULTURE",
          "AGRICULTURE",
          "AGRICULTURE",
          "HORTICULTURE",
          "HORTICULTURE",
          "HORTICULTURE",
          "AGRICULTURE",
          "HORTICULTURE",
          "AGRICULTURE",
          "HORTICULTURE",
          "AGRICULTURE",
          "HORTICULTURE",
          "AGRICULTURE",
          "AGRICULTURE",
          "HORTICULTURE",
          "AGRICULTURE",
          "HORTICULTURE",
          "ANIMAL HUSBANDRY",
          "AGRICULTURE",
          "HORTICULTURE",
          "HORTICULTURE",
          "HORTICULTURE",
          "HORTICULTURE",
          "HORTICULTURE",
          "AGRICULTURE",
          "HORTICULTURE",
          "HORTICULTURE",
          "HORTICULTURE",
          "AGRICULTURE",
          "AGRICULTURE",
          "HORTICULTURE",
          "AGRICULTURE",
          "HORTICULTURE",
          "HORTICULTURE",
          "HORTICULTURE",
          "HORTICULTURE",
          "AGRICULTURE",
          "HORTICULTURE",
          "AGRICULTURE",
          "HORTICULTURE",
          "HORTICULTURE",
          "HORTICULTURE",
          "ANIMAL HUSBANDRY",
          "AGRICULTURE",
          "HORTICULTURE",
          "HORTICULTURE",
          "FISHERIES",
          "AGRICULTURE",
          "HORTICULTURE",
          "AGRICULTURE",
          "HORTICULTURE",
          "HORTICULTURE",
          "HORTICULTURE",
          "HORTICULTURE",
          "HORTICULTURE",
          "AGRICULTURE",
          "HORTICULTURE",
          "HORTICULTURE",
          "HORTICULTURE",
          "AGRICULTURE",
          "AGRICULTURE",
          "HORTICULTURE",
          "HORTICULTURE",
          "AGRICULTURE",
          "HORTICULTURE",
          "HORTICULTURE",
          "AGRICULTURE",
          "HORTICULTURE",
          "HORTICULTURE",
          "AGRICULTURE",
          "HORTICULTURE",
          "HORTICULTURE",
          "HORTICULTURE",
          "HORTICULTURE",
          "HORTICULTURE",
          "AGRICULTURE",
          "HORTICULTURE",
          "AGRICULTURE",
          "HORTICULTURE",
          "AGRICULTURE",
          "AGRICULTURE",
          "AGRICULTURE",
          "AGRICULTURE",
          "HORTICULTURE",
          "HORTICULTURE",
          "AGRICULTURE",
          "HORTICULTURE",
          "AGRICULTURE",
          "AGRICULTURE",
          "HORTICULTURE",
          "HORTICULTURE",
          "AGRICULTURE",
          "AGRICULTURE",
          "AGRICULTURE",
          "HORTICULTURE",
          "AGRICULTURE",
          "AGRICULTURE",
          "HORTICULTURE",
          "AGRICULTURE",
          "HORTICULTURE",
          "HORTICULTURE",
          "AGRICULTURE",
          "HORTICULTURE",
          "AGRICULTURE",
          "HORTICULTURE",
          "ANIMAL HUSBANDRY",
          "HORTICULTURE",
          "AGRICULTURE",
          "AGRICULTURE",
          "HORTICULTURE",
          "AGRICULTURE",
          "AGRICULTURE",
          "HORTICULTURE",
          "AGRICULTURE",
          "HORTICULTURE",
          "HORTICULTURE",
          "AGRICULTURE",
          "AGRICULTURE",
          "HORTICULTURE",
          "HORTICULTURE",
          "AGRICULTURE",
          "AGRICULTURE",
          "AGRICULTURE",
          "AGRICULTURE",
          "HORTICULTURE",
          "HORTICULTURE",
          "AGRICULTURE",
          "AGRICULTURE",
          "AGRICULTURE",
          "HORTICULTURE",
          "HORTICULTURE",
          "HORTICULTURE",
          "HORTICULTURE",
          "AGRICULTURE",
          "AGRICULTURE",
          "AGRICULTURE",
          "HORTICULTURE",
          "HORTICULTURE",
          "HORTICULTURE",
          "HORTICULTURE",
          "AGRICULTURE",
          "HORTICULTURE",
          "AGRICULTURE",
          "AGRICULTURE",
          "AGRICULTURE",
          "HORTICULTURE",
          "HORTICULTURE",
          "FISHERIES",
          "HORTICULTURE",
          "AGRICULTURE",
          "AGRICULTURE",
          "AGRICULTURE",
          "ANIMAL HUSBANDRY",
          "AGRICULTURE",
          "HORTICULTURE",
          "HORTICULTURE",
          "AGRICULTURE",
          "AGRICULTURE",
          "HORTICULTURE",
          "HORTICULTURE",
          "AGRICULTURE",
          "HORTICULTURE",
          "HORTICULTURE",
          "HORTICULTURE",
          "ANIMAL HUSBANDRY",
          "HORTICULTURE",
          "AGRICULTURE",
          "HORTICULTURE",
          "AGRICULTURE",
          "HORTICULTURE",
          "AGRICULTURE",
          "ANIMAL HUSBANDRY",
          "AGRICULTURE",
          "HORTICULTURE",
          "HORTICULTURE",
          "HORTICULTURE",
          "HORTICULTURE",
          "HORTICULTURE",
          "AGRICULTURE",
          "AGRICULTURE",
          "HORTICULTURE",
          "AGRICULTURE",
          "AGRICULTURE",
          "HORTICULTURE",
          "HORTICULTURE",
          "ANIMAL HUSBANDRY",
          "HORTICULTURE",
          "AGRICULTURE",
          "HORTICULTURE",
          "AGRICULTURE",
          "FISHERIES",
          "ANIMAL HUSBANDRY",
          "AGRICULTURE",
          "HORTICULTURE",
          "AGRICULTURE",
          "AGRICULTURE",
          "HORTICULTURE",
          "AGRICULTURE",
          "AGRICULTURE",
          "AGRICULTURE",
          "HORTICULTURE",
          "HORTICULTURE",
          "HORTICULTURE",
          "HORTICULTURE",
          "HORTICULTURE",
          "AGRICULTURE",
          "AGRICULTURE",
          "AGRICULTURE",
          "AGRICULTURE",
          "FISHERIES",
          "AGRICULTURE",
          "AGRICULTURE",
          "ANIMAL HUSBANDRY",
          "AGRICULTURE",
          "AGRICULTURE",
          "AGRICULTURE",
          "AGRICULTURE",
          "AGRICULTURE",
          "HORTICULTURE",
          "ANIMAL HUSBANDRY",
          "AGRICULTURE",
          "AGRICULTURE",
          "HORTICULTURE",
          "AGRICULTURE",
          "AGRICULTURE",
          "HORTICULTURE",
          "HORTICULTURE",
          "HORTICULTURE",
          "AGRICULTURE",
          "HORTICULTURE",
          "AGRICULTURE",
          "HORTICULTURE",
          "HORTICULTURE",
          "HORTICULTURE",
          "FISHERIES",
          "HORTICULTURE",
          "HORTICULTURE",
          "HORTICULTURE",
          "HORTICULTURE",
          "HORTICULTURE",
          "",
          "",
          "",
          ""
         ],
         "type": "treemap",
         "values": {
          "bdata": "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",
          "dtype": "f8"
         }
        }
       ],
       "layout": {
        "legend": {
         "tracegroupgap": 0
        },
        "template": {
         "data": {
          "bar": [
           {
            "error_x": {
             "color": "#2a3f5f"
            },
            "error_y": {
             "color": "#2a3f5f"
            },
            "marker": {
             "line": {
              "color": "#E5ECF6",
              "width": 0.5
             },
             "pattern": {
              "fillmode": "overlay",
              "size": 10,
              "solidity": 0.2
             }
            },
            "type": "bar"
           }
          ],
          "barpolar": [
           {
            "marker": {
             "line": {
              "color": "#E5ECF6",
              "width": 0.5
             },
             "pattern": {
              "fillmode": "overlay",
              "size": 10,
              "solidity": 0.2
             }
            },
            "type": "barpolar"
           }
          ],
          "carpet": [
           {
            "aaxis": {
             "endlinecolor": "#2a3f5f",
             "gridcolor": "white",
             "linecolor": "white",
             "minorgridcolor": "white",
             "startlinecolor": "#2a3f5f"
            },
            "baxis": {
             "endlinecolor": "#2a3f5f",
             "gridcolor": "white",
             "linecolor": "white",
             "minorgridcolor": "white",
             "startlinecolor": "#2a3f5f"
            },
            "type": "carpet"
           }
          ],
          "choropleth": [
           {
            "colorbar": {
             "outlinewidth": 0,
             "ticks": ""
            },
            "type": "choropleth"
           }
          ],
          "contour": [
           {
            "colorbar": {
             "outlinewidth": 0,
             "ticks": ""
            },
            "colorscale": [
             [
              0,
              "#0d0887"
             ],
             [
              0.1111111111111111,
              "#46039f"
             ],
             [
              0.2222222222222222,
              "#7201a8"
             ],
             [
              0.3333333333333333,
              "#9c179e"
             ],
             [
              0.4444444444444444,
              "#bd3786"
             ],
             [
              0.5555555555555556,
              "#d8576b"
             ],
             [
              0.6666666666666666,
              "#ed7953"
             ],
             [
              0.7777777777777778,
              "#fb9f3a"
             ],
             [
              0.8888888888888888,
              "#fdca26"
             ],
             [
              1,
              "#f0f921"
             ]
            ],
            "type": "contour"
           }
          ],
          "contourcarpet": [
           {
            "colorbar": {
             "outlinewidth": 0,
             "ticks": ""
            },
            "type": "contourcarpet"
           }
          ],
          "heatmap": [
           {
            "colorbar": {
             "outlinewidth": 0,
             "ticks": ""
            },
            "colorscale": [
             [
              0,
              "#0d0887"
             ],
             [
              0.1111111111111111,
              "#46039f"
             ],
             [
              0.2222222222222222,
              "#7201a8"
             ],
             [
              0.3333333333333333,
              "#9c179e"
             ],
             [
              0.4444444444444444,
              "#bd3786"
             ],
             [
              0.5555555555555556,
              "#d8576b"
             ],
             [
              0.6666666666666666,
              "#ed7953"
             ],
             [
              0.7777777777777778,
              "#fb9f3a"
             ],
             [
              0.8888888888888888,
              "#fdca26"
             ],
             [
              1,
              "#f0f921"
             ]
            ],
            "type": "heatmap"
           }
          ],
          "histogram": [
           {
            "marker": {
             "pattern": {
              "fillmode": "overlay",
              "size": 10,
              "solidity": 0.2
             }
            },
            "type": "histogram"
           }
          ],
          "histogram2d": [
           {
            "colorbar": {
             "outlinewidth": 0,
             "ticks": ""
            },
            "colorscale": [
             [
              0,
              "#0d0887"
             ],
             [
              0.1111111111111111,
              "#46039f"
             ],
             [
              0.2222222222222222,
              "#7201a8"
             ],
             [
              0.3333333333333333,
              "#9c179e"
             ],
             [
              0.4444444444444444,
              "#bd3786"
             ],
             [
              0.5555555555555556,
              "#d8576b"
             ],
             [
              0.6666666666666666,
              "#ed7953"
             ],
             [
              0.7777777777777778,
              "#fb9f3a"
             ],
             [
              0.8888888888888888,
              "#fdca26"
             ],
             [
              1,
              "#f0f921"
             ]
            ],
            "type": "histogram2d"
           }
          ],
          "histogram2dcontour": [
           {
            "colorbar": {
             "outlinewidth": 0,
             "ticks": ""
            },
            "colorscale": [
             [
              0,
              "#0d0887"
             ],
             [
              0.1111111111111111,
              "#46039f"
             ],
             [
              0.2222222222222222,
              "#7201a8"
             ],
             [
              0.3333333333333333,
              "#9c179e"
             ],
             [
              0.4444444444444444,
              "#bd3786"
             ],
             [
              0.5555555555555556,
              "#d8576b"
             ],
             [
              0.6666666666666666,
              "#ed7953"
             ],
             [
              0.7777777777777778,
              "#fb9f3a"
             ],
             [
              0.8888888888888888,
              "#fdca26"
             ],
             [
              1,
              "#f0f921"
             ]
            ],
            "type": "histogram2dcontour"
           }
          ],
          "mesh3d": [
           {
            "colorbar": {
             "outlinewidth": 0,
             "ticks": ""
            },
            "type": "mesh3d"
           }
          ],
          "parcoords": [
           {
            "line": {
             "colorbar": {
              "outlinewidth": 0,
              "ticks": ""
             }
            },
            "type": "parcoords"
           }
          ],
          "pie": [
           {
            "automargin": true,
            "type": "pie"
           }
          ],
          "scatter": [
           {
            "fillpattern": {
             "fillmode": "overlay",
             "size": 10,
             "solidity": 0.2
            },
            "type": "scatter"
           }
          ],
          "scatter3d": [
           {
            "line": {
             "colorbar": {
              "outlinewidth": 0,
              "ticks": ""
             }
            },
            "marker": {
             "colorbar": {
              "outlinewidth": 0,
              "ticks": ""
             }
            },
            "type": "scatter3d"
           }
          ],
          "scattercarpet": [
           {
            "marker": {
             "colorbar": {
              "outlinewidth": 0,
              "ticks": ""
             }
            },
            "type": "scattercarpet"
           }
          ],
          "scattergeo": [
           {
            "marker": {
             "colorbar": {
              "outlinewidth": 0,
              "ticks": ""
             }
            },
            "type": "scattergeo"
           }
          ],
          "scattergl": [
           {
            "marker": {
             "colorbar": {
              "outlinewidth": 0,
              "ticks": ""
             }
            },
            "type": "scattergl"
           }
          ],
          "scattermap": [
           {
            "marker": {
             "colorbar": {
              "outlinewidth": 0,
              "ticks": ""
             }
            },
            "type": "scattermap"
           }
          ],
          "scattermapbox": [
           {
            "marker": {
             "colorbar": {
              "outlinewidth": 0,
              "ticks": ""
             }
            },
            "type": "scattermapbox"
           }
          ],
          "scatterpolar": [
           {
            "marker": {
             "colorbar": {
              "outlinewidth": 0,
              "ticks": ""
             }
            },
            "type": "scatterpolar"
           }
          ],
          "scatterpolargl": [
           {
            "marker": {
             "colorbar": {
              "outlinewidth": 0,
              "ticks": ""
             }
            },
            "type": "scatterpolargl"
           }
          ],
          "scatterternary": [
           {
            "marker": {
             "colorbar": {
              "outlinewidth": 0,
              "ticks": ""
             }
            },
            "type": "scatterternary"
           }
          ],
          "surface": [
           {
            "colorbar": {
             "outlinewidth": 0,
             "ticks": ""
            },
            "colorscale": [
             [
              0,
              "#0d0887"
             ],
             [
              0.1111111111111111,
              "#46039f"
             ],
             [
              0.2222222222222222,
              "#7201a8"
             ],
             [
              0.3333333333333333,
              "#9c179e"
             ],
             [
              0.4444444444444444,
              "#bd3786"
             ],
             [
              0.5555555555555556,
              "#d8576b"
             ],
             [
              0.6666666666666666,
              "#ed7953"
             ],
             [
              0.7777777777777778,
              "#fb9f3a"
             ],
             [
              0.8888888888888888,
              "#fdca26"
             ],
             [
              1,
              "#f0f921"
             ]
            ],
            "type": "surface"
           }
          ],
          "table": [
           {
            "cells": {
             "fill": {
              "color": "#EBF0F8"
             },
             "line": {
              "color": "white"
             }
            },
            "header": {
             "fill": {
              "color": "#C8D4E3"
             },
             "line": {
              "color": "white"
             }
            },
            "type": "table"
           }
          ]
         },
         "layout": {
          "annotationdefaults": {
           "arrowcolor": "#2a3f5f",
           "arrowhead": 0,
           "arrowwidth": 1
          },
          "autotypenumbers": "strict",
          "coloraxis": {
           "colorbar": {
            "outlinewidth": 0,
            "ticks": ""
           }
          },
          "colorscale": {
           "diverging": [
            [
             0,
             "#8e0152"
            ],
            [
             0.1,
             "#c51b7d"
            ],
            [
             0.2,
             "#de77ae"
            ],
            [
             0.3,
             "#f1b6da"
            ],
            [
             0.4,
             "#fde0ef"
            ],
            [
             0.5,
             "#f7f7f7"
            ],
            [
             0.6,
             "#e6f5d0"
            ],
            [
             0.7,
             "#b8e186"
            ],
            [
             0.8,
             "#7fbc41"
            ],
            [
             0.9,
             "#4d9221"
            ],
            [
             1,
             "#276419"
            ]
           ],
           "sequential": [
            [
             0,
             "#0d0887"
            ],
            [
             0.1111111111111111,
             "#46039f"
            ],
            [
             0.2222222222222222,
             "#7201a8"
            ],
            [
             0.3333333333333333,
             "#9c179e"
            ],
            [
             0.4444444444444444,
             "#bd3786"
            ],
            [
             0.5555555555555556,
             "#d8576b"
            ],
            [
             0.6666666666666666,
             "#ed7953"
            ],
            [
             0.7777777777777778,
             "#fb9f3a"
            ],
            [
             0.8888888888888888,
             "#fdca26"
            ],
            [
             1,
             "#f0f921"
            ]
           ],
           "sequentialminus": [
            [
             0,
             "#0d0887"
            ],
            [
             0.1111111111111111,
             "#46039f"
            ],
            [
             0.2222222222222222,
             "#7201a8"
            ],
            [
             0.3333333333333333,
             "#9c179e"
            ],
            [
             0.4444444444444444,
             "#bd3786"
            ],
            [
             0.5555555555555556,
             "#d8576b"
            ],
            [
             0.6666666666666666,
             "#ed7953"
            ],
            [
             0.7777777777777778,
             "#fb9f3a"
            ],
            [
             0.8888888888888888,
             "#fdca26"
            ],
            [
             1,
             "#f0f921"
            ]
           ]
          },
          "colorway": [
           "#636efa",
           "#EF553B",
           "#00cc96",
           "#ab63fa",
           "#FFA15A",
           "#19d3f3",
           "#FF6692",
           "#B6E880",
           "#FF97FF",
           "#FECB52"
          ],
          "font": {
           "color": "#2a3f5f"
          },
          "geo": {
           "bgcolor": "white",
           "lakecolor": "white",
           "landcolor": "#E5ECF6",
           "showlakes": true,
           "showland": true,
           "subunitcolor": "white"
          },
          "hoverlabel": {
           "align": "left"
          },
          "hovermode": "closest",
          "mapbox": {
           "style": "light"
          },
          "paper_bgcolor": "white",
          "plot_bgcolor": "#E5ECF6",
          "polar": {
           "angularaxis": {
            "gridcolor": "white",
            "linecolor": "white",
            "ticks": ""
           },
           "bgcolor": "#E5ECF6",
           "radialaxis": {
            "gridcolor": "white",
            "linecolor": "white",
            "ticks": ""
           }
          },
          "scene": {
           "xaxis": {
            "backgroundcolor": "#E5ECF6",
            "gridcolor": "white",
            "gridwidth": 2,
            "linecolor": "white",
            "showbackground": true,
            "ticks": "",
            "zerolinecolor": "white"
           },
           "yaxis": {
            "backgroundcolor": "#E5ECF6",
            "gridcolor": "white",
            "gridwidth": 2,
            "linecolor": "white",
            "showbackground": true,
            "ticks": "",
            "zerolinecolor": "white"
           },
           "zaxis": {
            "backgroundcolor": "#E5ECF6",
            "gridcolor": "white",
            "gridwidth": 2,
            "linecolor": "white",
            "showbackground": true,
            "ticks": "",
            "zerolinecolor": "white"
           }
          },
          "shapedefaults": {
           "line": {
            "color": "#2a3f5f"
           }
          },
          "ternary": {
           "aaxis": {
            "gridcolor": "white",
            "linecolor": "white",
            "ticks": ""
           },
           "baxis": {
            "gridcolor": "white",
            "linecolor": "white",
            "ticks": ""
           },
           "bgcolor": "#E5ECF6",
           "caxis": {
            "gridcolor": "white",
            "linecolor": "white",
            "ticks": ""
           }
          },
          "title": {
           "x": 0.05
          },
          "xaxis": {
           "automargin": true,
           "gridcolor": "white",
           "linecolor": "white",
           "ticks": "",
           "title": {
            "standoff": 15
           },
           "zerolinecolor": "white",
           "zerolinewidth": 2
          },
          "yaxis": {
           "automargin": true,
           "gridcolor": "white",
           "linecolor": "white",
           "ticks": "",
           "title": {
            "standoff": 15
           },
           "zerolinecolor": "white",
           "zerolinewidth": 2
          }
         }
        },
        "title": {
         "text": "Treemap: Crop Grievances by Sector"
        }
       }
      }
     },
     "metadata": {},
     "output_type": "display_data"
    }
   ],
   "source": [
    "fig4 = px.treemap(df, path=['Sector', 'Crop'], \n",
    "                  values=[1]*len(df),  # har row ko 1 count ki tarah treat karo\n",
    "                  title='Treemap: Crop Grievances by Sector')\n",
    "fig4.show()"
   ]
  },
  {
   "cell_type": "code",
   "execution_count": null,
   "id": "4eec61a2",
   "metadata": {},
   "outputs": [],
   "source": []
  }
 ],
 "metadata": {
  "kernelspec": {
   "display_name": "Python 3",
   "language": "python",
   "name": "python3"
  },
  "language_info": {
   "codemirror_mode": {
    "name": "ipython",
    "version": 3
   },
   "file_extension": ".py",
   "mimetype": "text/x-python",
   "name": "python",
   "nbconvert_exporter": "python",
   "pygments_lexer": "ipython3",
   "version": "3.13.3"
  }
 },
 "nbformat": 4,
 "nbformat_minor": 5
}
